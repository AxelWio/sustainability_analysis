{
 "cells": [
  {
   "cell_type": "markdown",
   "id": "e31020fa-9e96-409d-b5b7-1c9d328bd343",
   "metadata": {},
   "source": [
    "# Sustainability Anlysis"
   ]
  },
  {
   "cell_type": "markdown",
   "id": "04ca6821-8283-4349-a681-261746a0971c",
   "metadata": {},
   "source": [
    "# 1 Configuration"
   ]
  },
  {
   "cell_type": "code",
   "execution_count": 15,
   "id": "7ba23804-4c6c-4544-91dc-eeb2921cd127",
   "metadata": {
    "tags": []
   },
   "outputs": [],
   "source": [
    "import os\n",
    "import pandas as pd\n",
    "import PyPDF2\n",
    "import string\n",
    "import unicodedata\n",
    "from tqdm import tqdm\n",
    "from scipy.stats import spearmanr\n",
    "from scipy.stats import kruskal\n",
    "import statsmodels.api as sm"
   ]
  },
  {
   "cell_type": "markdown",
   "id": "1c6ea796-49d1-4447-8c16-4be45ab1f4dc",
   "metadata": {},
   "source": [
    "# 2 Convert Sustainability Reports to Text Files"
   ]
  },
  {
   "cell_type": "code",
   "execution_count": 38,
   "id": "6079a0cb-f630-41e0-87a0-e8ed33c2e60a",
   "metadata": {
    "tags": []
   },
   "outputs": [],
   "source": [
    "def report_to_text(report):\n",
    "    \"\"\"Create a text string of pdf-file content\"\"\"\n",
    "    pdfFileObj = open(f\"Reports/{report}.pdf\", \"rb\")\n",
    "    pdfReader = PyPDF2.PdfReader(pdfFileObj)\n",
    "    no_pages = len(pdfReader.pages)\n",
    "\n",
    "    report_text = \"\"\n",
    "    for i in range(0,no_pages):\n",
    "        pageObj = pdfReader.pages[i]\n",
    "        report_text += pageObj.extract_text()\n",
    "    \n",
    "    return report_text"
   ]
  },
  {
   "cell_type": "code",
   "execution_count": 39,
   "id": "d7ec35a0-4293-46ad-b812-28391ce449ad",
   "metadata": {},
   "outputs": [
    {
     "name": "stderr",
     "output_type": "stream",
     "text": [
      "  0%|          | 0/159 [00:00<?, ?it/s]"
     ]
    },
    {
     "name": "stdout",
     "output_type": "stream",
     "text": [
      "TRADERA 2021\n"
     ]
    },
    {
     "name": "stderr",
     "output_type": "stream",
     "text": [
      "\n"
     ]
    },
    {
     "ename": "FileNotFoundError",
     "evalue": "[Errno 2] No such file or directory: 'Reports_text/TRADERA 2021.txt'",
     "output_type": "error",
     "traceback": [
      "\u001b[0;31m---------------------------------------------------------------------------\u001b[0m",
      "\u001b[0;31mFileNotFoundError\u001b[0m                         Traceback (most recent call last)",
      "\u001b[0;32m/tmp/ipykernel_87/1311542424.py\u001b[0m in \u001b[0;36m<cell line: 4>\u001b[0;34m()\u001b[0m\n\u001b[1;32m      5\u001b[0m     \u001b[0mreport_text\u001b[0m \u001b[0;34m=\u001b[0m \u001b[0mreport_to_text\u001b[0m\u001b[0;34m(\u001b[0m\u001b[0mreport\u001b[0m\u001b[0;34m)\u001b[0m\u001b[0;34m\u001b[0m\u001b[0;34m\u001b[0m\u001b[0m\n\u001b[1;32m      6\u001b[0m     \u001b[0mprint\u001b[0m\u001b[0;34m(\u001b[0m\u001b[0mreport\u001b[0m\u001b[0;34m)\u001b[0m\u001b[0;34m\u001b[0m\u001b[0;34m\u001b[0m\u001b[0m\n\u001b[0;32m----> 7\u001b[0;31m     \u001b[0mf\u001b[0m \u001b[0;34m=\u001b[0m \u001b[0mopen\u001b[0m\u001b[0;34m(\u001b[0m\u001b[0;34mf\"Reports_text/{report}.txt\"\u001b[0m\u001b[0;34m,\u001b[0m \u001b[0;34m\"a\"\u001b[0m\u001b[0;34m)\u001b[0m\u001b[0;34m\u001b[0m\u001b[0;34m\u001b[0m\u001b[0m\n\u001b[0m\u001b[1;32m      8\u001b[0m     \u001b[0mf\u001b[0m\u001b[0;34m.\u001b[0m\u001b[0mwrite\u001b[0m\u001b[0;34m(\u001b[0m\u001b[0mreport_text\u001b[0m\u001b[0;34m)\u001b[0m\u001b[0;34m\u001b[0m\u001b[0;34m\u001b[0m\u001b[0m\n\u001b[1;32m      9\u001b[0m     \u001b[0mf\u001b[0m\u001b[0;34m.\u001b[0m\u001b[0mclose\u001b[0m\u001b[0;34m(\u001b[0m\u001b[0;34m)\u001b[0m\u001b[0;34m\u001b[0m\u001b[0;34m\u001b[0m\u001b[0m\n",
      "\u001b[0;31mFileNotFoundError\u001b[0m: [Errno 2] No such file or directory: 'Reports_text/TRADERA 2021.txt'"
     ]
    }
   ],
   "source": [
    "file_names = os.listdir(\"Reports\")\n",
    "report_file_names = [f[:-4] for f in file_names if f[-4:] == \".pdf\"]\n",
    "\n",
    "for report in tqdm(report_file_names):\n",
    "    report_text = report_to_text(report)\n",
    "    print(report)\n",
    "    f = open(f\"Reports_text/{report}.txt\", \"a\")\n",
    "    f.write(report_text)\n",
    "    f.close()"
   ]
  },
  {
   "cell_type": "markdown",
   "id": "e2eddea3-9bf0-4a44-9252-c2f59b6b6748",
   "metadata": {},
   "source": [
    "# 3 Create Sustainability Report Table "
   ]
  },
  {
   "cell_type": "code",
   "execution_count": 41,
   "id": "401f7e6f-5a35-44af-aa2b-13ca7203db89",
   "metadata": {
    "tags": []
   },
   "outputs": [],
   "source": [
    "# Create an empty table\n",
    "report_table = pd.DataFrame(columns=[\"report_name\", \"content\"])\n",
    "# List text files in directory\n",
    "file_names = os.listdir(\"reports_text\")\n",
    "text_file_names = [f[:-4] for f in file_names if f[-4:] == \".txt\"]\n",
    "# Append report name and report text for each report\n",
    "for text_file_name in text_file_names:\n",
    "    # Read text from report text file\n",
    "    text_file = open(f\"reports_text/{text_file_name}.txt\", \"r\")\n",
    "    content = text_file.read()\n",
    "    content = (content\n",
    "               .replace(\"\\n\", \" \").replace(\"\\r\", \" \").replace(\"\\t\", \" \")\n",
    "               .replace(\",\", \"\").replace(\".\", \"\").replace(\":\", \"\")\n",
    "               .replace(\";\", \"\").replace(\"-\", \" \").replace(\"|\", \" \")\n",
    "               .replace(\"(\", \"\").replace(\")\", \"\").replace(\"?\", \"\")\n",
    "               .replace(\"!\", \"\").replace(\"\\'\", \"\").replace('\\\"', \"\"))\n",
    "    # print(content)\n",
    "    text_file.close()    \n",
    "    # Append report name and text to table\n",
    "    report_row = pd.DataFrame([[text_file_name [:-5], content]], columns=[\"report_name\", \"content\"])\n",
    "    report_table = pd.concat([report_table, report_row],  axis=0, ignore_index=True)\n",
    "# Save table as csv file\n",
    "report_table.to_csv(\"reports.csv\", index=False)"
   ]
  },
  {
   "cell_type": "code",
   "execution_count": 42,
   "id": "57e3dc71-6b3a-4934-b06d-25931212ee44",
   "metadata": {
    "tags": []
   },
   "outputs": [
    {
     "data": {
      "text/html": [
       "<div>\n",
       "<style scoped>\n",
       "    .dataframe tbody tr th:only-of-type {\n",
       "        vertical-align: middle;\n",
       "    }\n",
       "\n",
       "    .dataframe tbody tr th {\n",
       "        vertical-align: top;\n",
       "    }\n",
       "\n",
       "    .dataframe thead th {\n",
       "        text-align: right;\n",
       "    }\n",
       "</style>\n",
       "<table border=\"1\" class=\"dataframe\">\n",
       "  <thead>\n",
       "    <tr style=\"text-align: right;\">\n",
       "      <th></th>\n",
       "      <th>report_name</th>\n",
       "      <th>content</th>\n",
       "    </tr>\n",
       "  </thead>\n",
       "  <tbody>\n",
       "    <tr>\n",
       "      <th>0</th>\n",
       "      <td>TRADERA</td>\n",
       "      <td>Climate Impact Report 2021 This is Traderas th...</td>\n",
       "    </tr>\n",
       "    <tr>\n",
       "      <th>1</th>\n",
       "      <td>SWEDBANK</td>\n",
       "      <td>1     SUSTAINABILITY POLICY     Adopted by  ...</td>\n",
       "    </tr>\n",
       "    <tr>\n",
       "      <th>2</th>\n",
       "      <td>HTC</td>\n",
       "      <td>ESG Repo rt  2022Environment Social Governance...</td>\n",
       "    </tr>\n",
       "    <tr>\n",
       "      <th>3</th>\n",
       "      <td>FISKARS</td>\n",
       "      <td>Sustainability Report 2022Contents Message fro...</td>\n",
       "    </tr>\n",
       "    <tr>\n",
       "      <th>4</th>\n",
       "      <td>KJELL &amp; COMPANY</td>\n",
       "      <td>Kjell &amp; Company   ESG impacts throu...</td>\n",
       "    </tr>\n",
       "  </tbody>\n",
       "</table>\n",
       "</div>"
      ],
      "text/plain": [
       "       report_name                                            content\n",
       "0          TRADERA  Climate Impact Report 2021 This is Traderas th...\n",
       "1         SWEDBANK    1     SUSTAINABILITY POLICY     Adopted by  ...\n",
       "2              HTC  ESG Repo rt  2022Environment Social Governance...\n",
       "3          FISKARS  Sustainability Report 2022Contents Message fro...\n",
       "4  KJELL & COMPANY             Kjell & Company   ESG impacts throu..."
      ]
     },
     "execution_count": 42,
     "metadata": {},
     "output_type": "execute_result"
    }
   ],
   "source": [
    "report_table.head()"
   ]
  },
  {
   "cell_type": "markdown",
   "id": "a29eb3f7-3652-4de1-8ac7-66059e4d32e8",
   "metadata": {},
   "source": [
    "# 4 Read Loughran-McDonald MasterD ictionary"
   ]
  },
  {
   "cell_type": "code",
   "execution_count": 3,
   "id": "15d4bab4-3aaa-4fd2-894c-38cf8fc506a0",
   "metadata": {
    "tags": []
   },
   "outputs": [],
   "source": [
    "master_dictionary = pd.read_csv(\"Loughran-McDonald_MasterDictionary_1993-2021.csv\")"
   ]
  },
  {
   "cell_type": "code",
   "execution_count": 110,
   "id": "7107482c-7535-4e21-b744-4f8dd3ad4ae0",
   "metadata": {
    "tags": []
   },
   "outputs": [
    {
     "data": {
      "text/plain": [
       "['ABLE',\n",
       " 'ABUNDANCE',\n",
       " 'ABUNDANT',\n",
       " 'ACCLAIMED',\n",
       " 'ACCOMPLISH',\n",
       " 'ACCOMPLISHED',\n",
       " 'ACCOMPLISHES',\n",
       " 'ACCOMPLISHING',\n",
       " 'ACCOMPLISHMENT',\n",
       " 'ACCOMPLISHMENTS',\n",
       " 'ACHIEVE',\n",
       " 'ACHIEVED',\n",
       " 'ACHIEVEMENT',\n",
       " 'ACHIEVEMENTS',\n",
       " 'ACHIEVES',\n",
       " 'ACHIEVING',\n",
       " 'ADEQUATELY',\n",
       " 'ADVANCEMENT',\n",
       " 'ADVANCEMENTS',\n",
       " 'ADVANCES']"
      ]
     },
     "execution_count": 110,
     "metadata": {},
     "output_type": "execute_result"
    }
   ],
   "source": [
    "postive_words = master_dictionary[master_dictionary.Positive != 0][\"Word\"].to_list()\n",
    "postive_words[:20]"
   ]
  },
  {
   "cell_type": "code",
   "execution_count": 111,
   "id": "90b50815-4555-4a65-bde4-760ed0830367",
   "metadata": {
    "tags": []
   },
   "outputs": [
    {
     "data": {
      "text/plain": [
       "['ABANDON',\n",
       " 'ABANDONED',\n",
       " 'ABANDONING',\n",
       " 'ABANDONMENT',\n",
       " 'ABANDONMENTS',\n",
       " 'ABANDONS',\n",
       " 'ABDICATED',\n",
       " 'ABDICATES',\n",
       " 'ABDICATING',\n",
       " 'ABDICATION',\n",
       " 'ABDICATIONS',\n",
       " 'ABERRANT',\n",
       " 'ABERRATION',\n",
       " 'ABERRATIONAL',\n",
       " 'ABERRATIONS',\n",
       " 'ABETTING',\n",
       " 'ABNORMAL',\n",
       " 'ABNORMALITIES',\n",
       " 'ABNORMALITY',\n",
       " 'ABNORMALLY']"
      ]
     },
     "execution_count": 111,
     "metadata": {},
     "output_type": "execute_result"
    }
   ],
   "source": [
    "negative_words = master_dictionary[master_dictionary.Negative != 0][\"Word\"].to_list()\n",
    "negative_words[:20]"
   ]
  },
  {
   "cell_type": "markdown",
   "id": "b2a820d6-e685-4701-874d-8a0a5833ce9c",
   "metadata": {},
   "source": [
    "# 5 Count Words in Reports"
   ]
  },
  {
   "cell_type": "code",
   "execution_count": 15,
   "id": "4e7f3a06-2574-462e-b37e-9b8be0934be4",
   "metadata": {
    "tags": []
   },
   "outputs": [],
   "source": [
    "report_table = pd.read_csv(\"reports.csv\")\n",
    "report_table_count = report_table.copy()"
   ]
  },
  {
   "cell_type": "code",
   "execution_count": 120,
   "id": "0ed30918-2ce5-4c73-9360-f868c510826a",
   "metadata": {
    "tags": []
   },
   "outputs": [],
   "source": [
    "def count_total_words(text):\n",
    "    \"\"\"Counts the total number of words in parameter string named text\"\"\"\n",
    "    return sum([i.strip(string.punctuation).isalpha() for i in text.split()])"
   ]
  },
  {
   "cell_type": "code",
   "execution_count": 121,
   "id": "66660a46-916e-457a-a184-56d382c3db60",
   "metadata": {
    "tags": []
   },
   "outputs": [],
   "source": [
    "def count_words_in_text_from_list(text, word_list):\n",
    "    \"\"\"Counts the number of words in word_list in text\"\"\"\n",
    "    # Initialize an empty list to store the word counts\n",
    "    word_counts = {}\n",
    "    text = text.upper()\n",
    "\n",
    "    # Iterate through each word in the text\n",
    "    for word in text.split():\n",
    "        # Check if the word exists in the dictionary\n",
    "        if word in word_counts:\n",
    "            # Increment the count for the existing word\n",
    "            word_counts[word] += 1\n",
    "        else:\n",
    "            # Add the word to the dictionary with a count of 1\n",
    "            if word in word_list:\n",
    "                word_counts[word] = 1\n",
    "        \n",
    "    return word_counts"
   ]
  },
  {
   "cell_type": "code",
   "execution_count": 122,
   "id": "167f4ee7-283f-4c34-8dc3-98495023271c",
   "metadata": {
    "tags": []
   },
   "outputs": [],
   "source": [
    "report_table_count[\"word_count\"] = report_table_count.content.map(count_total_words)\n",
    "report_table_count[\"negative_word_count\"] = report_table_count.content.map(lambda content: count_words_in_text_from_list(content, negative_words))\n",
    "report_table_count[\"positive_word_count\"] = report_table_count.content.map(lambda content: count_words_in_text_from_list(content, postive_words))\n",
    "report_table_count[\"total_negative_word_count\"] = report_table_count[\"negative_word_count\"].map(lambda d: sum(d.values()))\n",
    "report_table_count[\"total_positive_word_count\"] = report_table_count[\"positive_word_count\"].map(lambda d: sum(d.values()))"
   ]
  },
  {
   "cell_type": "code",
   "execution_count": 123,
   "id": "443ccbbf-e821-4eee-94ad-8ffbc258ad93",
   "metadata": {
    "tags": []
   },
   "outputs": [],
   "source": [
    "report_table_count = report_table_count.drop(columns=\"content\")"
   ]
  },
  {
   "cell_type": "code",
   "execution_count": 124,
   "id": "878a6e30-7107-495c-96d4-7ad2d0809133",
   "metadata": {
    "tags": []
   },
   "outputs": [],
   "source": [
    "report_table_count.to_csv(\"report_table_count.csv\", index=False)"
   ]
  },
  {
   "cell_type": "code",
   "execution_count": 125,
   "id": "3cb7a8c2-ee2b-4452-b6e9-b451359b5ddf",
   "metadata": {
    "tags": []
   },
   "outputs": [
    {
     "data": {
      "text/html": [
       "<div>\n",
       "<style scoped>\n",
       "    .dataframe tbody tr th:only-of-type {\n",
       "        vertical-align: middle;\n",
       "    }\n",
       "\n",
       "    .dataframe tbody tr th {\n",
       "        vertical-align: top;\n",
       "    }\n",
       "\n",
       "    .dataframe thead th {\n",
       "        text-align: right;\n",
       "    }\n",
       "</style>\n",
       "<table border=\"1\" class=\"dataframe\">\n",
       "  <thead>\n",
       "    <tr style=\"text-align: right;\">\n",
       "      <th></th>\n",
       "      <th>report_name</th>\n",
       "      <th>word_count</th>\n",
       "      <th>negative_word_count</th>\n",
       "      <th>positive_word_count</th>\n",
       "      <th>total_negative_word_count</th>\n",
       "      <th>total_positive_word_count</th>\n",
       "    </tr>\n",
       "  </thead>\n",
       "  <tbody>\n",
       "    <tr>\n",
       "      <th>0</th>\n",
       "      <td>TRADERA</td>\n",
       "      <td>3888</td>\n",
       "      <td>{'SLOW': 1, 'OVERESTIMATE': 1, 'UNDERESTIMATE'...</td>\n",
       "      <td>{'IMPROVED': 5, 'ABLE': 1, 'GREATER': 1, 'OPPO...</td>\n",
       "      <td>10</td>\n",
       "      <td>18</td>\n",
       "    </tr>\n",
       "    <tr>\n",
       "      <th>1</th>\n",
       "      <td>SWEDBANK</td>\n",
       "      <td>2402</td>\n",
       "      <td>{'CORRUPTION': 2, 'CRUCIAL': 1, 'INFRINGING': ...</td>\n",
       "      <td>{'EMPOWERS': 1, 'BETTER': 5, 'POSITIVE': 1, 'O...</td>\n",
       "      <td>12</td>\n",
       "      <td>39</td>\n",
       "    </tr>\n",
       "    <tr>\n",
       "      <th>2</th>\n",
       "      <td>HTC</td>\n",
       "      <td>64382</td>\n",
       "      <td>{'CHALLENGES': 12, 'CONFRONT': 1, 'CHALLENGE':...</td>\n",
       "      <td>{'ACHIEVEMENTS': 13, 'PROGRESS': 19, 'ASSURED'...</td>\n",
       "      <td>834</td>\n",
       "      <td>1149</td>\n",
       "    </tr>\n",
       "    <tr>\n",
       "      <th>3</th>\n",
       "      <td>FISKARS</td>\n",
       "      <td>29018</td>\n",
       "      <td>{'AGAINST': 17, 'CATASTROPHE': 1, 'CONDEMNED':...</td>\n",
       "      <td>{'PROGRESS': 20, 'LEADING': 4, 'POSITIVE': 18,...</td>\n",
       "      <td>373</td>\n",
       "      <td>444</td>\n",
       "    </tr>\n",
       "    <tr>\n",
       "      <th>4</th>\n",
       "      <td>KJELL &amp; COMPANY</td>\n",
       "      <td>1337</td>\n",
       "      <td>{'CORRUPTION': 8, 'CONFLICT': 2, 'CRUCIAL': 2,...</td>\n",
       "      <td>{'LEADING': 1, 'SATISFACTION': 1, 'INTEGRITY':...</td>\n",
       "      <td>22</td>\n",
       "      <td>21</td>\n",
       "    </tr>\n",
       "  </tbody>\n",
       "</table>\n",
       "</div>"
      ],
      "text/plain": [
       "       report_name  word_count  \\\n",
       "0          TRADERA        3888   \n",
       "1         SWEDBANK        2402   \n",
       "2              HTC       64382   \n",
       "3          FISKARS       29018   \n",
       "4  KJELL & COMPANY        1337   \n",
       "\n",
       "                                 negative_word_count  \\\n",
       "0  {'SLOW': 1, 'OVERESTIMATE': 1, 'UNDERESTIMATE'...   \n",
       "1  {'CORRUPTION': 2, 'CRUCIAL': 1, 'INFRINGING': ...   \n",
       "2  {'CHALLENGES': 12, 'CONFRONT': 1, 'CHALLENGE':...   \n",
       "3  {'AGAINST': 17, 'CATASTROPHE': 1, 'CONDEMNED':...   \n",
       "4  {'CORRUPTION': 8, 'CONFLICT': 2, 'CRUCIAL': 2,...   \n",
       "\n",
       "                                 positive_word_count  \\\n",
       "0  {'IMPROVED': 5, 'ABLE': 1, 'GREATER': 1, 'OPPO...   \n",
       "1  {'EMPOWERS': 1, 'BETTER': 5, 'POSITIVE': 1, 'O...   \n",
       "2  {'ACHIEVEMENTS': 13, 'PROGRESS': 19, 'ASSURED'...   \n",
       "3  {'PROGRESS': 20, 'LEADING': 4, 'POSITIVE': 18,...   \n",
       "4  {'LEADING': 1, 'SATISFACTION': 1, 'INTEGRITY':...   \n",
       "\n",
       "   total_negative_word_count  total_positive_word_count  \n",
       "0                         10                         18  \n",
       "1                         12                         39  \n",
       "2                        834                       1149  \n",
       "3                        373                        444  \n",
       "4                         22                         21  "
      ]
     },
     "execution_count": 125,
     "metadata": {},
     "output_type": "execute_result"
    }
   ],
   "source": [
    "report_table_count.head()"
   ]
  },
  {
   "cell_type": "code",
   "execution_count": 22,
   "id": "555af400-a090-4816-ac56-a3afc8dcbf36",
   "metadata": {
    "tags": []
   },
   "outputs": [
    {
     "name": "stdout",
     "output_type": "stream",
     "text": [
      "0          MISTAKE: 2\n",
      "1       CORRUPTION: 2\n",
      "2       HAZARDOUS: 39\n",
      "3       OMISSIONS: 25\n",
      "4       CORRUPTION: 8\n",
      "            ...      \n",
      "153    CORRUPTION: 22\n",
      "154    CHALLENGES: 38\n",
      "155     ACCIDENTS: 40\n",
      "156      INCIDENT: 40\n",
      "157       NEGATIVE: 9\n",
      "Name: negative_word_count, Length: 158, dtype: object\n",
      "0            IMPROVED: 5\n",
      "1              BETTER: 5\n",
      "2            IMPROVE: 67\n",
      "3      OPPORTUNITIES: 31\n",
      "4           INTEGRITY: 3\n",
      "             ...        \n",
      "153    OPPORTUNITIES: 22\n",
      "154    OPPORTUNITIES: 79\n",
      "155             GOOD: 42\n",
      "156    OPPORTUNITIES: 57\n",
      "157             ABLE: 39\n",
      "Name: positive_word_count, Length: 158, dtype: object\n",
      "118    CHALLENGES: 22\n",
      "Name: negative_word_count, dtype: object\n",
      "118    POSITIVE: 144\n",
      "Name: positive_word_count, dtype: object\n"
     ]
    }
   ],
   "source": [
    "print(report_table_count.negative_word_count.map(lambda d: f\"{max(d, key=d.get)}: {d[max(d, key=d.get)]}\"))\n",
    "print(report_table_count.positive_word_count.map(lambda d: f\"{max(d, key=d.get)}: {d[max(d, key=d.get)]}\"))\n",
    "print(report_table_count[report_table_count.report_name == \"IKEA\"].negative_word_count.map(lambda d: f\"{max(d, key=d.get)}: {d[max(d, key=d.get)]}\"))\n",
    "print(report_table_count[report_table_count.report_name == \"IKEA\"].positive_word_count.map(lambda d: f\"{max(d, key=d.get)}: {d[max(d, key=d.get)]}\"))"
   ]
  },
  {
   "cell_type": "code",
   "execution_count": 23,
   "id": "535851a7-e37e-40a2-9198-bfc53e1b5809",
   "metadata": {
    "tags": []
   },
   "outputs": [
    {
     "name": "stdout",
     "output_type": "stream",
     "text": [
      "Top 50 Negative Words:\n",
      "CORRUPTION: 1555\n",
      "CHALLENGES: 1355\n",
      "AGAINST: 1070\n",
      "CRITICAL: 935\n",
      "NEGATIVE: 831\n",
      "INCIDENTS: 831\n",
      "ACCIDENTS: 747\n",
      "PREVENTION: 731\n",
      "HAZARDOUS: 649\n",
      "CHALLENGE: 640\n",
      "LOSS: 607\n",
      "CONCERNS: 597\n",
      "FORCED: 561\n",
      "FORCE: 498\n",
      "VIOLATIONS: 483\n",
      "CONFLICT: 478\n",
      "INJURIES: 459\n",
      "QUESTIONS: 420\n",
      "CRISIS: 405\n",
      "HARASSMENT: 402\n",
      "INCIDENT: 400\n",
      "BRIBERY: 381\n",
      "SERIOUS: 375\n",
      "ACCIDENT: 370\n",
      "LOST: 362\n",
      "INJURY: 315\n",
      "CLAIMS: 305\n",
      "STRESS: 304\n",
      "CRUCIAL: 302\n",
      "DAMAGE: 280\n",
      "BREACHES: 279\n",
      "CHALLENGING: 271\n",
      "LOSSES: 271\n",
      "PREVENTING: 271\n",
      "LACK: 261\n",
      "PROBLEMS: 261\n",
      "COMPLAINTS: 260\n",
      "VULNERABLE: 256\n",
      "INVESTIGATION: 254\n",
      "CONFLICTS: 245\n",
      "DIFFICULT: 242\n",
      "CONCERN: 240\n",
      "HARMFUL: 240\n",
      "DISCLOSE: 239\n",
      "CLOSED: 231\n",
      "ADVERSE: 228\n",
      "HARM: 220\n",
      "GRIEVANCE: 217\n",
      "DISCLOSED: 214\n",
      "ABSENCE: 210\n",
      "\n",
      "Top 50 Positive Words:\n",
      "PROGRESS: 2878\n",
      "OPPORTUNITIES: 2801\n",
      "IMPROVE: 2279\n",
      "BETTER: 2269\n",
      "EFFICIENCY: 2102\n",
      "GOOD: 2012\n",
      "LEADERSHIP: 1758\n",
      "ACHIEVE: 1740\n",
      "BEST: 1645\n",
      "POSITIVE: 1607\n",
      "COLLABORATION: 1587\n",
      "INNOVATION: 1499\n",
      "TRANSPARENCY: 1372\n",
      "EFFICIENT: 1236\n",
      "IMPROVEMENT: 1216\n",
      "OPPORTUNITY: 1117\n",
      "LEADING: 1091\n",
      "ABLE: 1085\n",
      "ENABLE: 1017\n",
      "IMPROVING: 990\n",
      "ACHIEVED: 921\n",
      "HIGHEST: 892\n",
      "INTEGRITY: 851\n",
      "STRONG: 825\n",
      "INNOVATIVE: 766\n",
      "EFFECTIVE: 761\n",
      "GREATER: 715\n",
      "ENHANCE: 651\n",
      "STRENGTHEN: 642\n",
      "IMPROVED: 634\n",
      "ACHIEVING: 625\n",
      "GREAT: 619\n",
      "FRIENDLY: 618\n",
      "IMPROVEMENTS: 613\n",
      "ENABLING: 606\n",
      "SATISFACTION: 604\n",
      "ENABLES: 590\n",
      "SUCCESS: 563\n",
      "BENEFIT: 513\n",
      "ALLIANCE: 492\n",
      "ADVANCING: 379\n",
      "EMPOWER: 377\n",
      "COLLABORATE: 365\n",
      "STRENGTHENING: 345\n",
      "EASY: 340\n",
      "ACHIEVEMENTS: 324\n",
      "SUCCESSFUL: 317\n",
      "ATTRACTIVE: 314\n",
      "ENHANCING: 309\n",
      "ENHANCED: 296\n"
     ]
    }
   ],
   "source": [
    "from collections import Counter\n",
    "\n",
    "# Initialize counters for both negative and positive words\n",
    "total_negative_words = Counter()\n",
    "total_positive_words = Counter()\n",
    "\n",
    "# Iterate through each row in the DataFrame and update the counters\n",
    "for index, row in report_table_count.iterrows():\n",
    "    total_negative_words.update(row['negative_word_count'])\n",
    "    total_positive_words.update(row['positive_word_count'])\n",
    "\n",
    "# Find the 50 most common negative and positive words\n",
    "top_50_negative_words = total_negative_words.most_common(50)\n",
    "top_50_positive_words = total_positive_words.most_common(50)\n",
    "\n",
    "# Print the results\n",
    "print(\"Top 50 Negative Words:\")\n",
    "for word, count in top_50_negative_words:\n",
    "    print(f\"{word}: {count}\")\n",
    "\n",
    "print(\"\\nTop 50 Positive Words:\")\n",
    "for word, count in top_50_positive_words:\n",
    "    print(f\"{word}: {count}\")"
   ]
  },
  {
   "cell_type": "markdown",
   "id": "9e57566b-52c2-4e70-be54-5ec794283473",
   "metadata": {},
   "source": [
    "# 6 Add Ranking"
   ]
  },
  {
   "cell_type": "code",
   "execution_count": 46,
   "id": "e5a9e3cc-fda9-43b9-aef8-4de294eee619",
   "metadata": {
    "tags": []
   },
   "outputs": [
    {
     "data": {
      "text/html": [
       "<div>\n",
       "<style scoped>\n",
       "    .dataframe tbody tr th:only-of-type {\n",
       "        vertical-align: middle;\n",
       "    }\n",
       "\n",
       "    .dataframe tbody tr th {\n",
       "        vertical-align: top;\n",
       "    }\n",
       "\n",
       "    .dataframe thead th {\n",
       "        text-align: right;\n",
       "    }\n",
       "</style>\n",
       "<table border=\"1\" class=\"dataframe\">\n",
       "  <thead>\n",
       "    <tr style=\"text-align: right;\">\n",
       "      <th></th>\n",
       "      <th>report_name</th>\n",
       "      <th>word_count</th>\n",
       "      <th>negative_word_count</th>\n",
       "      <th>positive_word_count</th>\n",
       "      <th>total_negative_word_count</th>\n",
       "      <th>total_positive_word_count</th>\n",
       "    </tr>\n",
       "  </thead>\n",
       "  <tbody>\n",
       "    <tr>\n",
       "      <th>0</th>\n",
       "      <td>TRADERA</td>\n",
       "      <td>3888</td>\n",
       "      <td>{'SLOW': 1, 'OVERESTIMATE': 1, 'UNDERESTIMATE'...</td>\n",
       "      <td>{'IMPROVED': 5, 'ABLE': 1, 'GREATER': 1, 'OPPO...</td>\n",
       "      <td>10</td>\n",
       "      <td>18</td>\n",
       "    </tr>\n",
       "    <tr>\n",
       "      <th>1</th>\n",
       "      <td>SWEDBANK</td>\n",
       "      <td>2402</td>\n",
       "      <td>{'CORRUPTION': 2, 'CRUCIAL': 1, 'INFRINGING': ...</td>\n",
       "      <td>{'EMPOWERS': 1, 'BETTER': 5, 'POSITIVE': 1, 'O...</td>\n",
       "      <td>12</td>\n",
       "      <td>39</td>\n",
       "    </tr>\n",
       "    <tr>\n",
       "      <th>2</th>\n",
       "      <td>HTC</td>\n",
       "      <td>64382</td>\n",
       "      <td>{'CHALLENGES': 12, 'CONFRONT': 1, 'CHALLENGE':...</td>\n",
       "      <td>{'ACHIEVEMENTS': 13, 'PROGRESS': 19, 'ASSURED'...</td>\n",
       "      <td>834</td>\n",
       "      <td>1149</td>\n",
       "    </tr>\n",
       "    <tr>\n",
       "      <th>3</th>\n",
       "      <td>FISKARS</td>\n",
       "      <td>29018</td>\n",
       "      <td>{'AGAINST': 17, 'CATASTROPHE': 1, 'CONDEMNED':...</td>\n",
       "      <td>{'PROGRESS': 20, 'LEADING': 4, 'POSITIVE': 18,...</td>\n",
       "      <td>373</td>\n",
       "      <td>444</td>\n",
       "    </tr>\n",
       "    <tr>\n",
       "      <th>4</th>\n",
       "      <td>KJELL &amp; COMPANY</td>\n",
       "      <td>1337</td>\n",
       "      <td>{'CORRUPTION': 8, 'CONFLICT': 2, 'CRUCIAL': 2,...</td>\n",
       "      <td>{'LEADING': 1, 'SATISFACTION': 1, 'INTEGRITY':...</td>\n",
       "      <td>22</td>\n",
       "      <td>21</td>\n",
       "    </tr>\n",
       "    <tr>\n",
       "      <th>...</th>\n",
       "      <td>...</td>\n",
       "      <td>...</td>\n",
       "      <td>...</td>\n",
       "      <td>...</td>\n",
       "      <td>...</td>\n",
       "      <td>...</td>\n",
       "    </tr>\n",
       "    <tr>\n",
       "      <th>153</th>\n",
       "      <td>SANTANDER CONSUMER BANK</td>\n",
       "      <td>15397</td>\n",
       "      <td>{'FORCE': 6, 'CHALLENGES': 1, 'QUESTION': 1, '...</td>\n",
       "      <td>{'PROGRESS': 11, 'OPPORTUNITIES': 22, 'GOOD': ...</td>\n",
       "      <td>224</td>\n",
       "      <td>215</td>\n",
       "    </tr>\n",
       "    <tr>\n",
       "      <th>154</th>\n",
       "      <td>SONY</td>\n",
       "      <td>112284</td>\n",
       "      <td>{'CHALLENGES': 38, 'CRUCIAL': 4, 'DISASTER': 2...</td>\n",
       "      <td>{'CREATIVITY': 26, 'BEST': 26, 'INTEGRITY': 9,...</td>\n",
       "      <td>1011</td>\n",
       "      <td>1535</td>\n",
       "    </tr>\n",
       "    <tr>\n",
       "      <th>155</th>\n",
       "      <td>TULIP</td>\n",
       "      <td>35058</td>\n",
       "      <td>{'QUESTIONS': 2, 'CHALLENGES': 9, 'SLOW': 1, '...</td>\n",
       "      <td>{'TRANSPARENCY': 9, 'PROGRESS': 11, 'ACHIEVEME...</td>\n",
       "      <td>364</td>\n",
       "      <td>410</td>\n",
       "    </tr>\n",
       "    <tr>\n",
       "      <th>156</th>\n",
       "      <td>UBER</td>\n",
       "      <td>40707</td>\n",
       "      <td>{'FORCE': 7, 'CRITICAL': 34, 'INCIDENT': 40, '...</td>\n",
       "      <td>{'BEST': 32, 'PROFITABILITY': 1, 'ADVANTAGE': ...</td>\n",
       "      <td>471</td>\n",
       "      <td>720</td>\n",
       "    </tr>\n",
       "    <tr>\n",
       "      <th>157</th>\n",
       "      <td>NATURKOMPANIET</td>\n",
       "      <td>24052</td>\n",
       "      <td>{'INSTABILITY': 3, 'SERIOUS': 2, 'DOUBTS': 1, ...</td>\n",
       "      <td>{'EXCELLENCE': 1, 'GOOD': 14, 'BETTER': 13, 'O...</td>\n",
       "      <td>250</td>\n",
       "      <td>238</td>\n",
       "    </tr>\n",
       "  </tbody>\n",
       "</table>\n",
       "<p>158 rows × 6 columns</p>\n",
       "</div>"
      ],
      "text/plain": [
       "                 report_name  word_count  \\\n",
       "0                    TRADERA        3888   \n",
       "1                   SWEDBANK        2402   \n",
       "2                        HTC       64382   \n",
       "3                    FISKARS       29018   \n",
       "4            KJELL & COMPANY        1337   \n",
       "..                       ...         ...   \n",
       "153  SANTANDER CONSUMER BANK       15397   \n",
       "154                     SONY      112284   \n",
       "155                    TULIP       35058   \n",
       "156                     UBER       40707   \n",
       "157           NATURKOMPANIET       24052   \n",
       "\n",
       "                                   negative_word_count  \\\n",
       "0    {'SLOW': 1, 'OVERESTIMATE': 1, 'UNDERESTIMATE'...   \n",
       "1    {'CORRUPTION': 2, 'CRUCIAL': 1, 'INFRINGING': ...   \n",
       "2    {'CHALLENGES': 12, 'CONFRONT': 1, 'CHALLENGE':...   \n",
       "3    {'AGAINST': 17, 'CATASTROPHE': 1, 'CONDEMNED':...   \n",
       "4    {'CORRUPTION': 8, 'CONFLICT': 2, 'CRUCIAL': 2,...   \n",
       "..                                                 ...   \n",
       "153  {'FORCE': 6, 'CHALLENGES': 1, 'QUESTION': 1, '...   \n",
       "154  {'CHALLENGES': 38, 'CRUCIAL': 4, 'DISASTER': 2...   \n",
       "155  {'QUESTIONS': 2, 'CHALLENGES': 9, 'SLOW': 1, '...   \n",
       "156  {'FORCE': 7, 'CRITICAL': 34, 'INCIDENT': 40, '...   \n",
       "157  {'INSTABILITY': 3, 'SERIOUS': 2, 'DOUBTS': 1, ...   \n",
       "\n",
       "                                   positive_word_count  \\\n",
       "0    {'IMPROVED': 5, 'ABLE': 1, 'GREATER': 1, 'OPPO...   \n",
       "1    {'EMPOWERS': 1, 'BETTER': 5, 'POSITIVE': 1, 'O...   \n",
       "2    {'ACHIEVEMENTS': 13, 'PROGRESS': 19, 'ASSURED'...   \n",
       "3    {'PROGRESS': 20, 'LEADING': 4, 'POSITIVE': 18,...   \n",
       "4    {'LEADING': 1, 'SATISFACTION': 1, 'INTEGRITY':...   \n",
       "..                                                 ...   \n",
       "153  {'PROGRESS': 11, 'OPPORTUNITIES': 22, 'GOOD': ...   \n",
       "154  {'CREATIVITY': 26, 'BEST': 26, 'INTEGRITY': 9,...   \n",
       "155  {'TRANSPARENCY': 9, 'PROGRESS': 11, 'ACHIEVEME...   \n",
       "156  {'BEST': 32, 'PROFITABILITY': 1, 'ADVANTAGE': ...   \n",
       "157  {'EXCELLENCE': 1, 'GOOD': 14, 'BETTER': 13, 'O...   \n",
       "\n",
       "     total_negative_word_count  total_positive_word_count  \n",
       "0                           10                         18  \n",
       "1                           12                         39  \n",
       "2                          834                       1149  \n",
       "3                          373                        444  \n",
       "4                           22                         21  \n",
       "..                         ...                        ...  \n",
       "153                        224                        215  \n",
       "154                       1011                       1535  \n",
       "155                        364                        410  \n",
       "156                        471                        720  \n",
       "157                        250                        238  \n",
       "\n",
       "[158 rows x 6 columns]"
      ]
     },
     "execution_count": 46,
     "metadata": {},
     "output_type": "execute_result"
    }
   ],
   "source": [
    "report_table_count = pd.read_csv(\"report_table_count.csv\")\n",
    "report_table_count[\"report_name\"] = report_table_count.report_name.map(lambda r:  unicodedata.normalize(\"NFC\", r))\n",
    "pd.read_csv(\"report_table_count.csv\")"
   ]
  },
  {
   "cell_type": "code",
   "execution_count": 47,
   "id": "d134d2b8-08f3-488f-8a98-3636eea87c23",
   "metadata": {
    "tags": []
   },
   "outputs": [],
   "source": [
    "ranking = pd.read_csv(\"sample.csv\")\n",
    "ranking.columns = ['ranking', 'Company', 'Koncern', 'Language', 'Type', 'Year of Report']\n",
    "ranking = ranking[['ranking', 'Company']]\n",
    "ranking[\"Company\"] = ranking.Company.map(lambda company: company.upper())"
   ]
  },
  {
   "cell_type": "code",
   "execution_count": 48,
   "id": "fb29e73a-3f73-46a2-8430-6a7acd25fb33",
   "metadata": {
    "tags": []
   },
   "outputs": [],
   "source": [
    "report_table_count_ranking = report_table_count.merge(ranking, left_on=\"report_name\", right_on=\"Company\", how=\"inner\")\n",
    "report_table_count_ranking.drop(columns=\"Company\", inplace=True)\n",
    "report_table_count_ranking = report_table_count_ranking.sort_values(\"ranking\").reset_index(drop=True)\n",
    "report_table_count_ranking.to_csv(\"report_table_count_ranking.csv\", index=False)"
   ]
  },
  {
   "cell_type": "raw",
   "id": "1ef6cdad-89fc-4f5d-9740-4f98052c3bb5",
   "metadata": {
    "tags": []
   },
   "source": [
    "report_table_count_ranking"
   ]
  },
  {
   "cell_type": "markdown",
   "id": "1345394d-4b20-476d-9003-060cf25d3bbf",
   "metadata": {
    "tags": []
   },
   "source": [
    "# 7 Add Industries"
   ]
  },
  {
   "cell_type": "code",
   "execution_count": 49,
   "id": "a77e6dad-72a0-4c1c-aa06-0ae40dc7f90f",
   "metadata": {
    "tags": []
   },
   "outputs": [],
   "source": [
    "report_table_count = pd.read_csv(\"report_table_count.csv\")\n",
    "report_table_count[\"report_name\"] = report_table_count.report_name.map(lambda r:  unicodedata.normalize(\"NFC\", r))\n",
    "report_table_industries = pd.read_csv(\"report_table_industries.csv\")\n",
    "report_table_industries[\"Company\"] = report_table_industries[\"Company\"].map(lambda name: unicodedata.normalize(\"NFC\", str(name)).upper().strip())"
   ]
  },
  {
   "cell_type": "code",
   "execution_count": 50,
   "id": "6adebe1d-6513-48f9-b51e-438e5a1e2712",
   "metadata": {
    "tags": []
   },
   "outputs": [],
   "source": [
    "# Set the columns names to be consistent for the merge\n",
    "report_table_industries.columns = ['Company', 'industry']\n",
    "# Merge the two tables on the 'Company' column, using an inner join\n",
    "merged_table = report_table_count.merge(report_table_industries, left_on=\"report_name\", right_on=\"Company\", how=\"inner\")\n",
    "# Drop the redundant 'Company' column from the merged table\n",
    "merged_table.drop(columns=\"Company\", inplace=True)\n",
    "# Sort, reset index, and save the new table to CSV\n",
    "merged_table = merged_table.sort_values(by=[\"industry\", \"report_name\"]).reset_index(drop=True)\n",
    "merged_table.to_csv(\"report_table_count_industries.csv\", index=False)"
   ]
  },
  {
   "cell_type": "code",
   "execution_count": 51,
   "id": "c80c7442-b023-42f4-a42e-320711879edd",
   "metadata": {
    "tags": []
   },
   "outputs": [
    {
     "name": "stdout",
     "output_type": "stream",
     "text": [
      "set()\n"
     ]
    }
   ],
   "source": [
    "# Load the industries table\n",
    "report_table_industries = pd.read_csv(\"report_table_industries.csv\")\n",
    "# Load the count table\n",
    "report_table_count_industries = pd.read_csv(\"report_table_count_industries.csv\")\n",
    "\n",
    "def find_missing_companies(industries_df, count_df, industries_column, count_column):\n",
    "    # Convert both columns to upper case to ensure matching is case-insensitive\n",
    "    industries_df[industries_column] = industries_df[industries_column].str.upper()\n",
    "    count_df[count_column] = count_df[count_column].str.upper()\n",
    "    # Find companies in industries_df that are not in count_df\n",
    "    missing_companies = set(industries_df[industries_column]) - set(count_df[count_column])\n",
    "    \n",
    "    return missing_companies\n",
    "\n",
    "\n",
    "missing_companies = find_missing_companies(report_table_industries, report_table_count_industries, 'Company', 'report_name')\n",
    "# Print or return the missing companies\n",
    "print(missing_companies)"
   ]
  },
  {
   "cell_type": "code",
   "execution_count": 52,
   "id": "c031cb1b-5174-4068-ad99-1d81977fe22d",
   "metadata": {
    "tags": []
   },
   "outputs": [],
   "source": [
    "report_table_count_ranking = pd.read_csv(\"report_table_count_ranking.csv\")\n",
    "report_table_count_ranking[\"report_name\"] = report_table_count_ranking.report_name.map(lambda r:  unicodedata.normalize(\"NFC\", r))\n",
    "report_table_all_industries = pd.read_csv(\"report_table_all_industries.csv\")\n",
    "report_table_all_industries[\"Company\"] = report_table_all_industries[\"Company\"].map(lambda name: unicodedata.normalize(\"NFC\", str(name)).upper().strip())"
   ]
  },
  {
   "cell_type": "code",
   "execution_count": 53,
   "id": "14fcbfff-d3ed-499a-abf5-88d70b4ea54f",
   "metadata": {
    "tags": []
   },
   "outputs": [],
   "source": [
    "# Set the columns names to be consistent for the merge\n",
    "report_table_all_industries.columns = ['Company', 'industry']\n",
    "# Merge the two tables on the 'Company' column, using an inner join\n",
    "merged_table = report_table_count_ranking.merge(report_table_all_industries, left_on=\"report_name\", right_on=\"Company\", how=\"inner\")\n",
    "# Drop the redundant 'Company' column from the merged table\n",
    "merged_table.drop(columns=\"Company\", inplace=True)\n",
    "# Sort, reset index, and save the new table to CSV\n",
    "merged_table = merged_table.sort_values(by=[\"industry\", \"report_name\"]).reset_index(drop=True)\n",
    "merged_table.to_csv(\"report_table_count_all_industries.csv\", index=False)"
   ]
  },
  {
   "cell_type": "markdown",
   "id": "ee581a5d-dada-4d3b-8ffb-0215ce570eaf",
   "metadata": {},
   "source": [
    "# Add Financial Metrics"
   ]
  },
  {
   "cell_type": "code",
   "execution_count": 37,
   "id": "090d3751-f91c-489f-a095-00af23dfb822",
   "metadata": {
    "tags": []
   },
   "outputs": [],
   "source": [
    "report_table_count_all_industries = pd.read_csv(\"report_table_count_all_industries.csv\")\n",
    "report_table_count_all_industries[\"report_name\"] = report_table_count_all_industries.report_name.map(lambda r:  unicodedata.normalize(\"NFC\", r))\n",
    "report_table_financial_metrics = pd.read_csv(\"report_table_financial_metrics.csv\")\n",
    "report_table_financial_metrics[\"report_name\"] = report_table_financial_metrics[\"report_name\"].map(lambda name: unicodedata.normalize(\"NFC\", str(name)).upper().strip())"
   ]
  },
  {
   "cell_type": "code",
   "execution_count": 38,
   "id": "901141fe-3fa9-4dfe-bcdd-1d4b9aa92488",
   "metadata": {
    "tags": []
   },
   "outputs": [],
   "source": [
    "# Set the columns names to be consistent for the merge\n",
    "report_table_financial_metrics.columns = ['report_name', 'total_assets', 'roa', 'publicly_traded']\n",
    "# Merge the two tables on the 'report_name' column, using an inner join\n",
    "merged_table = report_table_count_all_industries.merge(report_table_financial_metrics, left_on=\"report_name\", right_on=\"report_name\", how=\"inner\")\n",
    "# Sort, reset index, and save the new table to CSV\n",
    "merged_table = merged_table.sort_values(by=[\"industry\", \"report_name\"]).reset_index(drop=True)\n",
    "merged_table.to_csv(\"report_table_count_all_control_variables.csv\", index=False)"
   ]
  },
  {
   "cell_type": "code",
   "execution_count": 2,
   "id": "a5ddf14d-e9b5-4420-9e16-1261e2240a66",
   "metadata": {
    "tags": []
   },
   "outputs": [],
   "source": [
    "allcv = pd.read_csv('report_table_count_all_control_variables.csv')"
   ]
  },
  {
   "cell_type": "code",
   "execution_count": 6,
   "id": "533f78bc-c744-41ca-8a55-4ee21d4426cd",
   "metadata": {
    "tags": []
   },
   "outputs": [],
   "source": [
    "allcv['roa'] = allcv['roa'].astype(str).str.replace(',', '.').astype(float)"
   ]
  },
  {
   "cell_type": "code",
   "execution_count": 7,
   "id": "3173287c-af90-4afe-95d6-0cd9ea229a18",
   "metadata": {
    "tags": []
   },
   "outputs": [
    {
     "name": "stdout",
     "output_type": "stream",
     "text": [
      "<class 'pandas.core.frame.DataFrame'>\n",
      "RangeIndex: 156 entries, 0 to 155\n",
      "Data columns (total 11 columns):\n",
      " #   Column                     Non-Null Count  Dtype  \n",
      "---  ------                     --------------  -----  \n",
      " 0   report_name                156 non-null    object \n",
      " 1   word_count                 156 non-null    int64  \n",
      " 2   negative_word_count        156 non-null    object \n",
      " 3   positive_word_count        156 non-null    object \n",
      " 4   total_negative_word_count  156 non-null    int64  \n",
      " 5   total_positive_word_count  156 non-null    int64  \n",
      " 6   ranking                    156 non-null    int64  \n",
      " 7   industry                   156 non-null    object \n",
      " 8   total_assets               156 non-null    int64  \n",
      " 9   roa                        156 non-null    float64\n",
      " 10  publicly_traded            156 non-null    int64  \n",
      "dtypes: float64(1), int64(6), object(4)\n",
      "memory usage: 13.5+ KB\n"
     ]
    }
   ],
   "source": [
    "allcv.info()"
   ]
  },
  {
   "cell_type": "code",
   "execution_count": null,
   "id": "bc48abc1-0f79-4785-80e8-e1c83fc4e99f",
   "metadata": {},
   "outputs": [],
   "source": []
  },
  {
   "cell_type": "code",
   "execution_count": 8,
   "id": "4d34d0c8-0c96-4463-8ca6-0ac13f317ac6",
   "metadata": {
    "tags": []
   },
   "outputs": [
    {
     "data": {
      "text/html": [
       "<div>\n",
       "<style scoped>\n",
       "    .dataframe tbody tr th:only-of-type {\n",
       "        vertical-align: middle;\n",
       "    }\n",
       "\n",
       "    .dataframe tbody tr th {\n",
       "        vertical-align: top;\n",
       "    }\n",
       "\n",
       "    .dataframe thead th {\n",
       "        text-align: right;\n",
       "    }\n",
       "</style>\n",
       "<table border=\"1\" class=\"dataframe\">\n",
       "  <thead>\n",
       "    <tr style=\"text-align: right;\">\n",
       "      <th></th>\n",
       "      <th>report_name</th>\n",
       "      <th>word_count</th>\n",
       "      <th>negative_word_count</th>\n",
       "      <th>positive_word_count</th>\n",
       "      <th>total_negative_word_count</th>\n",
       "      <th>total_positive_word_count</th>\n",
       "      <th>ranking</th>\n",
       "      <th>industry</th>\n",
       "      <th>total_assets</th>\n",
       "      <th>roa</th>\n",
       "      <th>publicly_traded</th>\n",
       "    </tr>\n",
       "  </thead>\n",
       "  <tbody>\n",
       "    <tr>\n",
       "      <th>0</th>\n",
       "      <td>BRA</td>\n",
       "      <td>17639</td>\n",
       "      <td>{'STRINGENT': 4, 'DIFFICULT': 1, 'HARSH': 1, '...</td>\n",
       "      <td>{'STRENGTHEN': 7, 'HIGHEST': 17, 'OPPORTUNITIE...</td>\n",
       "      <td>156</td>\n",
       "      <td>340</td>\n",
       "      <td>356</td>\n",
       "      <td>Airlines</td>\n",
       "      <td>1512</td>\n",
       "      <td>-0.07</td>\n",
       "      <td>0</td>\n",
       "    </tr>\n",
       "    <tr>\n",
       "      <th>1</th>\n",
       "      <td>BRITISH AIRWAYS</td>\n",
       "      <td>5882</td>\n",
       "      <td>{'CHALLENGE': 2, 'AGAINST': 1, 'CRITICAL': 1, ...</td>\n",
       "      <td>{'INCREDIBLE': 1, 'GREATEST': 2, 'ACHIEVEMENTS...</td>\n",
       "      <td>21</td>\n",
       "      <td>114</td>\n",
       "      <td>388</td>\n",
       "      <td>Airlines</td>\n",
       "      <td>42842</td>\n",
       "      <td>0.12</td>\n",
       "      <td>0</td>\n",
       "    </tr>\n",
       "    <tr>\n",
       "      <th>2</th>\n",
       "      <td>LUFTHANSA</td>\n",
       "      <td>12702</td>\n",
       "      <td>{'CHALLENGING': 2, 'DISADVANTAGED': 1, 'FORCE'...</td>\n",
       "      <td>{'SUCCESSFUL': 2, 'PLEASED': 1, 'LEADING': 5, ...</td>\n",
       "      <td>81</td>\n",
       "      <td>180</td>\n",
       "      <td>349</td>\n",
       "      <td>Airlines</td>\n",
       "      <td>507770</td>\n",
       "      <td>0.04</td>\n",
       "      <td>1</td>\n",
       "    </tr>\n",
       "    <tr>\n",
       "      <th>3</th>\n",
       "      <td>RYANAIR</td>\n",
       "      <td>16813</td>\n",
       "      <td>{'DEVASTATED': 1, 'DISRUPTED': 1, 'SUFFERED': ...</td>\n",
       "      <td>{'SATISFACTION': 7, 'ADVANTAGE': 5, 'GAINS': 1...</td>\n",
       "      <td>148</td>\n",
       "      <td>203</td>\n",
       "      <td>416</td>\n",
       "      <td>Airlines</td>\n",
       "      <td>173111</td>\n",
       "      <td>0.13</td>\n",
       "      <td>1</td>\n",
       "    </tr>\n",
       "    <tr>\n",
       "      <th>4</th>\n",
       "      <td>BMW</td>\n",
       "      <td>7038</td>\n",
       "      <td>{'AGAINST': 3, 'DEVIATIONS': 1, 'FORCE': 1, 'C...</td>\n",
       "      <td>{'TRANSPARENCY': 26, 'EFFECTIVE': 22, 'SUCCESS...</td>\n",
       "      <td>30</td>\n",
       "      <td>139</td>\n",
       "      <td>227</td>\n",
       "      <td>Automotives</td>\n",
       "      <td>2858751</td>\n",
       "      <td>0.04</td>\n",
       "      <td>1</td>\n",
       "    </tr>\n",
       "  </tbody>\n",
       "</table>\n",
       "</div>"
      ],
      "text/plain": [
       "       report_name  word_count  \\\n",
       "0              BRA       17639   \n",
       "1  BRITISH AIRWAYS        5882   \n",
       "2        LUFTHANSA       12702   \n",
       "3          RYANAIR       16813   \n",
       "4              BMW        7038   \n",
       "\n",
       "                                 negative_word_count  \\\n",
       "0  {'STRINGENT': 4, 'DIFFICULT': 1, 'HARSH': 1, '...   \n",
       "1  {'CHALLENGE': 2, 'AGAINST': 1, 'CRITICAL': 1, ...   \n",
       "2  {'CHALLENGING': 2, 'DISADVANTAGED': 1, 'FORCE'...   \n",
       "3  {'DEVASTATED': 1, 'DISRUPTED': 1, 'SUFFERED': ...   \n",
       "4  {'AGAINST': 3, 'DEVIATIONS': 1, 'FORCE': 1, 'C...   \n",
       "\n",
       "                                 positive_word_count  \\\n",
       "0  {'STRENGTHEN': 7, 'HIGHEST': 17, 'OPPORTUNITIE...   \n",
       "1  {'INCREDIBLE': 1, 'GREATEST': 2, 'ACHIEVEMENTS...   \n",
       "2  {'SUCCESSFUL': 2, 'PLEASED': 1, 'LEADING': 5, ...   \n",
       "3  {'SATISFACTION': 7, 'ADVANTAGE': 5, 'GAINS': 1...   \n",
       "4  {'TRANSPARENCY': 26, 'EFFECTIVE': 22, 'SUCCESS...   \n",
       "\n",
       "   total_negative_word_count  total_positive_word_count  ranking     industry  \\\n",
       "0                        156                        340      356     Airlines   \n",
       "1                         21                        114      388     Airlines   \n",
       "2                         81                        180      349     Airlines   \n",
       "3                        148                        203      416     Airlines   \n",
       "4                         30                        139      227  Automotives   \n",
       "\n",
       "   total_assets   roa  publicly_traded  \n",
       "0          1512 -0.07                0  \n",
       "1         42842  0.12                0  \n",
       "2        507770  0.04                1  \n",
       "3        173111  0.13                1  \n",
       "4       2858751  0.04                1  "
      ]
     },
     "execution_count": 8,
     "metadata": {},
     "output_type": "execute_result"
    }
   ],
   "source": [
    "allcv.head()"
   ]
  },
  {
   "cell_type": "markdown",
   "id": "e7aebbc6-d7c5-44c6-8173-0015dfb92c15",
   "metadata": {},
   "source": [
    "# 9 Calculate Statistics"
   ]
  },
  {
   "cell_type": "code",
   "execution_count": 14,
   "id": "badc2aad-3468-426d-a7f0-e9142c0b29e9",
   "metadata": {
    "tags": []
   },
   "outputs": [],
   "source": [
    "# Regression with all control variables"
   ]
  },
  {
   "cell_type": "code",
   "execution_count": 30,
   "id": "ef899c12-6639-4663-a274-f1395dc9dfb5",
   "metadata": {
    "tags": []
   },
   "outputs": [],
   "source": [
    "# Load the CSV file\n",
    "df = pd.read_csv('report_table_count_all_control_variables.csv')"
   ]
  },
  {
   "cell_type": "code",
   "execution_count": 31,
   "id": "d5c5b19b-fb9d-4481-a459-97b1a2db2e3c",
   "metadata": {
    "tags": []
   },
   "outputs": [],
   "source": [
    "# Calculate 'tone'\n",
    "df['tone'] = (df['total_positive_word_count'] - df['total_negative_word_count']) / (df['total_positive_word_count'] + df['total_negative_word_count'])"
   ]
  },
  {
   "cell_type": "code",
   "execution_count": 32,
   "id": "755aff6b-39e8-4306-85c6-c0755d537b6d",
   "metadata": {
    "tags": []
   },
   "outputs": [],
   "source": [
    "# Convert 'industry' to dummy variables\n",
    "industry_dummies = pd.get_dummies(df['industry'], prefix='industry', drop_first=True)\n",
    "\n",
    "# Convert boolean dummy variables to int\n",
    "for column in industry_dummies.columns:\n",
    "    industry_dummies[column] = industry_dummies[column].astype(int)\n",
    "\n",
    "df = pd.concat([df, industry_dummies], axis=1)"
   ]
  },
  {
   "cell_type": "code",
   "execution_count": 33,
   "id": "7ce178b7-c372-4350-a0ee-8c311e1e602e",
   "metadata": {
    "tags": []
   },
   "outputs": [],
   "source": [
    "# Convert 'roa' to string, replace commas with periods, then convert to float\n",
    "df['roa'] = df['roa'].astype(str).str.replace(',', '.').astype(float)"
   ]
  },
  {
   "cell_type": "code",
   "execution_count": 34,
   "id": "84b38896-9de6-466a-b496-10d064a69ca8",
   "metadata": {
    "tags": []
   },
   "outputs": [
    {
     "name": "stdout",
     "output_type": "stream",
     "text": [
      "<class 'pandas.core.frame.DataFrame'>\n",
      "RangeIndex: 156 entries, 0 to 155\n",
      "Data columns (total 41 columns):\n",
      " #   Column                                  Non-Null Count  Dtype  \n",
      "---  ------                                  --------------  -----  \n",
      " 0   report_name                             156 non-null    object \n",
      " 1   word_count                              156 non-null    int64  \n",
      " 2   negative_word_count                     156 non-null    object \n",
      " 3   positive_word_count                     156 non-null    object \n",
      " 4   total_negative_word_count               156 non-null    int64  \n",
      " 5   total_positive_word_count               156 non-null    int64  \n",
      " 6   ranking                                 156 non-null    int64  \n",
      " 7   industry                                156 non-null    object \n",
      " 8   total_assets                            156 non-null    int64  \n",
      " 9   roa                                     156 non-null    float64\n",
      " 10  publicly_traded                         156 non-null    int64  \n",
      " 11  tone                                    156 non-null    float64\n",
      " 12  industry_Automotives                    156 non-null    int64  \n",
      " 13  industry_Banks                          156 non-null    int64  \n",
      " 14  industry_Beauty                         156 non-null    int64  \n",
      " 15  industry_Beverage                       156 non-null    int64  \n",
      " 16  industry_Clothing & Fashion Brands      156 non-null    int64  \n",
      " 17  industry_Clothing & Fashion Stores      156 non-null    int64  \n",
      " 18  industry_Consumer Goods                 156 non-null    int64  \n",
      " 19  industry_Digital                        156 non-null    int64  \n",
      " 20  industry_E-commerce                     156 non-null    int64  \n",
      " 21  industry_Electricity & Heating          156 non-null    int64  \n",
      " 22  industry_Feul                           156 non-null    int64  \n",
      " 23  industry_Food                           156 non-null    int64  \n",
      " 24  industry_Furniture                      156 non-null    int64  \n",
      " 25  industry_Gambling                       156 non-null    int64  \n",
      " 26  industry_Grocery Stores                 156 non-null    int64  \n",
      " 27  industry_Healthcare Providers           156 non-null    int64  \n",
      " 28  industry_Hobby & Leisure                156 non-null    int64  \n",
      " 29  industry_Home Appliances & Electronics  156 non-null    int64  \n",
      " 30  industry_Hotels                         156 non-null    int64  \n",
      " 31  industry_Insurance                      156 non-null    int64  \n",
      " 32  industry_Parcel & Logistics             156 non-null    int64  \n",
      " 33  industry_Pensions                       156 non-null    int64  \n",
      " 34  industry_Real Estate                    156 non-null    int64  \n",
      " 35  industry_Restaurants                    156 non-null    int64  \n",
      " 36  industry_Telecommunications             156 non-null    int64  \n",
      " 37  industry_Tobacco                        156 non-null    int64  \n",
      " 38  industry_Transport                      156 non-null    int64  \n",
      " 39  industry_Travel & Tourism               156 non-null    int64  \n",
      " 40  industry_Vehicle Inspection             156 non-null    int64  \n",
      "dtypes: float64(2), int64(35), object(4)\n",
      "memory usage: 50.1+ KB\n"
     ]
    }
   ],
   "source": [
    "df.info()"
   ]
  },
  {
   "cell_type": "code",
   "execution_count": 36,
   "id": "6c6cc86f-004c-4e8e-ae64-28d602c10cd4",
   "metadata": {
    "tags": []
   },
   "outputs": [
    {
     "name": "stdout",
     "output_type": "stream",
     "text": [
      "                            OLS Regression Results                            \n",
      "==============================================================================\n",
      "Dep. Variable:                   tone   R-squared:                       0.301\n",
      "Model:                            OLS   Adj. R-squared:                  0.112\n",
      "Method:                 Least Squares   F-statistic:                     1.591\n",
      "Date:                Fri, 22 Mar 2024   Prob (F-statistic):             0.0366\n",
      "Time:                        20:15:22   Log-Likelihood:                 48.617\n",
      "No. Observations:                 156   AIC:                            -29.23\n",
      "Df Residuals:                     122   BIC:                             74.46\n",
      "Df Model:                          33                                         \n",
      "Covariance Type:            nonrobust                                         \n",
      "==========================================================================================================\n",
      "                                             coef    std err          t      P>|t|      [0.025      0.975]\n",
      "----------------------------------------------------------------------------------------------------------\n",
      "const                                      0.4165      0.118      3.532      0.001       0.183       0.650\n",
      "ranking                                   -0.0002      0.000     -0.964      0.337      -0.000       0.000\n",
      "total_assets                           -3.624e-09    3.8e-09     -0.954      0.342   -1.11e-08    3.89e-09\n",
      "roa                                        0.1634      0.117      1.394      0.166      -0.069       0.396\n",
      "publicly_traded                            0.0650      0.039      1.672      0.097      -0.012       0.142\n",
      "industry_Automotives                      -0.1789      0.124     -1.448      0.150      -0.423       0.066\n",
      "industry_Banks                            -0.1712      0.121     -1.414      0.160      -0.411       0.068\n",
      "industry_Beauty                           -0.0823      0.147     -0.560      0.576      -0.373       0.209\n",
      "industry_Beverage                         -0.1230      0.126     -0.977      0.330      -0.372       0.126\n",
      "industry_Clothing & Fashion Brands        -0.2311      0.123     -1.882      0.062      -0.474       0.012\n",
      "industry_Clothing & Fashion Stores        -0.2357      0.124     -1.895      0.060      -0.482       0.011\n",
      "industry_Consumer Goods                   -0.0716      0.136     -0.526      0.600      -0.341       0.198\n",
      "industry_Digital                          -0.1764      0.132     -1.339      0.183      -0.437       0.084\n",
      "industry_E-commerce                       -0.1819      0.128     -1.422      0.158      -0.435       0.071\n",
      "industry_Electricity & Heating            -0.3370      0.178     -1.891      0.061      -0.690       0.016\n",
      "industry_Feul                             -0.4074      0.154     -2.642      0.009      -0.713      -0.102\n",
      "industry_Food                             -0.1369      0.119     -1.152      0.252      -0.372       0.098\n",
      "industry_Furniture                        -0.1892      0.146     -1.295      0.198      -0.478       0.100\n",
      "industry_Gambling                         -0.0305      0.225     -0.136      0.892      -0.476       0.415\n",
      "industry_Grocery Stores                   -0.5020      0.184     -2.732      0.007      -0.866      -0.138\n",
      "industry_Healthcare Providers             -0.0035      0.181     -0.019      0.985      -0.362       0.355\n",
      "industry_Hobby & Leisure                  -0.3236      0.129     -2.508      0.013      -0.579      -0.068\n",
      "industry_Home Appliances & Electronics    -0.2256      0.116     -1.945      0.054      -0.455       0.004\n",
      "industry_Hotels                            0.1458      0.224      0.651      0.516      -0.297       0.589\n",
      "industry_Insurance                        -0.1598      0.160     -0.996      0.321      -0.477       0.158\n",
      "industry_Parcel & Logistics               -0.3762      0.143     -2.631      0.010      -0.659      -0.093\n",
      "industry_Pensions                         -0.6805      0.226     -3.009      0.003      -1.128      -0.233\n",
      "industry_Real Estate                      -0.1650      0.225     -0.733      0.465      -0.610       0.280\n",
      "industry_Restaurants                       0.0654      0.147      0.446      0.657      -0.225       0.356\n",
      "industry_Telecommunications               -0.2298      0.228     -1.008      0.315      -0.681       0.221\n",
      "industry_Tobacco                          -0.4382      0.227     -1.928      0.056      -0.888       0.012\n",
      "industry_Transport                        -0.2249      0.123     -1.835      0.069      -0.467       0.018\n",
      "industry_Travel & Tourism                 -0.1896      0.127     -1.489      0.139      -0.442       0.062\n",
      "industry_Vehicle Inspection               -0.4447      0.227     -1.963      0.052      -0.893       0.004\n",
      "==============================================================================\n",
      "Omnibus:                        1.826   Durbin-Watson:                   2.298\n",
      "Prob(Omnibus):                  0.401   Jarque-Bera (JB):                1.418\n",
      "Skew:                           0.127   Prob(JB):                        0.492\n",
      "Kurtosis:                       3.392   Cond. No.                     2.16e+08\n",
      "==============================================================================\n",
      "\n",
      "Notes:\n",
      "[1] Standard Errors assume that the covariance matrix of the errors is correctly specified.\n",
      "[2] The condition number is large, 2.16e+08. This might indicate that there are\n",
      "strong multicollinearity or other numerical problems.\n"
     ]
    }
   ],
   "source": [
    "# Define the dependent variable\n",
    "y = df['tone']\n",
    "\n",
    "# Define the independent variables\n",
    "X = df[['ranking', 'total_assets', 'roa', 'publicly_traded'] + list(industry_dummies.columns)]\n",
    "\n",
    "# Add a constant to the model (intercept)\n",
    "X = sm.add_constant(X)\n",
    "\n",
    "# Initialize and fit the OLS model\n",
    "model = sm.OLS(y, X).fit()\n",
    "\n",
    "# Print the summary of the model\n",
    "print(model.summary())"
   ]
  },
  {
   "cell_type": "code",
   "execution_count": 15,
   "id": "719786a1-d11d-4ac0-bf1b-62789599f26e",
   "metadata": {
    "tags": []
   },
   "outputs": [],
   "source": [
    "# Other regressions"
   ]
  },
  {
   "cell_type": "code",
   "execution_count": 38,
   "id": "f0b6b542-49ee-48a3-8868-7376d05387b1",
   "metadata": {
    "tags": []
   },
   "outputs": [],
   "source": [
    "# Load the CSV file\n",
    "all_control = pd.read_csv('report_table_count_all_control_variables.csv')\n",
    "\n",
    "# Calculate 'tone'\n",
    "all_control['tone'] = (all_control['total_positive_word_count'] - all_control['total_negative_word_count']) / (all_control['total_positive_word_count'] + all_control['total_negative_word_count'])\n",
    "\n",
    "# Convert 'industry' to dummy variables\n",
    "industry_dummies = pd.get_dummies(all_control['industry'], prefix='industry', drop_first=True)\n",
    "\n",
    "# Convert boolean dummy variables to int\n",
    "for column in industry_dummies.columns:\n",
    "    industry_dummies[column] = industry_dummies[column].astype(int)\n",
    "\n",
    "all_control = pd.concat([all_control, industry_dummies], axis=1)\n",
    "\n",
    "# Convert 'roa' to string, replace commas with periods, then convert to float\n",
    "all_control['roa'] = all_control['roa'].astype(str).str.replace(',', '.').astype(float)"
   ]
  },
  {
   "cell_type": "code",
   "execution_count": 39,
   "id": "bee47a17-0681-4c0c-a4b4-ff3fc3e40961",
   "metadata": {
    "tags": []
   },
   "outputs": [
    {
     "name": "stdout",
     "output_type": "stream",
     "text": [
      "                            OLS Regression Results                            \n",
      "==============================================================================\n",
      "Dep. Variable:                   tone   R-squared:                       0.296\n",
      "Model:                            OLS   Adj. R-squared:                  0.112\n",
      "Method:                 Least Squares   F-statistic:                     1.612\n",
      "Date:                Fri, 22 Mar 2024   Prob (F-statistic):             0.0338\n",
      "Time:                        21:21:50   Log-Likelihood:                 48.025\n",
      "No. Observations:                 156   AIC:                            -30.05\n",
      "Df Residuals:                     123   BIC:                             70.60\n",
      "Df Model:                          32                                         \n",
      "Covariance Type:            nonrobust                                         \n",
      "==========================================================================================================\n",
      "                                             coef    std err          t      P>|t|      [0.025      0.975]\n",
      "----------------------------------------------------------------------------------------------------------\n",
      "const                                      0.3596      0.102      3.523      0.001       0.158       0.562\n",
      "total_assets                           -4.157e-09   3.75e-09     -1.107      0.270   -1.16e-08    3.28e-09\n",
      "roa                                        0.1508      0.117      1.295      0.198      -0.080       0.381\n",
      "publicly_traded                            0.0637      0.039      1.640      0.104      -0.013       0.141\n",
      "industry_Automotives                      -0.1535      0.121     -1.272      0.206      -0.392       0.085\n",
      "industry_Banks                            -0.1524      0.119     -1.276      0.204      -0.389       0.084\n",
      "industry_Beauty                           -0.0498      0.143     -0.349      0.728      -0.333       0.233\n",
      "industry_Beverage                         -0.0966      0.123     -0.787      0.433      -0.340       0.146\n",
      "industry_Clothing & Fashion Brands        -0.2104      0.121     -1.741      0.084      -0.450       0.029\n",
      "industry_Clothing & Fashion Stores        -0.2094      0.121     -1.726      0.087      -0.449       0.031\n",
      "industry_Consumer Goods                   -0.0638      0.136     -0.470      0.639      -0.332       0.205\n",
      "industry_Digital                          -0.1386      0.126     -1.102      0.272      -0.387       0.110\n",
      "industry_E-commerce                       -0.1552      0.125     -1.242      0.216      -0.402       0.092\n",
      "industry_Electricity & Heating            -0.3029      0.175     -1.735      0.085      -0.649       0.043\n",
      "industry_Feul                             -0.3919      0.153     -2.556      0.012      -0.695      -0.088\n",
      "industry_Food                             -0.1093      0.115     -0.948      0.345      -0.338       0.119\n",
      "industry_Furniture                        -0.1576      0.142     -1.108      0.270      -0.439       0.124\n",
      "industry_Gambling                         -0.0300      0.225     -0.133      0.894      -0.476       0.416\n",
      "industry_Grocery Stores                   -0.4467      0.175     -2.559      0.012      -0.792      -0.101\n",
      "industry_Healthcare Providers              0.0218      0.179      0.122      0.903      -0.332       0.376\n",
      "industry_Hobby & Leisure                  -0.2952      0.126     -2.351      0.020      -0.544      -0.047\n",
      "industry_Home Appliances & Electronics    -0.1996      0.113     -1.770      0.079      -0.423       0.024\n",
      "industry_Hotels                            0.1939      0.218      0.889      0.376      -0.238       0.626\n",
      "industry_Insurance                        -0.1173      0.154     -0.761      0.448      -0.423       0.188\n",
      "industry_Parcel & Logistics               -0.3575      0.142     -2.524      0.013      -0.638      -0.077\n",
      "industry_Pensions                         -0.6579      0.225     -2.925      0.004      -1.103      -0.213\n",
      "industry_Real Estate                      -0.1662      0.225     -0.739      0.461      -0.611       0.279\n",
      "industry_Restaurants                       0.1013      0.142      0.713      0.477      -0.180       0.382\n",
      "industry_Telecommunications               -0.1949      0.225     -0.866      0.388      -0.640       0.250\n",
      "industry_Tobacco                          -0.4360      0.227     -1.919      0.057      -0.886       0.014\n",
      "industry_Transport                        -0.2060      0.121     -1.704      0.091      -0.445       0.033\n",
      "industry_Travel & Tourism                 -0.1707      0.126     -1.357      0.177      -0.420       0.078\n",
      "industry_Vehicle Inspection               -0.4278      0.226     -1.895      0.060      -0.875       0.019\n",
      "==============================================================================\n",
      "Omnibus:                        1.876   Durbin-Watson:                   2.312\n",
      "Prob(Omnibus):                  0.391   Jarque-Bera (JB):                1.537\n",
      "Skew:                           0.081   Prob(JB):                        0.464\n",
      "Kurtosis:                       3.459   Cond. No.                     2.09e+08\n",
      "==============================================================================\n",
      "\n",
      "Notes:\n",
      "[1] Standard Errors assume that the covariance matrix of the errors is correctly specified.\n",
      "[2] The condition number is large, 2.09e+08. This might indicate that there are\n",
      "strong multicollinearity or other numerical problems.\n"
     ]
    }
   ],
   "source": [
    "# Define the dependent variable\n",
    "y = all_control['tone']\n",
    "\n",
    "# Define the independent variables\n",
    "X = all_control[['total_assets', 'roa', 'publicly_traded'] + list(industry_dummies.columns)]\n",
    "\n",
    "# Add a constant to the model (intercept)\n",
    "X = sm.add_constant(X)\n",
    "\n",
    "# Initialize and fit the OLS model\n",
    "model = sm.OLS(y, X).fit()\n",
    "\n",
    "# Print the summary of the model\n",
    "print(model.summary())"
   ]
  },
  {
   "cell_type": "code",
   "execution_count": null,
   "id": "ab980ceb-178d-4425-9036-1360024e1a61",
   "metadata": {},
   "outputs": [],
   "source": []
  },
  {
   "cell_type": "code",
   "execution_count": null,
   "id": "7a028faf-c424-456b-b5ed-7ee57e0a791e",
   "metadata": {},
   "outputs": [],
   "source": []
  },
  {
   "cell_type": "code",
   "execution_count": null,
   "id": "a028dfa3-5ad0-45b8-be94-ff40a84b781a",
   "metadata": {},
   "outputs": [],
   "source": []
  },
  {
   "cell_type": "code",
   "execution_count": null,
   "id": "f1c0b1b3-8895-4b75-a809-6a24f8f4007b",
   "metadata": {},
   "outputs": [],
   "source": []
  },
  {
   "cell_type": "code",
   "execution_count": 54,
   "id": "5c058222-6404-41bb-bd4c-a807c32ee8ac",
   "metadata": {
    "tags": []
   },
   "outputs": [],
   "source": [
    "df = pd.read_csv(\"report_table_count_ranking.csv\")\n",
    "df['total_positive_word_count'] = pd.to_numeric(df['total_positive_word_count'], errors='coerce')\n",
    "df['total_negative_word_count'] = pd.to_numeric(df['total_negative_word_count'], errors='coerce')"
   ]
  },
  {
   "cell_type": "code",
   "execution_count": 55,
   "id": "1ef1161f-272c-4b09-87db-0865182a25d1",
   "metadata": {
    "tags": []
   },
   "outputs": [],
   "source": [
    "# Calculate 'tone'\n",
    "df['tone'] = (df['total_positive_word_count'] - df['total_negative_word_count']) / (df['total_positive_word_count'] + df['total_negative_word_count'])"
   ]
  },
  {
   "cell_type": "code",
   "execution_count": 56,
   "id": "8c8000c1-2151-417f-9f53-c4ac60d436ac",
   "metadata": {
    "tags": []
   },
   "outputs": [],
   "source": [
    "# Assign rankings based on row order\n",
    "df['rank'] = df.index + 1\n",
    "# Rank the 'tone' column to get 'tone_rank'\n",
    "df['tone_rank'] = df['tone'].rank(ascending=False, method='min')\n",
    "# Select the 'report_name', 'rank', 'tone', and 'tone_rank' columns for the new CSV\n",
    "df_new = df[['report_name', 'rank', 'tone', 'tone_rank']]\n",
    "# Save to a new CSV file named \"report_table_tone_rank.csv\"\n",
    "df_new.to_csv(\"report_table_tone_rank.csv\", index=False)"
   ]
  },
  {
   "cell_type": "code",
   "execution_count": 57,
   "id": "f7130543-106d-4faa-8f08-7663d76a6f9e",
   "metadata": {
    "tags": []
   },
   "outputs": [
    {
     "name": "stdout",
     "output_type": "stream",
     "text": [
      "Spearman's correlation coefficient: 0.04155117911401642\n",
      "p-value: 0.6042022231512534\n"
     ]
    }
   ],
   "source": [
    "# Calculate Spearman's correlation\n",
    "spearman_corr, p_value = spearmanr(df['rank'], df['tone_rank'])\n",
    "# Output the results\n",
    "print(f\"Spearman's correlation coefficient: {spearman_corr}\")\n",
    "print(f\"p-value: {p_value}\")"
   ]
  },
  {
   "cell_type": "code",
   "execution_count": 58,
   "id": "e350e5bd-2228-4344-9683-c9bff18b6a22",
   "metadata": {
    "tags": []
   },
   "outputs": [],
   "source": [
    "df = pd.read_csv(\"report_table_count_industries.csv\")\n",
    "df['total_positive_word_count'] = pd.to_numeric(df['total_positive_word_count'], errors='coerce')\n",
    "df['total_negative_word_count'] = pd.to_numeric(df['total_negative_word_count'], errors='coerce')"
   ]
  },
  {
   "cell_type": "code",
   "execution_count": 59,
   "id": "fdbf88dc-133b-427c-bc4b-f6af0c441564",
   "metadata": {
    "tags": []
   },
   "outputs": [],
   "source": [
    "# Calculate 'tone'\n",
    "df['tone'] = (df['total_positive_word_count'] - df['total_negative_word_count']) / (df['total_positive_word_count'] + df['total_negative_word_count'])"
   ]
  },
  {
   "cell_type": "code",
   "execution_count": 60,
   "id": "400e2e14-8159-4670-a996-a75f26a8679a",
   "metadata": {
    "tags": []
   },
   "outputs": [
    {
     "name": "stdout",
     "output_type": "stream",
     "text": [
      "Kruskal-Wallis test statistic: 27.615509407711862\n",
      "p-value: 0.09111271506349974\n"
     ]
    }
   ],
   "source": [
    "# Group the data by industry and collect tones into lists\n",
    "tones_by_industry = df.groupby('industry')['tone'].apply(list)\n",
    "# Prepare the arguments for the Kruskal-Wallis test\n",
    "args = [group for group in tones_by_industry]\n",
    "# Perform the Kruskal-Wallis test\n",
    "stat, p_value = kruskal(*args)\n",
    "# Output the results\n",
    "print(f\"Kruskal-Wallis test statistic: {stat}\")\n",
    "print(f\"p-value: {p_value}\")"
   ]
  },
  {
   "cell_type": "code",
   "execution_count": 2,
   "id": "e4dd8fcb-f2a7-41d2-a00d-3e1d2f82737a",
   "metadata": {},
   "outputs": [],
   "source": [
    "# Load the CSV file\n",
    "df = pd.read_csv('report_table_count_all_industries.csv')\n",
    "\n",
    "# Convert 'ranking' to numeric, handling any non-numeric values as NaN\n",
    "df['ranking'] = pd.to_numeric(df['ranking'], errors='coerce')\n",
    "\n",
    "# Ensure 'total_positive_word_count' and 'total_negative_word_count' are numeric\n",
    "df['total_positive_word_count'] = pd.to_numeric(df['total_positive_word_count'], errors='coerce')\n",
    "df['total_negative_word_count'] = pd.to_numeric(df['total_negative_word_count'], errors='coerce')\n",
    "\n",
    "# Calculate 'tone'\n",
    "df['tone'] = (df['total_positive_word_count'] - df['total_negative_word_count']) / (df['total_positive_word_count'] + df['total_negative_word_count'])"
   ]
  },
  {
   "cell_type": "code",
   "execution_count": 5,
   "id": "4e992dd8-0cf4-4e31-990d-d353fce6dcdd",
   "metadata": {
    "tags": []
   },
   "outputs": [
    {
     "name": "stdout",
     "output_type": "stream",
     "text": [
      "                            OLS Regression Results                            \n",
      "==============================================================================\n",
      "Dep. Variable:                   tone   R-squared:                       0.267\n",
      "Model:                            OLS   Adj. R-squared:                  0.094\n",
      "Method:                 Least Squares   F-statistic:                     1.545\n",
      "Date:                Fri, 01 Mar 2024   Prob (F-statistic):             0.0511\n",
      "Time:                        02:36:42   Log-Likelihood:                 45.051\n",
      "No. Observations:                 158   AIC:                            -28.10\n",
      "Df Residuals:                     127   BIC:                             66.84\n",
      "Df Model:                          30                                         \n",
      "Covariance Type:            nonrobust                                         \n",
      "=================================================================================================\n",
      "                                    coef    std err          t      P>|t|      [0.025      0.975]\n",
      "-------------------------------------------------------------------------------------------------\n",
      "const                             0.4479      0.117      3.812      0.000       0.215       0.680\n",
      "ranking                          -0.0001      0.000     -0.825      0.411      -0.000       0.000\n",
      "Automotives                      -0.1779      0.124     -1.430      0.155      -0.424       0.068\n",
      "Banks                            -0.1836      0.121     -1.513      0.133      -0.424       0.057\n",
      "Beauty                           -0.1156      0.148     -0.784      0.435      -0.408       0.176\n",
      "Beverage                         -0.1276      0.127     -1.003      0.318      -0.379       0.124\n",
      "Clothing & Fashion Brands        -0.2488      0.124     -2.008      0.047      -0.494      -0.004\n",
      "Clothing & Fashion Stores        -0.2617      0.125     -2.092      0.038      -0.509      -0.014\n",
      "Consumer Goods                   -0.0376      0.136     -0.276      0.783      -0.307       0.232\n",
      "Digital                          -0.1668      0.133     -1.259      0.210      -0.429       0.095\n",
      "E-commerce                       -0.2203      0.128     -1.724      0.087      -0.473       0.033\n",
      "Electricity & Heating            -0.3044      0.179     -1.701      0.091      -0.659       0.050\n",
      "Feul                             -0.4130      0.156     -2.653      0.009      -0.721      -0.105\n",
      "Food                             -0.1328      0.118     -1.127      0.262      -0.366       0.100\n",
      "Furniture                        -0.1878      0.147     -1.278      0.203      -0.478       0.103\n",
      "Gambling                         -0.0825      0.227     -0.364      0.717      -0.531       0.367\n",
      "Grocery Stores                   -0.5312      0.185     -2.874      0.005      -0.897      -0.165\n",
      "Healthcare Providers             -0.0896      0.178     -0.502      0.616      -0.443       0.263\n",
      "Hobby & Leisure                  -0.3245      0.130     -2.487      0.014      -0.583      -0.066\n",
      "Home Appliances & Electronics    -0.2284      0.117     -1.949      0.053      -0.460       0.003\n",
      "Hotels                           -0.0026      0.178     -0.014      0.988      -0.356       0.350\n",
      "Insurance                        -0.1876      0.161     -1.165      0.246      -0.506       0.131\n",
      "Parcel & Logistics               -0.3776      0.145     -2.608      0.010      -0.664      -0.091\n",
      "Pensions                         -0.7013      0.228     -3.075      0.003      -1.153      -0.250\n",
      "Real Estate                      -0.1396      0.227     -0.615      0.539      -0.589       0.309\n",
      "Restaurants                       0.0598      0.148      0.404      0.687      -0.233       0.353\n",
      "Telecommunications               -0.2009      0.230     -0.875      0.383      -0.655       0.254\n",
      "Tobacco                          -0.4269      0.227     -1.881      0.062      -0.876       0.022\n",
      "Transport                        -0.2472      0.124     -2.000      0.048      -0.492      -0.003\n",
      "Travel & Tourism                 -0.2011      0.129     -1.561      0.121      -0.456       0.054\n",
      "Vehicle Inspection               -0.4470      0.227     -1.966      0.052      -0.897       0.003\n",
      "==============================================================================\n",
      "Omnibus:                        1.478   Durbin-Watson:                   2.323\n",
      "Prob(Omnibus):                  0.478   Jarque-Bera (JB):                1.117\n",
      "Skew:                           0.023   Prob(JB):                        0.572\n",
      "Kurtosis:                       3.409   Cond. No.                     8.99e+03\n",
      "==============================================================================\n",
      "\n",
      "Notes:\n",
      "[1] Standard Errors assume that the covariance matrix of the errors is correctly specified.\n",
      "[2] The condition number is large, 8.99e+03. This might indicate that there are\n",
      "strong multicollinearity or other numerical problems.\n"
     ]
    }
   ],
   "source": [
    "# Generate dummy variables for the 'industry' column, excluding the first to avoid multicollinearity\n",
    "industry_dummies = pd.get_dummies(df['industry'], drop_first=True)\n",
    "\n",
    "# Prepare the independent variables (including industry dummies) and the dependent variable\n",
    "X = pd.concat([df[['ranking']], industry_dummies], axis=1)\n",
    "y = df['tone']\n",
    "\n",
    "# Add a constant to the model (intercept)\n",
    "X = sm.add_constant(X)\n",
    "\n",
    "# Convert boolean dummy variables to int\n",
    "for column in industry_dummies.columns:\n",
    "    industry_dummies[column] = industry_dummies[column].astype(int)\n",
    "\n",
    "# If you've already concatenated the dummy variables to X, convert them directly in X\n",
    "for column in X.columns[2:]:  # Assuming the first two columns are 'const' and 'ranking'\n",
    "    X[column] = X[column].astype(int)\n",
    "\n",
    "# Now, X and y should be fully compatible with statsmodels\n",
    "# Fit the OLS regression model again\n",
    "model = sm.OLS(y, X).fit()\n",
    "\n",
    "# Print the summary of the regression\n",
    "print(model.summary())"
   ]
  },
  {
   "cell_type": "code",
   "execution_count": 3,
   "id": "b58be257-213c-4d5c-9c08-e3a437f92b1b",
   "metadata": {
    "tags": []
   },
   "outputs": [
    {
     "name": "stdout",
     "output_type": "stream",
     "text": [
      "                            OLS Regression Results                            \n",
      "==============================================================================\n",
      "Dep. Variable:                ranking   R-squared:                       0.256\n",
      "Model:                            OLS   Adj. R-squared:                  0.080\n",
      "Method:                 Least Squares   F-statistic:                     1.455\n",
      "Date:                Sun, 03 Mar 2024   Prob (F-statistic):             0.0792\n",
      "Time:                        00:46:22   Log-Likelihood:                -955.76\n",
      "No. Observations:                 158   AIC:                             1974.\n",
      "Df Residuals:                     127   BIC:                             2068.\n",
      "Df Model:                          30                                         \n",
      "Covariance Type:            nonrobust                                         \n",
      "=================================================================================================\n",
      "                                    coef    std err          t      P>|t|      [0.025      0.975]\n",
      "-------------------------------------------------------------------------------------------------\n",
      "const                           393.6715     60.544      6.502      0.000     273.865     513.478\n",
      "tone                            -41.1603     49.873     -0.825      0.411    -139.850      57.529\n",
      "Automotives                    -162.5175     69.172     -2.349      0.020    -299.396     -25.639\n",
      "Banks                          -120.5033     68.181     -1.767      0.080    -255.420      14.414\n",
      "Beauty                         -221.8448     80.984     -2.739      0.007    -382.097     -61.592\n",
      "Beverage                       -175.9600     70.229     -2.506      0.013    -314.931     -36.989\n",
      "Clothing & Fashion Brands      -147.7519     69.681     -2.120      0.036    -285.639      -9.865\n",
      "Clothing & Fashion Stores      -186.8539     69.747     -2.679      0.008    -324.871     -48.837\n",
      "Consumer Goods                  -43.1751     76.734     -0.563      0.575    -195.017     108.667\n",
      "Digital                        -242.2817     72.001     -3.365      0.001    -384.760     -99.804\n",
      "E-commerce                     -197.0587     70.710     -2.787      0.006    -336.981     -57.136\n",
      "Electricity & Heating          -227.1273     99.996     -2.271      0.025    -425.001     -29.253\n",
      "Feul                           -110.4146     89.604     -1.232      0.220    -287.725      66.896\n",
      "Food                           -190.9229     64.583     -2.956      0.004    -318.722     -63.124\n",
      "Furniture                      -207.1598     81.268     -2.549      0.012    -367.975     -46.344\n",
      "Gambling                        -21.5480    127.924     -0.168      0.867    -274.686     231.590\n",
      "Grocery Stores                 -385.1674    101.939     -3.778      0.000    -586.886    -183.448\n",
      "Healthcare Providers           -199.8870     99.093     -2.017      0.046    -395.974      -3.801\n",
      "Hobby & Leisure                -197.4763     73.231     -2.697      0.008    -342.387     -52.566\n",
      "Home Appliances & Electronics  -175.5602     65.176     -2.694      0.008    -304.533     -46.588\n",
      "Hotels                         -193.8173     99.048     -1.957      0.053    -389.815       2.180\n",
      "Insurance                      -285.8156     87.672     -3.260      0.001    -459.302    -112.329\n",
      "Parcel & Logistics             -135.8951     82.856     -1.640      0.103    -299.853      28.063\n",
      "Pensions                       -175.3313    132.311     -1.325      0.188    -437.152      86.489\n",
      "Real Estate                       1.9615    128.054      0.015      0.988    -251.434     255.357\n",
      "Restaurants                    -227.8037     80.991     -2.813      0.006    -388.070     -67.538\n",
      "Telecommunications             -233.3102    128.147     -1.821      0.071    -486.891      20.270\n",
      "Tobacco                         -14.8342    129.625     -0.114      0.909    -271.338     241.669\n",
      "Transport                      -137.9628     69.679     -1.980      0.050    -275.845      -0.081\n",
      "Travel & Tourism               -136.5528     72.268     -1.890      0.061    -279.558       6.453\n",
      "Vehicle Inspection             -118.1157    129.681     -0.911      0.364    -374.731     138.500\n",
      "==============================================================================\n",
      "Omnibus:                        5.149   Durbin-Watson:                   2.403\n",
      "Prob(Omnibus):                  0.076   Jarque-Bera (JB):                3.040\n",
      "Skew:                           0.120   Prob(JB):                        0.219\n",
      "Kurtosis:                       2.364   Cond. No.                         37.7\n",
      "==============================================================================\n",
      "\n",
      "Notes:\n",
      "[1] Standard Errors assume that the covariance matrix of the errors is correctly specified.\n"
     ]
    }
   ],
   "source": [
    "# Generate dummy variables for the 'industry' column, excluding the first to avoid multicollinearity\n",
    "industry_dummies = pd.get_dummies(df['industry'], drop_first=True)\n",
    "\n",
    "# Prepare the independent variables (including industry dummies) and the dependent variable\n",
    "X = pd.concat([df[['tone']], industry_dummies], axis=1)\n",
    "y = df['ranking']\n",
    "\n",
    "# Add a constant to the model (intercept)\n",
    "X = sm.add_constant(X)\n",
    "\n",
    "# Convert boolean dummy variables to int\n",
    "for column in industry_dummies.columns:\n",
    "    industry_dummies[column] = industry_dummies[column].astype(int)\n",
    "\n",
    "# If you've already concatenated the dummy variables to X, convert them directly in X\n",
    "for column in X.columns[2:]:  # Assuming the first two columns are 'const' and 'ranking'\n",
    "    X[column] = X[column].astype(int)\n",
    "\n",
    "# Now, X and y should be fully compatible with statsmodels\n",
    "# Fit the OLS regression model again\n",
    "model = sm.OLS(y, X).fit()\n",
    "\n",
    "# Print the summary of the regression\n",
    "print(model.summary())"
   ]
  },
  {
   "cell_type": "code",
   "execution_count": 3,
   "id": "eb80d62a-99de-436a-b12a-906eb14d3e43",
   "metadata": {
    "tags": []
   },
   "outputs": [],
   "source": [
    "# Load the CSV file\n",
    "df = pd.read_csv('report_table_count_all_industries.csv')\n",
    "\n",
    "# Convert 'ranking' to numeric, handling any non-numeric values as NaN\n",
    "df['ranking'] = pd.to_numeric(df['ranking'], errors='coerce')\n",
    "\n",
    "# Ensure 'total_positive_word_count' and 'total_negative_word_count' are numeric\n",
    "df['total_positive_word_count'] = pd.to_numeric(df['total_positive_word_count'], errors='coerce')\n",
    "df['total_negative_word_count'] = pd.to_numeric(df['total_negative_word_count'], errors='coerce')\n",
    "df['total_negative_word_count'] = pd.to_numeric(df['word_count'], errors='coerce')\n",
    "\n",
    "# Calculate 'tone'\n",
    "df['tone_%'] = (df['total_positive_word_count'] / df['word_count'])/ - (df['total_negative_word_count'] / df['word_count'])"
   ]
  },
  {
   "cell_type": "code",
   "execution_count": 6,
   "id": "1711fc3c-c5e4-415e-942d-1be5dd1efcb1",
   "metadata": {
    "tags": []
   },
   "outputs": [
    {
     "name": "stdout",
     "output_type": "stream",
     "text": [
      "                            OLS Regression Results                            \n",
      "==============================================================================\n",
      "Dep. Variable:                   tone   R-squared:                       0.277\n",
      "Model:                            OLS   Adj. R-squared:                  0.099\n",
      "Method:                 Least Squares   F-statistic:                     1.557\n",
      "Date:                Fri, 01 Mar 2024   Prob (F-statistic):             0.0464\n",
      "Time:                        02:36:49   Log-Likelihood:                 46.099\n",
      "No. Observations:                 158   AIC:                            -28.20\n",
      "Df Residuals:                     126   BIC:                             69.81\n",
      "Df Model:                          31                                         \n",
      "Covariance Type:            nonrobust                                         \n",
      "=================================================================================================\n",
      "                                    coef    std err          t      P>|t|      [0.025      0.975]\n",
      "-------------------------------------------------------------------------------------------------\n",
      "const                             0.4457      0.117      3.803      0.000       0.214       0.678\n",
      "ranking                       -8.632e-05      0.000     -0.539      0.591      -0.000       0.000\n",
      "word_count                    -1.069e-06   8.24e-07     -1.297      0.197    -2.7e-06    5.62e-07\n",
      "Automotives                      -0.1157      0.133     -0.870      0.386      -0.379       0.148\n",
      "Banks                            -0.1690      0.122     -1.390      0.167      -0.410       0.072\n",
      "Beauty                           -0.1076      0.147     -0.731      0.466      -0.399       0.184\n",
      "Beverage                         -0.1141      0.127     -0.896      0.372      -0.366       0.138\n",
      "Clothing & Fashion Brands        -0.2345      0.124     -1.891      0.061      -0.480       0.011\n",
      "Clothing & Fashion Stores        -0.2335      0.127     -1.844      0.067      -0.484       0.017\n",
      "Consumer Goods                   -0.0129      0.137     -0.094      0.925      -0.285       0.259\n",
      "Digital                          -0.1505      0.133     -1.134      0.259      -0.413       0.112\n",
      "E-commerce                       -0.2077      0.128     -1.626      0.107      -0.461       0.045\n",
      "Electricity & Heating            -0.2734      0.180     -1.518      0.132      -0.630       0.083\n",
      "Feul                             -0.3835      0.157     -2.444      0.016      -0.694      -0.073\n",
      "Food                             -0.1153      0.118     -0.974      0.332      -0.350       0.119\n",
      "Furniture                        -0.1736      0.147     -1.182      0.240      -0.464       0.117\n",
      "Gambling                         -0.0853      0.226     -0.377      0.707      -0.533       0.363\n",
      "Grocery Stores                   -0.4995      0.186     -2.685      0.008      -0.868      -0.131\n",
      "Healthcare Providers             -0.0832      0.178     -0.467      0.641      -0.436       0.269\n",
      "Hobby & Leisure                  -0.3127      0.130     -2.397      0.018      -0.571      -0.055\n",
      "Home Appliances & Electronics    -0.1862      0.121     -1.535      0.127      -0.426       0.054\n",
      "Hotels                            0.0112      0.178      0.063      0.950      -0.341       0.364\n",
      "Insurance                        -0.1705      0.161     -1.058      0.292      -0.490       0.148\n",
      "Parcel & Logistics               -0.3695      0.144     -2.557      0.012      -0.655      -0.084\n",
      "Pensions                         -0.6996      0.227     -3.076      0.003      -1.150      -0.250\n",
      "Real Estate                      -0.1420      0.226     -0.628      0.531      -0.590       0.306\n",
      "Restaurants                       0.0758      0.148      0.512      0.610      -0.217       0.369\n",
      "Telecommunications               -0.1913      0.229     -0.835      0.405      -0.645       0.262\n",
      "Tobacco                          -0.4266      0.226     -1.885      0.062      -0.874       0.021\n",
      "Transport                        -0.2332      0.124     -1.884      0.062      -0.478       0.012\n",
      "Travel & Tourism                 -0.1931      0.129     -1.501      0.136      -0.448       0.061\n",
      "Vehicle Inspection               -0.4426      0.227     -1.951      0.053      -0.892       0.006\n",
      "==============================================================================\n",
      "Omnibus:                        1.956   Durbin-Watson:                   2.288\n",
      "Prob(Omnibus):                  0.376   Jarque-Bera (JB):                1.614\n",
      "Skew:                          -0.098   Prob(JB):                        0.446\n",
      "Kurtosis:                       3.455   Cond. No.                     1.29e+06\n",
      "==============================================================================\n",
      "\n",
      "Notes:\n",
      "[1] Standard Errors assume that the covariance matrix of the errors is correctly specified.\n",
      "[2] The condition number is large, 1.29e+06. This might indicate that there are\n",
      "strong multicollinearity or other numerical problems.\n"
     ]
    }
   ],
   "source": [
    "# Generate dummy variables for the 'industry' column, excluding the first to avoid multicollinearity\n",
    "industry_dummies = pd.get_dummies(df['industry'], drop_first=True)\n",
    "\n",
    "# Prepare the independent variables (including industry dummies) and the dependent variable\n",
    "X = pd.concat([df[['ranking', 'word_count']], industry_dummies], axis=1)\n",
    "y = df['tone']\n",
    "\n",
    "# Add a constant to the model (intercept)\n",
    "X = sm.add_constant(X)\n",
    "\n",
    "# Convert boolean dummy variables to int\n",
    "for column in industry_dummies.columns:\n",
    "    industry_dummies[column] = industry_dummies[column].astype(int)\n",
    "\n",
    "# If you've already concatenated the dummy variables to X, convert them directly in X\n",
    "for column in X.columns[2:]:  # Assuming the first two columns are 'const' and 'ranking'\n",
    "    X[column] = X[column].astype(int)\n",
    "\n",
    "# Now, X and y should be fully compatible with statsmodels\n",
    "# Fit the OLS regression model again\n",
    "model = sm.OLS(y, X).fit()\n",
    "\n",
    "# Print the summary of the regression\n",
    "print(model.summary())"
   ]
  },
  {
   "cell_type": "code",
   "execution_count": 7,
   "id": "8fcf12d4-ccce-4b11-944f-fc4c37059ba0",
   "metadata": {},
   "outputs": [
    {
     "name": "stdout",
     "output_type": "stream",
     "text": [
      "                            OLS Regression Results                            \n",
      "==============================================================================\n",
      "Dep. Variable:                   tone   R-squared:                       0.002\n",
      "Model:                            OLS   Adj. R-squared:                 -0.005\n",
      "Method:                 Least Squares   F-statistic:                    0.2775\n",
      "Date:                Fri, 01 Mar 2024   Prob (F-statistic):              0.599\n",
      "Time:                        02:36:53   Log-Likelihood:                 20.616\n",
      "No. Observations:                 158   AIC:                            -37.23\n",
      "Df Residuals:                     156   BIC:                            -31.11\n",
      "Df Model:                           1                                         \n",
      "Covariance Type:            nonrobust                                         \n",
      "==============================================================================\n",
      "                 coef    std err          t      P>|t|      [0.025      0.975]\n",
      "------------------------------------------------------------------------------\n",
      "const          0.2359      0.035      6.680      0.000       0.166       0.306\n",
      "ranking    -7.536e-05      0.000     -0.527      0.599      -0.000       0.000\n",
      "==============================================================================\n",
      "Omnibus:                        0.664   Durbin-Watson:                   1.831\n",
      "Prob(Omnibus):                  0.718   Jarque-Bera (JB):                0.325\n",
      "Skew:                          -0.009   Prob(JB):                        0.850\n",
      "Kurtosis:                       3.221   Cond. No.                         513.\n",
      "==============================================================================\n",
      "\n",
      "Notes:\n",
      "[1] Standard Errors assume that the covariance matrix of the errors is correctly specified.\n"
     ]
    }
   ],
   "source": [
    "# Assuming df is your DataFrame loaded from the CSV file\n",
    "# Assuming 'ranking' and 'tone' have already been calculated and are present in df\n",
    "\n",
    "# Convert 'ranking' to numeric, handling any non-numeric values as NaN\n",
    "df['ranking'] = pd.to_numeric(df['ranking'], errors='coerce')\n",
    "\n",
    "# Prepare the independent variable ('ranking') and the dependent variable ('tone')\n",
    "X = df[['ranking']]\n",
    "y = df['tone']\n",
    "\n",
    "# Add a constant to the model (intercept)\n",
    "X = sm.add_constant(X)\n",
    "\n",
    "# Fit the OLS regression model\n",
    "model = sm.OLS(y, X).fit()\n",
    "\n",
    "# Print the summary of the regression\n",
    "print(model.summary())"
   ]
  },
  {
   "cell_type": "code",
   "execution_count": null,
   "id": "1b49ece2-8b66-4878-bdd5-6037e78770f2",
   "metadata": {},
   "outputs": [],
   "source": [
    "# Comment Jonas"
   ]
  }
 ],
 "metadata": {
  "kernelspec": {
   "display_name": "default:Python",
   "language": "python",
   "name": "conda-env-default-py"
  },
  "language_info": {
   "codemirror_mode": {
    "name": "ipython",
    "version": 3
   },
   "file_extension": ".py",
   "mimetype": "text/x-python",
   "name": "python",
   "nbconvert_exporter": "python",
   "pygments_lexer": "ipython3",
   "version": "3.9.16"
  }
 },
 "nbformat": 4,
 "nbformat_minor": 5
}
