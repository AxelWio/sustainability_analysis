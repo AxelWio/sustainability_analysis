{
 "cells": [
  {
   "cell_type": "markdown",
   "id": "e31020fa-9e96-409d-b5b7-1c9d328bd343",
   "metadata": {
    "id": "e31020fa-9e96-409d-b5b7-1c9d328bd343"
   },
   "source": [
    "# Sustainability Anlysis"
   ]
  },
  {
   "cell_type": "markdown",
   "id": "04ca6821-8283-4349-a681-261746a0971c",
   "metadata": {
    "id": "04ca6821-8283-4349-a681-261746a0971c"
   },
   "source": [
    "# 1 Configuration"
   ]
  },
  {
   "cell_type": "code",
   "execution_count": 1,
   "id": "7ba23804-4c6c-4544-91dc-eeb2921cd127",
   "metadata": {
    "id": "7ba23804-4c6c-4544-91dc-eeb2921cd127",
    "tags": []
   },
   "outputs": [],
   "source": [
    "import os\n",
    "import numpy as np\n",
    "import pandas as pd\n",
    "import PyPDF2\n",
    "import string\n",
    "import unicodedata\n",
    "from tqdm import tqdm\n",
    "from scipy import stats\n",
    "import statsmodels.api as sm\n",
    "import matplotlib.pyplot as plt\n",
    "import seaborn as sns\n",
    "from sklearn.preprocessing import StandardScaler\n",
    "from scipy.stats import f\n",
    "from scipy.stats import t\n",
    "from statsmodels.stats.outliers_influence import variance_inflation_factor\n",
    "from collections import Counter\n",
    "from statsmodels.stats.diagnostic import linear_reset\n",
    "from statsmodels.stats.diagnostic import het_breuschpagan"
   ]
  },
  {
   "cell_type": "markdown",
   "id": "1c6ea796-49d1-4447-8c16-4be45ab1f4dc",
   "metadata": {
    "id": "1c6ea796-49d1-4447-8c16-4be45ab1f4dc"
   },
   "source": [
    "# 2 Convert Sustainability Reports to Text Files"
   ]
  },
  {
   "cell_type": "code",
   "execution_count": null,
   "id": "6079a0cb-f630-41e0-87a0-e8ed33c2e60a",
   "metadata": {
    "id": "6079a0cb-f630-41e0-87a0-e8ed33c2e60a",
    "tags": []
   },
   "outputs": [],
   "source": [
    "def report_to_text(report):\n",
    "    \"\"\"Create a text string of pdf-file content\"\"\"\n",
    "    pdfFileObj = open(f\"Reports/{report}.pdf\", \"rb\")\n",
    "    pdfReader = PyPDF2.PdfReader(pdfFileObj)\n",
    "    no_pages = len(pdfReader.pages)\n",
    "\n",
    "    report_text = \"\"\n",
    "    for i in range(0,no_pages):\n",
    "        pageObj = pdfReader.pages[i]\n",
    "        report_text += pageObj.extract_text()\n",
    "\n",
    "    return report_text"
   ]
  },
  {
   "cell_type": "code",
   "execution_count": null,
   "id": "45a0e0bd-4b28-4bda-b656-72aa55024bfd",
   "metadata": {
    "id": "45a0e0bd-4b28-4bda-b656-72aa55024bfd"
   },
   "outputs": [],
   "source": [
    "file_names = os.listdir(\"Reports\")\n",
    "report_file_names = [f[:-4] for f in file_names if f[-4:] == \".pdf\"]\n",
    "\n",
    "for report in tqdm(report_file_names):\n",
    "    report_text = report_to_text(report)\n",
    "    print(report)\n",
    "    f = open(f\"Reports_text/{report}.txt\", \"a\")\n",
    "    f.write(report_text)\n",
    "    f.close()"
   ]
  },
  {
   "cell_type": "markdown",
   "id": "e2eddea3-9bf0-4a44-9252-c2f59b6b6748",
   "metadata": {
    "id": "e2eddea3-9bf0-4a44-9252-c2f59b6b6748"
   },
   "source": [
    "# 3 Create Sustainability Report Table"
   ]
  },
  {
   "cell_type": "code",
   "execution_count": null,
   "id": "401f7e6f-5a35-44af-aa2b-13ca7203db89",
   "metadata": {
    "id": "401f7e6f-5a35-44af-aa2b-13ca7203db89",
    "tags": []
   },
   "outputs": [],
   "source": [
    "# Create an empty table\n",
    "report_table = pd.DataFrame(columns=[\"report_name\", \"content\"])\n",
    "# List text files in directory\n",
    "file_names = os.listdir(\"reports_text\")\n",
    "text_file_names = [f[:-4] for f in file_names if f[-4:] == \".txt\"]\n",
    "# Append report name and report text for each report\n",
    "for text_file_name in text_file_names:\n",
    "    # Read text from report text file\n",
    "    text_file = open(f\"reports_text/{text_file_name}.txt\", \"r\")\n",
    "    content = text_file.read()\n",
    "    content = (content\n",
    "               .replace(\"\\n\", \" \").replace(\"\\r\", \" \").replace(\"\\t\", \" \")\n",
    "               .replace(\",\", \"\").replace(\".\", \"\").replace(\":\", \"\")\n",
    "               .replace(\";\", \"\").replace(\"-\", \" \").replace(\"|\", \" \")\n",
    "               .replace(\"(\", \"\").replace(\")\", \"\").replace(\"?\", \"\")\n",
    "               .replace(\"!\", \"\").replace(\"\\'\", \"\").replace('\\\"', \"\"))\n",
    "    # print(content)\n",
    "    text_file.close()\n",
    "    # Append report name and text to table\n",
    "    report_row = pd.DataFrame([[text_file_name [:-5], content]], columns=[\"report_name\", \"content\"])\n",
    "    report_table = pd.concat([report_table, report_row],  axis=0, ignore_index=True)\n",
    "# Save table as csv file\n",
    "report_table.to_csv(\"reports.csv\", index=False)"
   ]
  },
  {
   "cell_type": "code",
   "execution_count": null,
   "id": "57e3dc71-6b3a-4934-b06d-25931212ee44",
   "metadata": {
    "id": "57e3dc71-6b3a-4934-b06d-25931212ee44",
    "outputId": "2c268771-9fda-4384-f388-6b9b89ae3eda",
    "tags": []
   },
   "outputs": [
    {
     "data": {
      "text/html": [
       "<div>\n",
       "<style scoped>\n",
       "    .dataframe tbody tr th:only-of-type {\n",
       "        vertical-align: middle;\n",
       "    }\n",
       "\n",
       "    .dataframe tbody tr th {\n",
       "        vertical-align: top;\n",
       "    }\n",
       "\n",
       "    .dataframe thead th {\n",
       "        text-align: right;\n",
       "    }\n",
       "</style>\n",
       "<table border=\"1\" class=\"dataframe\">\n",
       "  <thead>\n",
       "    <tr style=\"text-align: right;\">\n",
       "      <th></th>\n",
       "      <th>report_name</th>\n",
       "      <th>content</th>\n",
       "    </tr>\n",
       "  </thead>\n",
       "  <tbody>\n",
       "    <tr>\n",
       "      <th>0</th>\n",
       "      <td>TRADERA</td>\n",
       "      <td>Climate Impact Report 2021 This is Traderas th...</td>\n",
       "    </tr>\n",
       "    <tr>\n",
       "      <th>1</th>\n",
       "      <td>SWEDBANK</td>\n",
       "      <td>1     SUSTAINABILITY POLICY     Adopted by  ...</td>\n",
       "    </tr>\n",
       "    <tr>\n",
       "      <th>2</th>\n",
       "      <td>HTC</td>\n",
       "      <td>ESG Repo rt  2022Environment Social Governance...</td>\n",
       "    </tr>\n",
       "    <tr>\n",
       "      <th>3</th>\n",
       "      <td>FISKARS</td>\n",
       "      <td>Sustainability Report 2022Contents Message fro...</td>\n",
       "    </tr>\n",
       "    <tr>\n",
       "      <th>4</th>\n",
       "      <td>KJELL &amp; COMPANY</td>\n",
       "      <td>Kjell &amp; Company   ESG impacts throu...</td>\n",
       "    </tr>\n",
       "  </tbody>\n",
       "</table>\n",
       "</div>"
      ],
      "text/plain": [
       "       report_name                                            content\n",
       "0          TRADERA  Climate Impact Report 2021 This is Traderas th...\n",
       "1         SWEDBANK    1     SUSTAINABILITY POLICY     Adopted by  ...\n",
       "2              HTC  ESG Repo rt  2022Environment Social Governance...\n",
       "3          FISKARS  Sustainability Report 2022Contents Message fro...\n",
       "4  KJELL & COMPANY             Kjell & Company   ESG impacts throu..."
      ]
     },
     "execution_count": 42,
     "metadata": {},
     "output_type": "execute_result"
    }
   ],
   "source": [
    "report_table.head()"
   ]
  },
  {
   "cell_type": "markdown",
   "id": "a29eb3f7-3652-4de1-8ac7-66059e4d32e8",
   "metadata": {
    "id": "a29eb3f7-3652-4de1-8ac7-66059e4d32e8"
   },
   "source": [
    "# 4 Read Loughran-McDonald MasterD ictionary"
   ]
  },
  {
   "cell_type": "code",
   "execution_count": null,
   "id": "15d4bab4-3aaa-4fd2-894c-38cf8fc506a0",
   "metadata": {
    "id": "15d4bab4-3aaa-4fd2-894c-38cf8fc506a0",
    "tags": []
   },
   "outputs": [],
   "source": [
    "master_dictionary = pd.read_csv(\"Loughran-McDonald_MasterDictionary_1993-2021.csv\")"
   ]
  },
  {
   "cell_type": "code",
   "execution_count": null,
   "id": "7107482c-7535-4e21-b744-4f8dd3ad4ae0",
   "metadata": {
    "id": "7107482c-7535-4e21-b744-4f8dd3ad4ae0",
    "outputId": "503cfc6c-5a8b-4311-8d67-75a460f5ea59",
    "tags": []
   },
   "outputs": [
    {
     "data": {
      "text/plain": [
       "['ABLE',\n",
       " 'ABUNDANCE',\n",
       " 'ABUNDANT',\n",
       " 'ACCLAIMED',\n",
       " 'ACCOMPLISH',\n",
       " 'ACCOMPLISHED',\n",
       " 'ACCOMPLISHES',\n",
       " 'ACCOMPLISHING',\n",
       " 'ACCOMPLISHMENT',\n",
       " 'ACCOMPLISHMENTS',\n",
       " 'ACHIEVE',\n",
       " 'ACHIEVED',\n",
       " 'ACHIEVEMENT',\n",
       " 'ACHIEVEMENTS',\n",
       " 'ACHIEVES',\n",
       " 'ACHIEVING',\n",
       " 'ADEQUATELY',\n",
       " 'ADVANCEMENT',\n",
       " 'ADVANCEMENTS',\n",
       " 'ADVANCES']"
      ]
     },
     "execution_count": 15,
     "metadata": {},
     "output_type": "execute_result"
    }
   ],
   "source": [
    "postive_words = master_dictionary[master_dictionary.Positive != 0][\"Word\"].to_list()\n",
    "postive_words[:20]"
   ]
  },
  {
   "cell_type": "code",
   "execution_count": null,
   "id": "90b50815-4555-4a65-bde4-760ed0830367",
   "metadata": {
    "id": "90b50815-4555-4a65-bde4-760ed0830367",
    "outputId": "f405e2bf-5a32-4bac-c07e-1d7f002ed3b9",
    "tags": []
   },
   "outputs": [
    {
     "data": {
      "text/plain": [
       "['ABANDON',\n",
       " 'ABANDONED',\n",
       " 'ABANDONING',\n",
       " 'ABANDONMENT',\n",
       " 'ABANDONMENTS',\n",
       " 'ABANDONS',\n",
       " 'ABDICATED',\n",
       " 'ABDICATES',\n",
       " 'ABDICATING',\n",
       " 'ABDICATION',\n",
       " 'ABDICATIONS',\n",
       " 'ABERRANT',\n",
       " 'ABERRATION',\n",
       " 'ABERRATIONAL',\n",
       " 'ABERRATIONS',\n",
       " 'ABETTING',\n",
       " 'ABNORMAL',\n",
       " 'ABNORMALITIES',\n",
       " 'ABNORMALITY',\n",
       " 'ABNORMALLY']"
      ]
     },
     "execution_count": 16,
     "metadata": {},
     "output_type": "execute_result"
    }
   ],
   "source": [
    "negative_words = master_dictionary[master_dictionary.Negative != 0][\"Word\"].to_list()\n",
    "negative_words[:20]"
   ]
  },
  {
   "cell_type": "markdown",
   "id": "b2a820d6-e685-4701-874d-8a0a5833ce9c",
   "metadata": {
    "id": "b2a820d6-e685-4701-874d-8a0a5833ce9c"
   },
   "source": [
    "# 5 Count Words in Reports"
   ]
  },
  {
   "cell_type": "code",
   "execution_count": null,
   "id": "4e7f3a06-2574-462e-b37e-9b8be0934be4",
   "metadata": {
    "id": "4e7f3a06-2574-462e-b37e-9b8be0934be4",
    "tags": []
   },
   "outputs": [],
   "source": [
    "report_table = pd.read_csv(\"reports.csv\")\n",
    "report_table_count = report_table.copy()"
   ]
  },
  {
   "cell_type": "code",
   "execution_count": null,
   "id": "0ed30918-2ce5-4c73-9360-f868c510826a",
   "metadata": {
    "id": "0ed30918-2ce5-4c73-9360-f868c510826a",
    "tags": []
   },
   "outputs": [],
   "source": [
    "def count_total_words(text):\n",
    "    \"\"\"Counts the total number of words in parameter string named text\"\"\"\n",
    "    return sum([i.strip(string.punctuation).isalpha() for i in text.split()])"
   ]
  },
  {
   "cell_type": "code",
   "execution_count": null,
   "id": "66660a46-916e-457a-a184-56d382c3db60",
   "metadata": {
    "id": "66660a46-916e-457a-a184-56d382c3db60",
    "tags": []
   },
   "outputs": [],
   "source": [
    "def count_words_in_text_from_list(text, word_list):\n",
    "    \"\"\"Counts the number of words in word_list in text\"\"\"\n",
    "    # Initialize an empty list to store the word counts\n",
    "    word_counts = {}\n",
    "    text = text.upper()\n",
    "\n",
    "    # Iterate through each word in the text\n",
    "    for word in text.split():\n",
    "        # Check if the word exists in the dictionary\n",
    "        if word in word_counts:\n",
    "            # Increment the count for the existing word\n",
    "            word_counts[word] += 1\n",
    "        else:\n",
    "            # Add the word to the dictionary with a count of 1\n",
    "            if word in word_list:\n",
    "                word_counts[word] = 1\n",
    "\n",
    "    return word_counts"
   ]
  },
  {
   "cell_type": "code",
   "execution_count": null,
   "id": "167f4ee7-283f-4c34-8dc3-98495023271c",
   "metadata": {
    "id": "167f4ee7-283f-4c34-8dc3-98495023271c",
    "tags": []
   },
   "outputs": [],
   "source": [
    "report_table_count[\"word_count\"] = report_table_count.content.map(count_total_words)\n",
    "report_table_count[\"negative_word_count\"] = report_table_count.content.map(lambda content: count_words_in_text_from_list(content, negative_words))\n",
    "report_table_count[\"positive_word_count\"] = report_table_count.content.map(lambda content: count_words_in_text_from_list(content, postive_words))\n",
    "report_table_count[\"total_negative_word_count\"] = report_table_count[\"negative_word_count\"].map(lambda d: sum(d.values()))\n",
    "report_table_count[\"total_positive_word_count\"] = report_table_count[\"positive_word_count\"].map(lambda d: sum(d.values()))"
   ]
  },
  {
   "cell_type": "code",
   "execution_count": null,
   "id": "443ccbbf-e821-4eee-94ad-8ffbc258ad93",
   "metadata": {
    "id": "443ccbbf-e821-4eee-94ad-8ffbc258ad93",
    "tags": []
   },
   "outputs": [],
   "source": [
    "report_table_count = report_table_count.drop(columns=\"content\")"
   ]
  },
  {
   "cell_type": "code",
   "execution_count": null,
   "id": "878a6e30-7107-495c-96d4-7ad2d0809133",
   "metadata": {
    "id": "878a6e30-7107-495c-96d4-7ad2d0809133",
    "tags": []
   },
   "outputs": [],
   "source": [
    "report_table_count.to_csv(\"report_table_count.csv\", index=False)"
   ]
  },
  {
   "cell_type": "code",
   "execution_count": null,
   "id": "3cb7a8c2-ee2b-4452-b6e9-b451359b5ddf",
   "metadata": {
    "id": "3cb7a8c2-ee2b-4452-b6e9-b451359b5ddf",
    "outputId": "fa63aedb-fc77-489a-84e6-e194623de494",
    "tags": []
   },
   "outputs": [
    {
     "data": {
      "text/html": [
       "<div>\n",
       "<style scoped>\n",
       "    .dataframe tbody tr th:only-of-type {\n",
       "        vertical-align: middle;\n",
       "    }\n",
       "\n",
       "    .dataframe tbody tr th {\n",
       "        vertical-align: top;\n",
       "    }\n",
       "\n",
       "    .dataframe thead th {\n",
       "        text-align: right;\n",
       "    }\n",
       "</style>\n",
       "<table border=\"1\" class=\"dataframe\">\n",
       "  <thead>\n",
       "    <tr style=\"text-align: right;\">\n",
       "      <th></th>\n",
       "      <th>report_name</th>\n",
       "      <th>word_count</th>\n",
       "      <th>negative_word_count</th>\n",
       "      <th>positive_word_count</th>\n",
       "      <th>total_negative_word_count</th>\n",
       "      <th>total_positive_word_count</th>\n",
       "    </tr>\n",
       "  </thead>\n",
       "  <tbody>\n",
       "    <tr>\n",
       "      <th>0</th>\n",
       "      <td>TRADERA</td>\n",
       "      <td>3888</td>\n",
       "      <td>{'SLOW': 1, 'OVERESTIMATE': 1, 'UNDERESTIMATE'...</td>\n",
       "      <td>{'IMPROVED': 5, 'ABLE': 1, 'GREATER': 1, 'OPPO...</td>\n",
       "      <td>10</td>\n",
       "      <td>18</td>\n",
       "    </tr>\n",
       "    <tr>\n",
       "      <th>1</th>\n",
       "      <td>SWEDBANK</td>\n",
       "      <td>2402</td>\n",
       "      <td>{'CORRUPTION': 2, 'CRUCIAL': 1, 'INFRINGING': ...</td>\n",
       "      <td>{'EMPOWERS': 1, 'BETTER': 5, 'POSITIVE': 1, 'O...</td>\n",
       "      <td>12</td>\n",
       "      <td>39</td>\n",
       "    </tr>\n",
       "    <tr>\n",
       "      <th>2</th>\n",
       "      <td>HTC</td>\n",
       "      <td>64382</td>\n",
       "      <td>{'CHALLENGES': 12, 'CONFRONT': 1, 'CHALLENGE':...</td>\n",
       "      <td>{'ACHIEVEMENTS': 13, 'PROGRESS': 19, 'ASSURED'...</td>\n",
       "      <td>834</td>\n",
       "      <td>1149</td>\n",
       "    </tr>\n",
       "    <tr>\n",
       "      <th>3</th>\n",
       "      <td>FISKARS</td>\n",
       "      <td>29018</td>\n",
       "      <td>{'AGAINST': 17, 'CATASTROPHE': 1, 'CONDEMNED':...</td>\n",
       "      <td>{'PROGRESS': 20, 'LEADING': 4, 'POSITIVE': 18,...</td>\n",
       "      <td>373</td>\n",
       "      <td>444</td>\n",
       "    </tr>\n",
       "    <tr>\n",
       "      <th>4</th>\n",
       "      <td>KJELL &amp; COMPANY</td>\n",
       "      <td>1337</td>\n",
       "      <td>{'CORRUPTION': 8, 'CONFLICT': 2, 'CRUCIAL': 2,...</td>\n",
       "      <td>{'LEADING': 1, 'SATISFACTION': 1, 'INTEGRITY':...</td>\n",
       "      <td>22</td>\n",
       "      <td>21</td>\n",
       "    </tr>\n",
       "  </tbody>\n",
       "</table>\n",
       "</div>"
      ],
      "text/plain": [
       "       report_name  word_count  \\\n",
       "0          TRADERA        3888   \n",
       "1         SWEDBANK        2402   \n",
       "2              HTC       64382   \n",
       "3          FISKARS       29018   \n",
       "4  KJELL & COMPANY        1337   \n",
       "\n",
       "                                 negative_word_count  \\\n",
       "0  {'SLOW': 1, 'OVERESTIMATE': 1, 'UNDERESTIMATE'...   \n",
       "1  {'CORRUPTION': 2, 'CRUCIAL': 1, 'INFRINGING': ...   \n",
       "2  {'CHALLENGES': 12, 'CONFRONT': 1, 'CHALLENGE':...   \n",
       "3  {'AGAINST': 17, 'CATASTROPHE': 1, 'CONDEMNED':...   \n",
       "4  {'CORRUPTION': 8, 'CONFLICT': 2, 'CRUCIAL': 2,...   \n",
       "\n",
       "                                 positive_word_count  \\\n",
       "0  {'IMPROVED': 5, 'ABLE': 1, 'GREATER': 1, 'OPPO...   \n",
       "1  {'EMPOWERS': 1, 'BETTER': 5, 'POSITIVE': 1, 'O...   \n",
       "2  {'ACHIEVEMENTS': 13, 'PROGRESS': 19, 'ASSURED'...   \n",
       "3  {'PROGRESS': 20, 'LEADING': 4, 'POSITIVE': 18,...   \n",
       "4  {'LEADING': 1, 'SATISFACTION': 1, 'INTEGRITY':...   \n",
       "\n",
       "   total_negative_word_count  total_positive_word_count  \n",
       "0                         10                         18  \n",
       "1                         12                         39  \n",
       "2                        834                       1149  \n",
       "3                        373                        444  \n",
       "4                         22                         21  "
      ]
     },
     "execution_count": 23,
     "metadata": {},
     "output_type": "execute_result"
    }
   ],
   "source": [
    "report_table_count.head()"
   ]
  },
  {
   "cell_type": "code",
   "execution_count": null,
   "id": "555af400-a090-4816-ac56-a3afc8dcbf36",
   "metadata": {
    "id": "555af400-a090-4816-ac56-a3afc8dcbf36",
    "outputId": "f4651a5b-2751-4339-a112-a7e846c5dfab",
    "tags": []
   },
   "outputs": [
    {
     "name": "stdout",
     "output_type": "stream",
     "text": [
      "0          MISTAKE: 2\n",
      "1       CORRUPTION: 2\n",
      "2       HAZARDOUS: 39\n",
      "3       OMISSIONS: 25\n",
      "4       CORRUPTION: 8\n",
      "            ...      \n",
      "153    CORRUPTION: 22\n",
      "154    CHALLENGES: 38\n",
      "155     ACCIDENTS: 40\n",
      "156      INCIDENT: 40\n",
      "157       NEGATIVE: 9\n",
      "Name: negative_word_count, Length: 158, dtype: object\n",
      "0            IMPROVED: 5\n",
      "1              BETTER: 5\n",
      "2            IMPROVE: 67\n",
      "3      OPPORTUNITIES: 31\n",
      "4           INTEGRITY: 3\n",
      "             ...        \n",
      "153    OPPORTUNITIES: 22\n",
      "154    OPPORTUNITIES: 79\n",
      "155             GOOD: 42\n",
      "156    OPPORTUNITIES: 57\n",
      "157             ABLE: 39\n",
      "Name: positive_word_count, Length: 158, dtype: object\n",
      "118    CHALLENGES: 22\n",
      "Name: negative_word_count, dtype: object\n",
      "118    POSITIVE: 144\n",
      "Name: positive_word_count, dtype: object\n"
     ]
    }
   ],
   "source": [
    "print(report_table_count.negative_word_count.map(lambda d: f\"{max(d, key=d.get)}: {d[max(d, key=d.get)]}\"))\n",
    "print(report_table_count.positive_word_count.map(lambda d: f\"{max(d, key=d.get)}: {d[max(d, key=d.get)]}\"))\n",
    "print(report_table_count[report_table_count.report_name == \"IKEA\"].negative_word_count.map(lambda d: f\"{max(d, key=d.get)}: {d[max(d, key=d.get)]}\"))\n",
    "print(report_table_count[report_table_count.report_name == \"IKEA\"].positive_word_count.map(lambda d: f\"{max(d, key=d.get)}: {d[max(d, key=d.get)]}\"))"
   ]
  },
  {
   "cell_type": "code",
   "execution_count": null,
   "id": "2eedd14a-85cb-46ec-ad88-d7239291b21c",
   "metadata": {
    "id": "2eedd14a-85cb-46ec-ad88-d7239291b21c",
    "tags": []
   },
   "outputs": [],
   "source": [
    "# Sort the DataFrame based on the 'tone' column in descending order (most positive first)\n",
    "sorted_df = df.sort_values(by='tone', ascending=False)\n",
    "\n",
    "# Select only the relevant columns to include in the CSV\n",
    "columns_to_include = ['report_name', 'total_positive_word_count', 'total_negative_word_count', 'tone', 'ranking']\n",
    "sorted_df_to_export = sorted_df[columns_to_include]\n",
    "\n",
    "# Export the sorted DataFrame to a CSV file\n",
    "sorted_df_to_export.to_csv('sorted_companies_by_tone.csv', index=False)"
   ]
  },
  {
   "cell_type": "markdown",
   "id": "9e57566b-52c2-4e70-be54-5ec794283473",
   "metadata": {
    "id": "9e57566b-52c2-4e70-be54-5ec794283473"
   },
   "source": [
    "# 6 Add Ranking"
   ]
  },
  {
   "cell_type": "code",
   "execution_count": null,
   "id": "e5a9e3cc-fda9-43b9-aef8-4de294eee619",
   "metadata": {
    "id": "e5a9e3cc-fda9-43b9-aef8-4de294eee619",
    "outputId": "31cb7613-d8cb-49f2-a1dc-b75b3d51e4fc",
    "tags": []
   },
   "outputs": [
    {
     "data": {
      "text/html": [
       "<div>\n",
       "<style scoped>\n",
       "    .dataframe tbody tr th:only-of-type {\n",
       "        vertical-align: middle;\n",
       "    }\n",
       "\n",
       "    .dataframe tbody tr th {\n",
       "        vertical-align: top;\n",
       "    }\n",
       "\n",
       "    .dataframe thead th {\n",
       "        text-align: right;\n",
       "    }\n",
       "</style>\n",
       "<table border=\"1\" class=\"dataframe\">\n",
       "  <thead>\n",
       "    <tr style=\"text-align: right;\">\n",
       "      <th></th>\n",
       "      <th>report_name</th>\n",
       "      <th>word_count</th>\n",
       "      <th>negative_word_count</th>\n",
       "      <th>positive_word_count</th>\n",
       "      <th>total_negative_word_count</th>\n",
       "      <th>total_positive_word_count</th>\n",
       "    </tr>\n",
       "  </thead>\n",
       "  <tbody>\n",
       "    <tr>\n",
       "      <th>0</th>\n",
       "      <td>TRADERA</td>\n",
       "      <td>3888</td>\n",
       "      <td>{'SLOW': 1, 'OVERESTIMATE': 1, 'UNDERESTIMATE'...</td>\n",
       "      <td>{'IMPROVED': 5, 'ABLE': 1, 'GREATER': 1, 'OPPO...</td>\n",
       "      <td>10</td>\n",
       "      <td>18</td>\n",
       "    </tr>\n",
       "    <tr>\n",
       "      <th>1</th>\n",
       "      <td>SWEDBANK</td>\n",
       "      <td>2402</td>\n",
       "      <td>{'CORRUPTION': 2, 'CRUCIAL': 1, 'INFRINGING': ...</td>\n",
       "      <td>{'EMPOWERS': 1, 'BETTER': 5, 'POSITIVE': 1, 'O...</td>\n",
       "      <td>12</td>\n",
       "      <td>39</td>\n",
       "    </tr>\n",
       "    <tr>\n",
       "      <th>2</th>\n",
       "      <td>HTC</td>\n",
       "      <td>64382</td>\n",
       "      <td>{'CHALLENGES': 12, 'CONFRONT': 1, 'CHALLENGE':...</td>\n",
       "      <td>{'ACHIEVEMENTS': 13, 'PROGRESS': 19, 'ASSURED'...</td>\n",
       "      <td>834</td>\n",
       "      <td>1149</td>\n",
       "    </tr>\n",
       "    <tr>\n",
       "      <th>3</th>\n",
       "      <td>FISKARS</td>\n",
       "      <td>29018</td>\n",
       "      <td>{'AGAINST': 17, 'CATASTROPHE': 1, 'CONDEMNED':...</td>\n",
       "      <td>{'PROGRESS': 20, 'LEADING': 4, 'POSITIVE': 18,...</td>\n",
       "      <td>373</td>\n",
       "      <td>444</td>\n",
       "    </tr>\n",
       "    <tr>\n",
       "      <th>4</th>\n",
       "      <td>KJELL &amp; COMPANY</td>\n",
       "      <td>1337</td>\n",
       "      <td>{'CORRUPTION': 8, 'CONFLICT': 2, 'CRUCIAL': 2,...</td>\n",
       "      <td>{'LEADING': 1, 'SATISFACTION': 1, 'INTEGRITY':...</td>\n",
       "      <td>22</td>\n",
       "      <td>21</td>\n",
       "    </tr>\n",
       "    <tr>\n",
       "      <th>...</th>\n",
       "      <td>...</td>\n",
       "      <td>...</td>\n",
       "      <td>...</td>\n",
       "      <td>...</td>\n",
       "      <td>...</td>\n",
       "      <td>...</td>\n",
       "    </tr>\n",
       "    <tr>\n",
       "      <th>153</th>\n",
       "      <td>SANTANDER CONSUMER BANK</td>\n",
       "      <td>15397</td>\n",
       "      <td>{'FORCE': 6, 'CHALLENGES': 1, 'QUESTION': 1, '...</td>\n",
       "      <td>{'PROGRESS': 11, 'OPPORTUNITIES': 22, 'GOOD': ...</td>\n",
       "      <td>224</td>\n",
       "      <td>215</td>\n",
       "    </tr>\n",
       "    <tr>\n",
       "      <th>154</th>\n",
       "      <td>SONY</td>\n",
       "      <td>112284</td>\n",
       "      <td>{'CHALLENGES': 38, 'CRUCIAL': 4, 'DISASTER': 2...</td>\n",
       "      <td>{'CREATIVITY': 26, 'BEST': 26, 'INTEGRITY': 9,...</td>\n",
       "      <td>1011</td>\n",
       "      <td>1535</td>\n",
       "    </tr>\n",
       "    <tr>\n",
       "      <th>155</th>\n",
       "      <td>TULIP</td>\n",
       "      <td>35058</td>\n",
       "      <td>{'QUESTIONS': 2, 'CHALLENGES': 9, 'SLOW': 1, '...</td>\n",
       "      <td>{'TRANSPARENCY': 9, 'PROGRESS': 11, 'ACHIEVEME...</td>\n",
       "      <td>364</td>\n",
       "      <td>410</td>\n",
       "    </tr>\n",
       "    <tr>\n",
       "      <th>156</th>\n",
       "      <td>UBER</td>\n",
       "      <td>40707</td>\n",
       "      <td>{'FORCE': 7, 'CRITICAL': 34, 'INCIDENT': 40, '...</td>\n",
       "      <td>{'BEST': 32, 'PROFITABILITY': 1, 'ADVANTAGE': ...</td>\n",
       "      <td>471</td>\n",
       "      <td>720</td>\n",
       "    </tr>\n",
       "    <tr>\n",
       "      <th>157</th>\n",
       "      <td>NATURKOMPANIET</td>\n",
       "      <td>24052</td>\n",
       "      <td>{'INSTABILITY': 3, 'SERIOUS': 2, 'DOUBTS': 1, ...</td>\n",
       "      <td>{'EXCELLENCE': 1, 'GOOD': 14, 'BETTER': 13, 'O...</td>\n",
       "      <td>250</td>\n",
       "      <td>238</td>\n",
       "    </tr>\n",
       "  </tbody>\n",
       "</table>\n",
       "<p>158 rows × 6 columns</p>\n",
       "</div>"
      ],
      "text/plain": [
       "                 report_name  word_count  \\\n",
       "0                    TRADERA        3888   \n",
       "1                   SWEDBANK        2402   \n",
       "2                        HTC       64382   \n",
       "3                    FISKARS       29018   \n",
       "4            KJELL & COMPANY        1337   \n",
       "..                       ...         ...   \n",
       "153  SANTANDER CONSUMER BANK       15397   \n",
       "154                     SONY      112284   \n",
       "155                    TULIP       35058   \n",
       "156                     UBER       40707   \n",
       "157           NATURKOMPANIET       24052   \n",
       "\n",
       "                                   negative_word_count  \\\n",
       "0    {'SLOW': 1, 'OVERESTIMATE': 1, 'UNDERESTIMATE'...   \n",
       "1    {'CORRUPTION': 2, 'CRUCIAL': 1, 'INFRINGING': ...   \n",
       "2    {'CHALLENGES': 12, 'CONFRONT': 1, 'CHALLENGE':...   \n",
       "3    {'AGAINST': 17, 'CATASTROPHE': 1, 'CONDEMNED':...   \n",
       "4    {'CORRUPTION': 8, 'CONFLICT': 2, 'CRUCIAL': 2,...   \n",
       "..                                                 ...   \n",
       "153  {'FORCE': 6, 'CHALLENGES': 1, 'QUESTION': 1, '...   \n",
       "154  {'CHALLENGES': 38, 'CRUCIAL': 4, 'DISASTER': 2...   \n",
       "155  {'QUESTIONS': 2, 'CHALLENGES': 9, 'SLOW': 1, '...   \n",
       "156  {'FORCE': 7, 'CRITICAL': 34, 'INCIDENT': 40, '...   \n",
       "157  {'INSTABILITY': 3, 'SERIOUS': 2, 'DOUBTS': 1, ...   \n",
       "\n",
       "                                   positive_word_count  \\\n",
       "0    {'IMPROVED': 5, 'ABLE': 1, 'GREATER': 1, 'OPPO...   \n",
       "1    {'EMPOWERS': 1, 'BETTER': 5, 'POSITIVE': 1, 'O...   \n",
       "2    {'ACHIEVEMENTS': 13, 'PROGRESS': 19, 'ASSURED'...   \n",
       "3    {'PROGRESS': 20, 'LEADING': 4, 'POSITIVE': 18,...   \n",
       "4    {'LEADING': 1, 'SATISFACTION': 1, 'INTEGRITY':...   \n",
       "..                                                 ...   \n",
       "153  {'PROGRESS': 11, 'OPPORTUNITIES': 22, 'GOOD': ...   \n",
       "154  {'CREATIVITY': 26, 'BEST': 26, 'INTEGRITY': 9,...   \n",
       "155  {'TRANSPARENCY': 9, 'PROGRESS': 11, 'ACHIEVEME...   \n",
       "156  {'BEST': 32, 'PROFITABILITY': 1, 'ADVANTAGE': ...   \n",
       "157  {'EXCELLENCE': 1, 'GOOD': 14, 'BETTER': 13, 'O...   \n",
       "\n",
       "     total_negative_word_count  total_positive_word_count  \n",
       "0                           10                         18  \n",
       "1                           12                         39  \n",
       "2                          834                       1149  \n",
       "3                          373                        444  \n",
       "4                           22                         21  \n",
       "..                         ...                        ...  \n",
       "153                        224                        215  \n",
       "154                       1011                       1535  \n",
       "155                        364                        410  \n",
       "156                        471                        720  \n",
       "157                        250                        238  \n",
       "\n",
       "[158 rows x 6 columns]"
      ]
     },
     "execution_count": 46,
     "metadata": {},
     "output_type": "execute_result"
    }
   ],
   "source": [
    "report_table_count = pd.read_csv(\"report_table_count.csv\")\n",
    "report_table_count[\"report_name\"] = report_table_count.report_name.map(lambda r:  unicodedata.normalize(\"NFC\", r))\n",
    "pd.read_csv(\"report_table_count.csv\")"
   ]
  },
  {
   "cell_type": "code",
   "execution_count": null,
   "id": "d134d2b8-08f3-488f-8a98-3636eea87c23",
   "metadata": {
    "id": "d134d2b8-08f3-488f-8a98-3636eea87c23",
    "tags": []
   },
   "outputs": [],
   "source": [
    "ranking = pd.read_csv(\"sample.csv\")\n",
    "ranking.columns = ['ranking', 'Company', 'Koncern', 'Language', 'Type', 'Year of Report']\n",
    "ranking = ranking[['ranking', 'Company']]\n",
    "ranking[\"Company\"] = ranking.Company.map(lambda company: company.upper())"
   ]
  },
  {
   "cell_type": "code",
   "execution_count": null,
   "id": "fb29e73a-3f73-46a2-8430-6a7acd25fb33",
   "metadata": {
    "id": "fb29e73a-3f73-46a2-8430-6a7acd25fb33",
    "tags": []
   },
   "outputs": [],
   "source": [
    "report_table_count_ranking = report_table_count.merge(ranking, left_on=\"report_name\", right_on=\"Company\", how=\"inner\")\n",
    "report_table_count_ranking.drop(columns=\"Company\", inplace=True)\n",
    "report_table_count_ranking = report_table_count_ranking.sort_values(\"ranking\").reset_index(drop=True)\n",
    "report_table_count_ranking.to_csv(\"report_table_count_ranking.csv\", index=False)"
   ]
  },
  {
   "cell_type": "markdown",
   "id": "1345394d-4b20-476d-9003-060cf25d3bbf",
   "metadata": {
    "id": "1345394d-4b20-476d-9003-060cf25d3bbf",
    "tags": []
   },
   "source": [
    "# 7 Add Industries"
   ]
  },
  {
   "cell_type": "code",
   "execution_count": null,
   "id": "a77e6dad-72a0-4c1c-aa06-0ae40dc7f90f",
   "metadata": {
    "id": "a77e6dad-72a0-4c1c-aa06-0ae40dc7f90f",
    "tags": []
   },
   "outputs": [],
   "source": [
    "report_table_count = pd.read_csv(\"report_table_count.csv\")\n",
    "report_table_count[\"report_name\"] = report_table_count.report_name.map(lambda r:  unicodedata.normalize(\"NFC\", r))\n",
    "report_table_industries = pd.read_csv(\"report_table_industries.csv\")\n",
    "report_table_industries[\"Company\"] = report_table_industries[\"Company\"].map(lambda name: unicodedata.normalize(\"NFC\", str(name)).upper().strip())"
   ]
  },
  {
   "cell_type": "code",
   "execution_count": null,
   "id": "6adebe1d-6513-48f9-b51e-438e5a1e2712",
   "metadata": {
    "id": "6adebe1d-6513-48f9-b51e-438e5a1e2712",
    "tags": []
   },
   "outputs": [],
   "source": [
    "# Set the columns names to be consistent for the merge\n",
    "report_table_industries.columns = ['Company', 'industry']\n",
    "# Merge the two tables on the 'Company' column\n",
    "merged_table = report_table_count.merge(report_table_industries, left_on=\"report_name\", right_on=\"Company\", how=\"inner\")\n",
    "# Drop the redundant 'Company' column from the merged table\n",
    "merged_table.drop(columns=\"Company\", inplace=True)\n",
    "# Sort, reset index, and save the new table to CSV\n",
    "merged_table = merged_table.sort_values(by=[\"industry\", \"report_name\"]).reset_index(drop=True)\n",
    "merged_table.to_csv(\"report_table_count_industries.csv\", index=False)"
   ]
  },
  {
   "cell_type": "code",
   "execution_count": null,
   "id": "c80c7442-b023-42f4-a42e-320711879edd",
   "metadata": {
    "id": "c80c7442-b023-42f4-a42e-320711879edd",
    "outputId": "2e77db33-bc13-490a-8425-75b1c52ca964",
    "tags": []
   },
   "outputs": [
    {
     "name": "stdout",
     "output_type": "stream",
     "text": [
      "set()\n"
     ]
    }
   ],
   "source": [
    "# Load the industries table\n",
    "report_table_industries = pd.read_csv(\"report_table_industries.csv\")\n",
    "# Load the count table\n",
    "report_table_count_industries = pd.read_csv(\"report_table_count_industries.csv\")\n",
    "\n",
    "def find_missing_companies(industries_df, count_df, industries_column, count_column):\n",
    "    # Convert both columns to upper case\n",
    "    industries_df[industries_column] = industries_df[industries_column].str.upper()\n",
    "    count_df[count_column] = count_df[count_column].str.upper()\n",
    "    # Find companies in industries_df that are not in count_df\n",
    "    missing_companies = set(industries_df[industries_column]) - set(count_df[count_column])\n",
    "\n",
    "    return missing_companies\n",
    "\n",
    "\n",
    "missing_companies = find_missing_companies(report_table_industries, report_table_count_industries, 'Company', 'report_name')\n",
    "# Print or return the missing companies\n",
    "print(missing_companies)"
   ]
  },
  {
   "cell_type": "code",
   "execution_count": null,
   "id": "c031cb1b-5174-4068-ad99-1d81977fe22d",
   "metadata": {
    "id": "c031cb1b-5174-4068-ad99-1d81977fe22d",
    "tags": []
   },
   "outputs": [],
   "source": [
    "report_table_count_ranking = pd.read_csv(\"report_table_count_ranking.csv\")\n",
    "report_table_count_ranking[\"report_name\"] = report_table_count_ranking.report_name.map(lambda r:  unicodedata.normalize(\"NFC\", r))\n",
    "report_table_all_industries = pd.read_csv(\"report_table_all_industries.csv\")\n",
    "report_table_all_industries[\"Company\"] = report_table_all_industries[\"Company\"].map(lambda name: unicodedata.normalize(\"NFC\", str(name)).upper().strip())"
   ]
  },
  {
   "cell_type": "code",
   "execution_count": null,
   "id": "14fcbfff-d3ed-499a-abf5-88d70b4ea54f",
   "metadata": {
    "id": "14fcbfff-d3ed-499a-abf5-88d70b4ea54f",
    "tags": []
   },
   "outputs": [],
   "source": [
    "# Set the columns names to be consistent for the merge\n",
    "report_table_all_industries.columns = ['Company', 'industry']\n",
    "# Merge the two tables on the 'Company' column\n",
    "merged_table = report_table_count_ranking.merge(report_table_all_industries, left_on=\"report_name\", right_on=\"Company\", how=\"inner\")\n",
    "# Drop the redundant 'Company' column from the merged table\n",
    "merged_table.drop(columns=\"Company\", inplace=True)\n",
    "# Sort, reset index, and save the new table to CSV\n",
    "merged_table = merged_table.sort_values(by=[\"industry\", \"report_name\"]).reset_index(drop=True)\n",
    "merged_table.to_csv(\"report_table_count_all_industries.csv\", index=False)"
   ]
  },
  {
   "cell_type": "code",
   "execution_count": null,
   "id": "d1746245-5463-4cff-9c7c-61cadb9d0c7c",
   "metadata": {
    "id": "d1746245-5463-4cff-9c7c-61cadb9d0c7c",
    "outputId": "e75106d5-124e-45c2-d017-f2b5e8cab6d5",
    "tags": []
   },
   "outputs": [
    {
     "name": "stdout",
     "output_type": "stream",
     "text": [
      "There are 30 unique industries in the sample.\n"
     ]
    }
   ],
   "source": [
    "# Count the number of industries\n",
    "unique_industries_count = merged_table['industry'].nunique()\n",
    "\n",
    "# Print the number of industries\n",
    "print(f\"There are {unique_industries_count} unique industries in the sample.\")"
   ]
  },
  {
   "cell_type": "markdown",
   "id": "ee581a5d-dada-4d3b-8ffb-0215ce570eaf",
   "metadata": {
    "id": "ee581a5d-dada-4d3b-8ffb-0215ce570eaf"
   },
   "source": [
    "# 8 Add Financial Metrics"
   ]
  },
  {
   "cell_type": "code",
   "execution_count": null,
   "id": "090d3751-f91c-489f-a095-00af23dfb822",
   "metadata": {
    "id": "090d3751-f91c-489f-a095-00af23dfb822",
    "tags": []
   },
   "outputs": [],
   "source": [
    "report_table_count_all_industries = pd.read_csv(\"report_table_count_all_industries.csv\")\n",
    "report_table_count_all_industries[\"report_name\"] = report_table_count_all_industries.report_name.map(lambda r:  unicodedata.normalize(\"NFC\", r))\n",
    "report_table_financial_metrics = pd.read_csv(\"report_table_financial_metrics.csv\")\n",
    "report_table_financial_metrics[\"report_name\"] = report_table_financial_metrics[\"report_name\"].map(lambda name: unicodedata.normalize(\"NFC\", str(name)).upper().strip())"
   ]
  },
  {
   "cell_type": "code",
   "execution_count": null,
   "id": "901141fe-3fa9-4dfe-bcdd-1d4b9aa92488",
   "metadata": {
    "id": "901141fe-3fa9-4dfe-bcdd-1d4b9aa92488",
    "tags": []
   },
   "outputs": [],
   "source": [
    "# Set the columns names to be consistent for the merge\n",
    "report_table_financial_metrics.columns = ['report_name', 'total_assets', 'roa', 'publicly_traded']\n",
    "# Merge the two tables on the 'report_name' column\n",
    "merged_table = report_table_count_all_industries.merge(report_table_financial_metrics, left_on=\"report_name\", right_on=\"report_name\", how=\"inner\")\n",
    "# Sort, reset index, and save the new table to CSV\n",
    "merged_table = merged_table.sort_values(by=[\"industry\", \"report_name\"]).reset_index(drop=True)\n",
    "merged_table.to_csv(\"report_table_count_all_control_variables.csv\", index=False)"
   ]
  },
  {
   "cell_type": "code",
   "execution_count": null,
   "id": "a5ddf14d-e9b5-4420-9e16-1261e2240a66",
   "metadata": {
    "id": "a5ddf14d-e9b5-4420-9e16-1261e2240a66",
    "tags": []
   },
   "outputs": [],
   "source": [
    "allcv = pd.read_csv('report_table_count_all_control_variables.csv')"
   ]
  },
  {
   "cell_type": "code",
   "execution_count": null,
   "id": "533f78bc-c744-41ca-8a55-4ee21d4426cd",
   "metadata": {
    "id": "533f78bc-c744-41ca-8a55-4ee21d4426cd",
    "tags": []
   },
   "outputs": [],
   "source": [
    "allcv['roa'] = allcv['roa'].astype(str).str.replace(',', '.').astype(float)"
   ]
  },
  {
   "cell_type": "code",
   "execution_count": null,
   "id": "3173287c-af90-4afe-95d6-0cd9ea229a18",
   "metadata": {
    "id": "3173287c-af90-4afe-95d6-0cd9ea229a18",
    "outputId": "ca695be3-abee-4adc-dff1-b625407a1b1d",
    "tags": []
   },
   "outputs": [
    {
     "name": "stdout",
     "output_type": "stream",
     "text": [
      "<class 'pandas.core.frame.DataFrame'>\n",
      "RangeIndex: 156 entries, 0 to 155\n",
      "Data columns (total 11 columns):\n",
      " #   Column                     Non-Null Count  Dtype  \n",
      "---  ------                     --------------  -----  \n",
      " 0   report_name                156 non-null    object \n",
      " 1   word_count                 156 non-null    int64  \n",
      " 2   negative_word_count        156 non-null    object \n",
      " 3   positive_word_count        156 non-null    object \n",
      " 4   total_negative_word_count  156 non-null    int64  \n",
      " 5   total_positive_word_count  156 non-null    int64  \n",
      " 6   ranking                    156 non-null    int64  \n",
      " 7   industry                   156 non-null    object \n",
      " 8   total_assets               156 non-null    int64  \n",
      " 9   roa                        156 non-null    float64\n",
      " 10  publicly_traded            156 non-null    int64  \n",
      "dtypes: float64(1), int64(6), object(4)\n",
      "memory usage: 13.5+ KB\n"
     ]
    }
   ],
   "source": [
    "allcv.info()"
   ]
  },
  {
   "cell_type": "code",
   "execution_count": null,
   "id": "4d34d0c8-0c96-4463-8ca6-0ac13f317ac6",
   "metadata": {
    "id": "4d34d0c8-0c96-4463-8ca6-0ac13f317ac6",
    "outputId": "47b2f2b9-f701-4d39-f983-1175911b8599",
    "tags": []
   },
   "outputs": [
    {
     "data": {
      "text/html": [
       "<div>\n",
       "<style scoped>\n",
       "    .dataframe tbody tr th:only-of-type {\n",
       "        vertical-align: middle;\n",
       "    }\n",
       "\n",
       "    .dataframe tbody tr th {\n",
       "        vertical-align: top;\n",
       "    }\n",
       "\n",
       "    .dataframe thead th {\n",
       "        text-align: right;\n",
       "    }\n",
       "</style>\n",
       "<table border=\"1\" class=\"dataframe\">\n",
       "  <thead>\n",
       "    <tr style=\"text-align: right;\">\n",
       "      <th></th>\n",
       "      <th>report_name</th>\n",
       "      <th>word_count</th>\n",
       "      <th>negative_word_count</th>\n",
       "      <th>positive_word_count</th>\n",
       "      <th>total_negative_word_count</th>\n",
       "      <th>total_positive_word_count</th>\n",
       "      <th>ranking</th>\n",
       "      <th>industry</th>\n",
       "      <th>total_assets</th>\n",
       "      <th>roa</th>\n",
       "      <th>publicly_traded</th>\n",
       "    </tr>\n",
       "  </thead>\n",
       "  <tbody>\n",
       "    <tr>\n",
       "      <th>0</th>\n",
       "      <td>BRA</td>\n",
       "      <td>17639</td>\n",
       "      <td>{'STRINGENT': 4, 'DIFFICULT': 1, 'HARSH': 1, '...</td>\n",
       "      <td>{'STRENGTHEN': 7, 'HIGHEST': 17, 'OPPORTUNITIE...</td>\n",
       "      <td>156</td>\n",
       "      <td>340</td>\n",
       "      <td>356</td>\n",
       "      <td>Airlines</td>\n",
       "      <td>1512</td>\n",
       "      <td>-0.07</td>\n",
       "      <td>0</td>\n",
       "    </tr>\n",
       "    <tr>\n",
       "      <th>1</th>\n",
       "      <td>BRITISH AIRWAYS</td>\n",
       "      <td>5882</td>\n",
       "      <td>{'CHALLENGE': 2, 'AGAINST': 1, 'CRITICAL': 1, ...</td>\n",
       "      <td>{'INCREDIBLE': 1, 'GREATEST': 2, 'ACHIEVEMENTS...</td>\n",
       "      <td>21</td>\n",
       "      <td>114</td>\n",
       "      <td>388</td>\n",
       "      <td>Airlines</td>\n",
       "      <td>42842</td>\n",
       "      <td>0.12</td>\n",
       "      <td>0</td>\n",
       "    </tr>\n",
       "    <tr>\n",
       "      <th>2</th>\n",
       "      <td>LUFTHANSA</td>\n",
       "      <td>12702</td>\n",
       "      <td>{'CHALLENGING': 2, 'DISADVANTAGED': 1, 'FORCE'...</td>\n",
       "      <td>{'SUCCESSFUL': 2, 'PLEASED': 1, 'LEADING': 5, ...</td>\n",
       "      <td>81</td>\n",
       "      <td>180</td>\n",
       "      <td>349</td>\n",
       "      <td>Airlines</td>\n",
       "      <td>507770</td>\n",
       "      <td>0.04</td>\n",
       "      <td>1</td>\n",
       "    </tr>\n",
       "    <tr>\n",
       "      <th>3</th>\n",
       "      <td>RYANAIR</td>\n",
       "      <td>16813</td>\n",
       "      <td>{'DEVASTATED': 1, 'DISRUPTED': 1, 'SUFFERED': ...</td>\n",
       "      <td>{'SATISFACTION': 7, 'ADVANTAGE': 5, 'GAINS': 1...</td>\n",
       "      <td>148</td>\n",
       "      <td>203</td>\n",
       "      <td>416</td>\n",
       "      <td>Airlines</td>\n",
       "      <td>173111</td>\n",
       "      <td>0.13</td>\n",
       "      <td>1</td>\n",
       "    </tr>\n",
       "    <tr>\n",
       "      <th>4</th>\n",
       "      <td>BMW</td>\n",
       "      <td>7038</td>\n",
       "      <td>{'AGAINST': 3, 'DEVIATIONS': 1, 'FORCE': 1, 'C...</td>\n",
       "      <td>{'TRANSPARENCY': 26, 'EFFECTIVE': 22, 'SUCCESS...</td>\n",
       "      <td>30</td>\n",
       "      <td>139</td>\n",
       "      <td>227</td>\n",
       "      <td>Automotives</td>\n",
       "      <td>2858751</td>\n",
       "      <td>0.04</td>\n",
       "      <td>1</td>\n",
       "    </tr>\n",
       "  </tbody>\n",
       "</table>\n",
       "</div>"
      ],
      "text/plain": [
       "       report_name  word_count  \\\n",
       "0              BRA       17639   \n",
       "1  BRITISH AIRWAYS        5882   \n",
       "2        LUFTHANSA       12702   \n",
       "3          RYANAIR       16813   \n",
       "4              BMW        7038   \n",
       "\n",
       "                                 negative_word_count  \\\n",
       "0  {'STRINGENT': 4, 'DIFFICULT': 1, 'HARSH': 1, '...   \n",
       "1  {'CHALLENGE': 2, 'AGAINST': 1, 'CRITICAL': 1, ...   \n",
       "2  {'CHALLENGING': 2, 'DISADVANTAGED': 1, 'FORCE'...   \n",
       "3  {'DEVASTATED': 1, 'DISRUPTED': 1, 'SUFFERED': ...   \n",
       "4  {'AGAINST': 3, 'DEVIATIONS': 1, 'FORCE': 1, 'C...   \n",
       "\n",
       "                                 positive_word_count  \\\n",
       "0  {'STRENGTHEN': 7, 'HIGHEST': 17, 'OPPORTUNITIE...   \n",
       "1  {'INCREDIBLE': 1, 'GREATEST': 2, 'ACHIEVEMENTS...   \n",
       "2  {'SUCCESSFUL': 2, 'PLEASED': 1, 'LEADING': 5, ...   \n",
       "3  {'SATISFACTION': 7, 'ADVANTAGE': 5, 'GAINS': 1...   \n",
       "4  {'TRANSPARENCY': 26, 'EFFECTIVE': 22, 'SUCCESS...   \n",
       "\n",
       "   total_negative_word_count  total_positive_word_count  ranking     industry  \\\n",
       "0                        156                        340      356     Airlines   \n",
       "1                         21                        114      388     Airlines   \n",
       "2                         81                        180      349     Airlines   \n",
       "3                        148                        203      416     Airlines   \n",
       "4                         30                        139      227  Automotives   \n",
       "\n",
       "   total_assets   roa  publicly_traded  \n",
       "0          1512 -0.07                0  \n",
       "1         42842  0.12                0  \n",
       "2        507770  0.04                1  \n",
       "3        173111  0.13                1  \n",
       "4       2858751  0.04                1  "
      ]
     },
     "execution_count": 8,
     "metadata": {},
     "output_type": "execute_result"
    }
   ],
   "source": [
    "allcv.head()"
   ]
  },
  {
   "cell_type": "markdown",
   "id": "730e5432-afe1-44ea-8dcf-4f69075d586b",
   "metadata": {
    "id": "730e5432-afe1-44ea-8dcf-4f69075d586b"
   },
   "source": [
    "# 9 Aggregate Industries"
   ]
  },
  {
   "cell_type": "code",
   "execution_count": null,
   "id": "6a4fbb12-5712-4390-85c7-409197adc52c",
   "metadata": {
    "id": "6a4fbb12-5712-4390-85c7-409197adc52c",
    "tags": []
   },
   "outputs": [],
   "source": [
    "# Load the dataset\n",
    "df = pd.read_csv('report_table_count_all_control_variables.csv')\n",
    "\n",
    "# Define the mapping of old to new classifications (i.e. 'sectors')\n",
    "industry_to_sector = {\n",
    "    \"Airlines\": \"Industrials\",\n",
    "    \"Parcel & Logistics\": \"Industrials\",\n",
    "    \"Transport\": \"Industrials\",\n",
    "    \"Automotives\": \"Consumer Discretionary\",\n",
    "    \"Clothing & Fashion Stores\": \"Consumer Discretionary\",\n",
    "    \"Clothing & Fashion Brands\": \"Consumer Discretionary\",\n",
    "    \"E-commerce\": \"Consumer Discretionary\",\n",
    "    \"Feul\": \"Consumer Discretionary\",\n",
    "    \"Furniture\": \"Consumer Discretionary\",\n",
    "    \"Gambling\": \"Consumer Discretionary\",\n",
    "    \"Hobby & Leisure\": \"Consumer Discretionary\",\n",
    "    \"Home Appliances & Electronics\": \"Consumer Discretionary\",\n",
    "    \"Hotels\": \"Consumer Discretionary\",\n",
    "    \"Restaurants\": \"Consumer Discretionary\",\n",
    "    \"Travel & Tourism\": \"Consumer Discretionary\",\n",
    "    \"Vehicle Inspection\": \"Consumer Discretionary\",\n",
    "    \"Beauty\": \"Consumer Staples\",\n",
    "    \"Beverage\": \"Consumer Staples\",\n",
    "    \"Consumer Goods\": \"Consumer Staples\",\n",
    "    \"Food\": \"Consumer Staples\",\n",
    "    \"Grocery Stores\": \"Consumer Staples\",\n",
    "    \"Tobacco\": \"Consumer Staples\",\n",
    "    \"Healthcare Providers\": \"Health Care\",\n",
    "    \"Banks\": \"Financials\",\n",
    "    \"Insurance\": \"Financials\",\n",
    "    \"Pensions\": \"Financials\",\n",
    "    \"Digital\": \"Information Technology\",\n",
    "    \"Telecommunications\": \"Communication Services\",\n",
    "    \"Electricity & Heating\": \"Utilities\",\n",
    "    \"Real Estate\": \"Real Estate\",\n",
    "}\n",
    "\n",
    "# Directly replace 'industry' column values with their corresponding 'sector', renaming back to 'industry'\n",
    "df['industry'] = df['industry'].map(industry_to_sector)\n",
    "\n",
    "# Exclude the smaller categories\n",
    "excluded_sectors = ['Utilities', 'Health Care', 'Real Estate', 'Communication Services']\n",
    "df_filtered = df[~df['industry'].isin(excluded_sectors)]\n",
    "\n",
    "# Sort the DataFrame by 'ranking'\n",
    "df_sorted = df_filtered.sort_values(by='ranking')\n",
    "\n",
    "# Save the modified DataFrame to a new CSV file named 'report_table_final.csv'\n",
    "df_sorted.to_csv('report_table_final.csv', index=False)"
   ]
  },
  {
   "cell_type": "code",
   "execution_count": null,
   "id": "ade1f6ff-7aa7-4d54-917b-2d75916396e6",
   "metadata": {
    "id": "ade1f6ff-7aa7-4d54-917b-2d75916396e6",
    "outputId": "ea5a8e8e-cef7-42cb-a792-a483a2c858e0",
    "tags": []
   },
   "outputs": [
    {
     "name": "stdout",
     "output_type": "stream",
     "text": [
      "industry\n",
      "Consumer Discretionary    79\n",
      "Consumer Staples          33\n",
      "Industrials               17\n",
      "Financials                14\n",
      "Information Technology     7\n",
      "Name: count, dtype: int64\n"
     ]
    }
   ],
   "source": [
    "# Load the dataset\n",
    "df = pd.read_csv('report_table_final.csv')\n",
    "\n",
    "# Count observations in each industry\n",
    "industry_counts = df['industry'].value_counts()\n",
    "\n",
    "# Print the counts\n",
    "print(industry_counts)"
   ]
  },
  {
   "cell_type": "markdown",
   "id": "2aeced1a-23fa-47dd-b840-4e188cc36ae8",
   "metadata": {
    "id": "2aeced1a-23fa-47dd-b840-4e188cc36ae8"
   },
   "source": [
    "# 10 Descriptive Statistics"
   ]
  },
  {
   "cell_type": "code",
   "execution_count": 2,
   "id": "a487e377-f11b-48d0-ae1b-fb8eb283924d",
   "metadata": {
    "id": "a487e377-f11b-48d0-ae1b-fb8eb283924d",
    "outputId": "7c3e9808-85b4-4593-f56f-b702af042434",
    "tags": []
   },
   "outputs": [
    {
     "name": "stdout",
     "output_type": "stream",
     "text": [
      "Total Positive Word Count: 61503\n",
      "Total Negative Word Count: 40486\n"
     ]
    }
   ],
   "source": [
    "# Load the CSV file\n",
    "df = pd.read_csv('report_table_final.csv')\n",
    "\n",
    "# String column with dict inside to dict\n",
    "df['positive_word_count'] = df.positive_word_count.map(eval)\n",
    "df['negative_word_count'] = df.negative_word_count.map(eval)\n",
    "\n",
    "# Calculate the total positive and negative word counts\n",
    "total_positive = df['total_positive_word_count'].sum()\n",
    "total_negative = df['total_negative_word_count'].sum()\n",
    "\n",
    "# Print the results\n",
    "print(f\"Total Positive Word Count: {total_positive}\")\n",
    "print(f\"Total Negative Word Count: {total_negative}\")"
   ]
  },
  {
   "cell_type": "code",
   "execution_count": null,
   "id": "6ec8a545-c56a-45cf-ba0d-06b3d2760fb5",
   "metadata": {
    "id": "6ec8a545-c56a-45cf-ba0d-06b3d2760fb5",
    "outputId": "043ab28a-3e75-42cd-81a3-233a8dc3e337",
    "tags": []
   },
   "outputs": [
    {
     "name": "stdout",
     "output_type": "stream",
     "text": [
      "Top 50 Positive Words:\n",
      "progress: 2821\n",
      "opportunities: 2682\n",
      "better: 2219\n",
      "improve: 2205\n",
      "efficiency: 2021\n",
      "good: 1968\n",
      "achieve: 1686\n",
      "leadership: 1672\n",
      "best: 1592\n",
      "positive: 1553\n",
      "collaboration: 1517\n",
      "innovation: 1433\n",
      "transparency: 1337\n",
      "efficient: 1192\n",
      "improvement: 1173\n",
      "opportunity: 1072\n",
      "leading: 1057\n",
      "able: 1050\n",
      "enable: 990\n",
      "improving: 962\n",
      "achieved: 900\n",
      "highest: 869\n",
      "integrity: 841\n",
      "strong: 785\n",
      "innovative: 738\n",
      "effective: 732\n",
      "greater: 699\n",
      "enhance: 639\n",
      "strengthen: 627\n",
      "improved: 617\n",
      "achieving: 607\n",
      "great: 603\n",
      "friendly: 601\n",
      "enabling: 594\n",
      "improvements: 594\n",
      "satisfaction: 571\n",
      "enables: 564\n",
      "success: 537\n",
      "benefit: 495\n",
      "alliance: 485\n",
      "advancing: 378\n",
      "empower: 372\n",
      "collaborate: 355\n",
      "strengthening: 340\n",
      "easy: 338\n",
      "achievements: 316\n",
      "successful: 302\n",
      "enhancing: 301\n",
      "attractive: 293\n",
      "enhanced: 287\n",
      "\n",
      "Top 50 Negative Words:\n",
      "corruption: 1494\n",
      "challenges: 1321\n",
      "against: 1033\n",
      "critical: 909\n",
      "negative: 812\n",
      "incidents: 788\n",
      "accidents: 726\n",
      "prevention: 723\n",
      "challenge: 620\n",
      "hazardous: 618\n",
      "loss: 590\n",
      "concerns: 589\n",
      "forced: 547\n",
      "force: 492\n",
      "violations: 476\n",
      "conflict: 472\n",
      "injuries: 434\n",
      "questions: 407\n",
      "harassment: 394\n",
      "incident: 391\n",
      "crisis: 369\n",
      "serious: 365\n",
      "accident: 362\n",
      "bribery: 361\n",
      "lost: 345\n",
      "claims: 302\n",
      "injury: 292\n",
      "crucial: 291\n",
      "stress: 287\n",
      "damage: 272\n",
      "breaches: 267\n",
      "preventing: 266\n",
      "challenging: 259\n",
      "lack: 256\n",
      "complaints: 255\n",
      "problems: 251\n",
      "losses: 249\n",
      "vulnerable: 247\n",
      "investigation: 245\n",
      "harmful: 239\n",
      "conflicts: 237\n",
      "difficult: 236\n",
      "concern: 234\n",
      "disclose: 233\n",
      "closed: 226\n",
      "adverse: 220\n",
      "grievance: 214\n",
      "harm: 210\n",
      "disclosed: 209\n",
      "disaster: 205\n"
     ]
    }
   ],
   "source": [
    "# Initialize counters for both negative and positive words\n",
    "total_positive_words = Counter()\n",
    "total_negative_words = Counter()\n",
    "\n",
    "# Iterate through each row in the DataFrame and update the counters\n",
    "for index, row in df.iterrows():\n",
    "    total_positive_words.update(row['positive_word_count'])\n",
    "    total_negative_words.update(row['negative_word_count'])\n",
    "\n",
    "# Find the 50 most common negative and positive words\n",
    "top_50_positive_words = total_positive_words.most_common(50)\n",
    "top_50_negative_words = total_negative_words.most_common(50)\n",
    "\n",
    "# Print the results\n",
    "print(\"Top 50 Positive Words:\")\n",
    "for word, count in top_50_positive_words:\n",
    "    print(f\"{word.lower()}: {count}\")\n",
    "\n",
    "print(\"\\nTop 50 Negative Words:\")\n",
    "for word, count in top_50_negative_words:\n",
    "    print(f\"{word.lower()}: {count}\")"
   ]
  },
  {
   "cell_type": "code",
   "execution_count": null,
   "id": "928e85ea-2675-458c-9598-467ef09cc9f1",
   "metadata": {
    "id": "928e85ea-2675-458c-9598-467ef09cc9f1",
    "outputId": "78ac841b-11cc-45fa-d9a0-a180e9c156d8",
    "tags": []
   },
   "outputs": [
    {
     "name": "stdout",
     "output_type": "stream",
     "text": [
      "Most Positive Reports:\n",
      "              report_name      tone  ranking\n",
      "22   AGRIA DJURFÖRSÄKRING  0.802469       76\n",
      "31                RITUALS  0.695652      103\n",
      "137       BRITISH AIRWAYS  0.688889      388\n",
      "126                NESTLÉ  0.686076      357\n",
      "104           BURGER KING  0.675799      299\n",
      "78                    BMW  0.644970      227\n",
      "132                  OREO  0.590288      376\n",
      "29           ELITE HOTELS  0.582090       95\n",
      "129          ACNE STUDIOS  0.575540      364\n",
      "73                  PEPSI  0.544715      216\n",
      "\n",
      "Most Negative Reports:\n",
      "      report_name      tone  ranking\n",
      "124     FILIPPA K -0.456410      354\n",
      "80            SPP -0.283276      230\n",
      "2            COOP -0.263158        9\n",
      "89   BYGGHEMMA.SE -0.254613      261\n",
      "140      EUROPCAR -0.178470      395\n",
      "115      VAGABOND -0.155894      327\n",
      "10          KIVRA -0.135135       32\n",
      "103       K-RAUTA -0.108590      298\n",
      "56             IF -0.106327      167\n",
      "82          BRING -0.099796      232\n"
     ]
    }
   ],
   "source": [
    "# Calculate 'tone'\n",
    "df['tone'] = (df['total_positive_word_count'] - df['total_negative_word_count']) / (df['total_positive_word_count'] + df['total_negative_word_count'])\n",
    "\n",
    "# Get the top 10 most positive and negative reports based on 'tone'\n",
    "most_positive_reports = df.nlargest(10, 'tone')[['report_name', 'tone', 'ranking']]\n",
    "most_negative_reports = df.nsmallest(10, 'tone')[['report_name', 'tone', 'ranking']]\n",
    "\n",
    "# Print the results\n",
    "print(\"Most Positive Reports:\")\n",
    "print(most_positive_reports)\n",
    "\n",
    "print(\"\\nMost Negative Reports:\")\n",
    "print(most_negative_reports)"
   ]
  },
  {
   "cell_type": "code",
   "execution_count": null,
   "id": "4eb6e6cd-6051-4738-a537-5331f30e4d57",
   "metadata": {
    "id": "4eb6e6cd-6051-4738-a537-5331f30e4d57",
    "outputId": "11b3cfb5-a5fd-4f0e-ba74-0a4f0c856861",
    "tags": []
   },
   "outputs": [
    {
     "name": "stdout",
     "output_type": "stream",
     "text": [
      "Mean of Tone: 0.21565629097335104\n"
     ]
    }
   ],
   "source": [
    "mean_tone = df['tone'].mean()\n",
    "print(f\"Mean of Tone: {mean_tone}\")"
   ]
  },
  {
   "cell_type": "code",
   "execution_count": null,
   "id": "ef02007a-dc28-49c3-b321-8356b7a78134",
   "metadata": {
    "id": "ef02007a-dc28-49c3-b321-8356b7a78134",
    "outputId": "197ba361-36d7-4719-a064-c30ab24c8e21",
    "tags": []
   },
   "outputs": [
    {
     "name": "stdout",
     "output_type": "stream",
     "text": [
      "SD of Tone: 0.2153997894993701\n",
      "Variance of Tone: 0.04639706931637295\n"
     ]
    }
   ],
   "source": [
    "std_deviation_tone = df['tone'].std()\n",
    "variance_tone = df['tone'].var()\n",
    "\n",
    "print(f\"SD of Tone: {std_deviation_tone}\")\n",
    "print(f\"Variance of Tone: {variance_tone}\")"
   ]
  },
  {
   "cell_type": "code",
   "execution_count": null,
   "id": "0da4561f-7b74-4d6b-86ab-7e4b955578a8",
   "metadata": {
    "id": "0da4561f-7b74-4d6b-86ab-7e4b955578a8",
    "outputId": "b0e69d42-592d-4de7-ca96-69e77502fdbb",
    "tags": []
   },
   "outputs": [
    {
     "name": "stdout",
     "output_type": "stream",
     "text": [
      "Range of Tone: 1.2588793922127255\n"
     ]
    }
   ],
   "source": [
    "range_tone = df['tone'].max() - df['tone'].min()\n",
    "\n",
    "print(f\"Range of Tone: {range_tone}\")"
   ]
  },
  {
   "cell_type": "code",
   "execution_count": null,
   "id": "a8de2e2a-812f-4b82-836a-533730cf6000",
   "metadata": {
    "id": "a8de2e2a-812f-4b82-836a-533730cf6000",
    "outputId": "5e1db46f-cd54-480b-b793-9617a996fc2a",
    "tags": []
   },
   "outputs": [
    {
     "name": "stdout",
     "output_type": "stream",
     "text": [
      "Q1: 0.05928296824496484\n",
      "Q3: 0.3576027463030536\n",
      "Interquartile Range (IQR): 0.2983197780580888\n"
     ]
    }
   ],
   "source": [
    "Q1 = df['tone'].quantile(0.25)\n",
    "Q3 = df['tone'].quantile(0.75)\n",
    "IQR = Q3 - Q1\n",
    "\n",
    "print(\"Q1:\", Q1)\n",
    "print(\"Q3:\", Q3)\n",
    "print(\"Interquartile Range (IQR):\", IQR)"
   ]
  },
  {
   "cell_type": "code",
   "execution_count": null,
   "id": "4c4c48c2-f9d8-4388-b472-70a10b818688",
   "metadata": {
    "id": "4c4c48c2-f9d8-4388-b472-70a10b818688",
    "outputId": "2d5420be-9c72-4e86-8baa-37adcacb7d8b",
    "tags": []
   },
   "outputs": [
    {
     "name": "stdout",
     "output_type": "stream",
     "text": [
      "Skewness of Tone: 0.013807135807621548\n",
      "Kurtosis of Tone: 0.2837459747413704\n"
     ]
    }
   ],
   "source": [
    "skewness_tone = df['tone'].skew()\n",
    "kurtosis_tone = df['tone'].kurtosis()\n",
    "\n",
    "print(f\"Skewness of Tone: {skewness_tone}\")\n",
    "print(f\"Kurtosis of Tone: {kurtosis_tone}\")"
   ]
  },
  {
   "cell_type": "code",
   "execution_count": null,
   "id": "b1016100-31d4-43f2-a672-dc86e208d0c4",
   "metadata": {
    "id": "b1016100-31d4-43f2-a672-dc86e208d0c4",
    "outputId": "d97b8e69-e44e-4ef8-dce9-00e69161297f",
    "tags": []
   },
   "outputs": [
    {
     "data": {
      "image/png": "[encoded data removed]",
      "text/plain": [
       "<Figure size 640x480 with 1 Axes>"
      ]
     },
     "metadata": {},
     "output_type": "display_data"
    }
   ],
   "source": [
    "# Plot the histogram\n",
    "plt.hist(df['tone'], bins=20, color='blue', edgecolor='black')\n",
    "plt.xlabel('Tone')\n",
    "plt.ylabel('Frequency')\n",
    "\n",
    "# Display the histogram\n",
    "plt.show()"
   ]
  },
  {
   "cell_type": "code",
   "execution_count": 3,
   "id": "fb608aa8-4013-4397-840a-447d2b39b93f",
   "metadata": {
    "tags": []
   },
   "outputs": [
    {
     "data": {
      "image/png": "[encoded data removed]",
      "text/plain": [
       "<Figure size 640x480 with 1 Axes>"
      ]
     },
     "metadata": {},
     "output_type": "display_data"
    }
   ],
   "source": [
    "# Plot the histogram\n",
    "plt.hist(df['ranking'], bins=418, color='blue', edgecolor='black')\n",
    "plt.xlabel('SBI Ranking')\n",
    "plt.ylabel('Frequency')\n",
    "\n",
    "# Display the histogram\n",
    "plt.show()"
   ]
  },
  {
   "cell_type": "code",
   "execution_count": null,
   "id": "8c6fc8c2-1b79-4866-b530-6124628e5cd5",
   "metadata": {
    "id": "8c6fc8c2-1b79-4866-b530-6124628e5cd5",
    "outputId": "ac0ca3fd-be00-4dc0-f8e2-1a8cbd476dab",
    "tags": []
   },
   "outputs": [
    {
     "data": {
      "image/png": "[encoded data removed]",
      "text/plain": [
       "<Figure size 1000x600 with 1 Axes>"
      ]
     },
     "metadata": {},
     "output_type": "display_data"
    }
   ],
   "source": [
    "# Create a scatter plot\n",
    "plt.figure(figsize=(10, 6))\n",
    "plt.scatter(df['ranking'], df['tone'], color='blue', alpha=0.5)\n",
    "\n",
    "# Adding titles and labels\n",
    "plt.xlabel('SBI Ranking')\n",
    "plt.ylabel('Tone')\n",
    "\n",
    "# Show the plot\n",
    "plt.grid(True)\n",
    "plt.show()"
   ]
  },
  {
   "cell_type": "code",
   "execution_count": 4,
   "id": "c2d5cd76-5543-47ea-9b33-4143fb7db49e",
   "metadata": {
    "tags": []
   },
   "outputs": [
    {
     "name": "stdout",
     "output_type": "stream",
     "text": [
      "Range of logarithmized total assets: (0.6931471805599453, 18.05320193357401)\n",
      "Range of ROA: (-1.34, 0.32)\n"
     ]
    },
    {
     "data": {
      "image/png": "[encoded data removed]",
      "text/plain": [
       "<Figure size 1200x600 with 2 Axes>"
      ]
     },
     "metadata": {},
     "output_type": "display_data"
    }
   ],
   "source": [
    "# Load the CSV file\n",
    "df = pd.read_csv('report_table_final.csv')\n",
    "\n",
    "# Convert 'roa' to string, replace commas with periods, then convert to float\n",
    "df['roa'] = df['roa'].map(lambda r: float(r.replace(',', '.')))\n",
    "\n",
    "# Apply natural logarithm to 'total_assets' and store it in a new column\n",
    "df['log_total_assets'] = np.log(df['total_assets'])\n",
    "\n",
    "# Plot the histogram for logarithmized 'total_assets'\n",
    "plt.figure(figsize=(12, 6))\n",
    "plt.subplot(1, 2, 1)  # First subplot\n",
    "plt.hist(df['log_total_assets'], bins=30, color='blue', edgecolor='black')\n",
    "plt.xlabel('Log Total Assets')\n",
    "plt.ylabel('Frequency')\n",
    "plt.title('Histogram of Logarithmized Total Assets')\n",
    "\n",
    "# Display the range of logarithmized 'total_assets'\n",
    "log_total_assets_range = (df['log_total_assets'].min(), df['log_total_assets'].max())\n",
    "print(f\"Range of logarithmized total assets: {log_total_assets_range}\")\n",
    "\n",
    "# Plot the histogram for 'roa'\n",
    "plt.subplot(1, 2, 2)  # Second subplot\n",
    "plt.hist(df['roa'], bins=30, color='green', edgecolor='black')\n",
    "plt.xlabel('Return on Assets (ROA)')\n",
    "plt.ylabel('Frequency')\n",
    "plt.title('Histogram of ROA')\n",
    "\n",
    "# Display the range of 'roa'\n",
    "roa_range = (df['roa'].min(), df['roa'].max())\n",
    "print(f\"Range of ROA: {roa_range}\")\n",
    "\n",
    "# Display the histograms\n",
    "plt.tight_layout()\n",
    "plt.show()"
   ]
  },
  {
   "cell_type": "markdown",
   "id": "3a35419e-9290-4fc1-be07-a249ae073f0e",
   "metadata": {
    "id": "3a35419e-9290-4fc1-be07-a249ae073f0e"
   },
   "source": [
    "# 11 Logarithmize Firm Size & Standardize IV"
   ]
  },
  {
   "cell_type": "code",
   "execution_count": 5,
   "id": "0940e5f1-0904-4294-b52f-1cc847aa2a5f",
   "metadata": {
    "id": "0940e5f1-0904-4294-b52f-1cc847aa2a5f",
    "tags": []
   },
   "outputs": [],
   "source": [
    "# Load the CSV file\n",
    "df = pd.read_csv('report_table_final.csv')\n",
    "\n",
    "# Create dummy variables for the sectors\n",
    "df_dummies = pd.get_dummies(df['industry'], drop_first=True)\n",
    "\n",
    "# Ensure dummy variables are in 0 and 1 format\n",
    "df_dummies = df_dummies.astype(int)\n",
    "\n",
    "# Merge the dummies back into the original DataFrame\n",
    "df = pd.concat([df, df_dummies], axis=1)\n",
    "\n",
    "sector_to_sector_renaming = {\n",
    "    \"Consumer Staples\": \"consumer_staples\",\n",
    "    \"Industrials\": \"industrials\",\n",
    "    \"Financials\": \"financials\",\n",
    "    \"Information Technology\": \"information_technology\"\n",
    "}\n",
    "\n",
    "df.rename(columns=sector_to_sector_renaming, inplace=True)\n",
    "\n",
    "# Convert 'roa' to string, replace commas with periods, then convert to float\n",
    "df['roa'] = df['roa'].map(lambda r: float(r.replace(',', '.')))\n",
    "\n",
    "# Apply natural logarithm to 'total_assets'\n",
    "df['total_assets'] = np.log(df['total_assets'])\n",
    "\n",
    "# Initialize the scaler\n",
    "scaler = StandardScaler()\n",
    "\n",
    "# List of variables to standardize, including the industry dummies and 'publicly_traded'\n",
    "vars_to_standardize = ['ranking', 'total_assets', 'roa',\n",
    "                       'consumer_staples', 'industrials', 'financials', 'information_technology', 'publicly_traded']\n",
    "\n",
    "# Standardize the variables\n",
    "df[vars_to_standardize] = scaler.fit_transform(df[vars_to_standardize])\n",
    "\n",
    "df.to_csv('report_table_transformation.csv', index=False)"
   ]
  },
  {
   "cell_type": "code",
   "execution_count": 8,
   "id": "1de623d7-5337-473d-89f3-0f7cb95481f5",
   "metadata": {
    "tags": []
   },
   "outputs": [
    {
     "data": {
      "image/png": "[encoded data removed]",
      "text/plain": [
       "<Figure size 640x480 with 1 Axes>"
      ]
     },
     "metadata": {},
     "output_type": "display_data"
    }
   ],
   "source": [
    "# Plot the histogram\n",
    "plt.hist(df['total_assets'], bins=40, color='blue', edgecolor='black')\n",
    "plt.xlabel('Total Assets (log and std.)')\n",
    "plt.ylabel('Frequency')\n",
    "\n",
    "# Display the histogram\n",
    "plt.show()"
   ]
  },
  {
   "cell_type": "markdown",
   "id": "7f86b6ac-eda2-466d-8f6f-047e10c385f8",
   "metadata": {
    "id": "7f86b6ac-eda2-466d-8f6f-047e10c385f8"
   },
   "source": [
    "# 12 Correlation Matrix"
   ]
  },
  {
   "cell_type": "code",
   "execution_count": 6,
   "id": "9fbb1c19-64e2-420d-85b1-ea2f802b0d7a",
   "metadata": {
    "tags": []
   },
   "outputs": [
    {
     "name": "stdout",
     "output_type": "stream",
     "text": [
      "Correlation Matrix:\n",
      "                          ranking  total_assets       roa  consumer_staples  \\\n",
      "ranking                 1.000000      0.264629  0.011511         -0.039583   \n",
      "total_assets            0.264629      1.000000  0.152466         -0.105555   \n",
      "roa                     0.011511      0.152466  1.000000          0.039865   \n",
      "consumer_staples       -0.039583     -0.105555  0.039865          1.000000   \n",
      "industrials             0.188205      0.033755 -0.079115         -0.189873   \n",
      "financials              0.018524      0.251403 -0.152532         -0.170396   \n",
      "information_technology -0.141975      0.070440  0.104634         -0.117502   \n",
      "publicly_traded         0.134797      0.547081  0.178387         -0.055889   \n",
      "\n",
      "                        industrials  financials  information_technology  \\\n",
      "ranking                    0.188205    0.018524               -0.141975   \n",
      "total_assets               0.033755    0.251403                0.070440   \n",
      "roa                       -0.079115   -0.152532                0.104634   \n",
      "consumer_staples          -0.189873   -0.170396               -0.117502   \n",
      "industrials                1.000000   -0.114708               -0.079101   \n",
      "financials                -0.114708    1.000000               -0.070986   \n",
      "information_technology    -0.079101   -0.070986                1.000000   \n",
      "publicly_traded           -0.000293    0.050501                0.100947   \n",
      "\n",
      "                        publicly_traded  \n",
      "ranking                        0.134797  \n",
      "total_assets                   0.547081  \n",
      "roa                            0.178387  \n",
      "consumer_staples              -0.055889  \n",
      "industrials                   -0.000293  \n",
      "financials                     0.050501  \n",
      "information_technology         0.100947  \n",
      "publicly_traded                1.000000  \n",
      "\n",
      "P-Values Matrix:\n",
      "                          ranking total_assets       roa consumer_staples  \\\n",
      "ranking                      0.0     0.001066  0.888815         0.630571   \n",
      "total_assets            0.001066          0.0  0.062519         0.198598   \n",
      "roa                     0.888815     0.062519       0.0         0.628137   \n",
      "consumer_staples        0.630571     0.198598  0.628137              0.0   \n",
      "industrials             0.021089     0.681749  0.335869         0.019954   \n",
      "financials              0.821981     0.001914  0.062404         0.037094   \n",
      "information_technology  0.083082     0.391688  0.202562         0.152136   \n",
      "publicly_traded         0.100047          0.0  0.028958         0.496947   \n",
      "\n",
      "                       industrials financials information_technology  \\\n",
      "ranking                   0.021089   0.821981               0.083082   \n",
      "total_assets              0.681749   0.001914               0.391688   \n",
      "roa                       0.335869   0.062404               0.202562   \n",
      "consumer_staples          0.019954   0.037094               0.152136   \n",
      "industrials                    0.0    0.16219               0.335957   \n",
      "financials                 0.16219        0.0               0.388017   \n",
      "information_technology    0.335957   0.388017                    0.0   \n",
      "publicly_traded           0.997158   0.539396               0.219017   \n",
      "\n",
      "                       publicly_traded  \n",
      "ranking                       0.100047  \n",
      "total_assets                       0.0  \n",
      "roa                           0.028958  \n",
      "consumer_staples              0.496947  \n",
      "industrials                   0.997158  \n",
      "financials                    0.539396  \n",
      "information_technology        0.219017  \n",
      "publicly_traded                    0.0  \n"
     ]
    }
   ],
   "source": [
    "# Load the data\n",
    "data = pd.read_csv('report_table_transformation.csv')\n",
    "\n",
    "# Select the columns of interest\n",
    "columns_of_interest = ['ranking', 'total_assets', 'roa', 'consumer_staples',\n",
    "                       'industrials', 'financials', 'information_technology', 'publicly_traded']\n",
    "data = data[columns_of_interest]\n",
    "\n",
    "# Calculate the Spearman Correlation Matrix\n",
    "correlation_matrix = data.corr(method='spearman')\n",
    "\n",
    "# Calculate the p-values for Spearman correlation\n",
    "p_values = pd.DataFrame(index=correlation_matrix.columns, columns=correlation_matrix.columns)\n",
    "for row in correlation_matrix.columns:\n",
    "    for col in correlation_matrix.columns:\n",
    "        if row == col:\n",
    "            # Diagonal values should be 1.0 correlation with a p-value of 0 (perfect correlation)\n",
    "            p_values.at[row, col] = 0.0\n",
    "        else:\n",
    "            # Calculate the Spearman correlation and p-value\n",
    "            corr, p_val = stats.spearmanr(data[row], data[col])\n",
    "            p_values.at[row, col] = p_val\n",
    "\n",
    "# Print the correlation matrix and the matrix of p-values\n",
    "print(\"Correlation Matrix:\\n\", correlation_matrix)\n",
    "print(\"\\nP-Values Matrix:\\n\", p_values)"
   ]
  },
  {
   "cell_type": "code",
   "execution_count": null,
   "id": "47a33f53-0342-4e5f-961b-38717bc49833",
   "metadata": {
    "id": "47a33f53-0342-4e5f-961b-38717bc49833",
    "outputId": "f247b88e-17dc-46f5-c651-62a9881cece1",
    "tags": []
   },
   "outputs": [
    {
     "name": "stdout",
     "output_type": "stream",
     "text": [
      "Correlation Matrix:\n",
      "                          ranking  total_assets       roa  consumer_staples  \\\n",
      "ranking                 1.000000      0.262565  0.096874         -0.040737   \n",
      "total_assets            0.262565      1.000000  0.156769         -0.108071   \n",
      "roa                     0.096874      0.156769  1.000000          0.038896   \n",
      "consumer_staples       -0.040737     -0.108071  0.038896          1.000000   \n",
      "industrials             0.190216      0.040881 -0.016453         -0.189873   \n",
      "financials              0.022258      0.250466 -0.035140         -0.170396   \n",
      "information_technology -0.142973      0.070026  0.072370         -0.117502   \n",
      "publicly_traded         0.138623      0.529409  0.106344         -0.055889   \n",
      "\n",
      "                        industrials  financials  information_technology  \\\n",
      "ranking                    0.190216    0.022258               -0.142973   \n",
      "total_assets               0.040881    0.250466                0.070026   \n",
      "roa                       -0.016453   -0.035140                0.072370   \n",
      "consumer_staples          -0.189873   -0.170396               -0.117502   \n",
      "industrials                1.000000   -0.114708               -0.079101   \n",
      "financials                -0.114708    1.000000               -0.070986   \n",
      "information_technology    -0.079101   -0.070986                1.000000   \n",
      "publicly_traded           -0.000293    0.050501                0.100947   \n",
      "\n",
      "                        publicly_traded  \n",
      "ranking                        0.138623  \n",
      "total_assets                   0.529409  \n",
      "roa                            0.106344  \n",
      "consumer_staples              -0.055889  \n",
      "industrials                   -0.000293  \n",
      "financials                     0.050501  \n",
      "information_technology         0.100947  \n",
      "publicly_traded                1.000000  \n",
      "\n",
      "P-Values Matrix:\n",
      "                          ranking total_assets       roa consumer_staples  \\\n",
      "ranking                      0.0      0.00117  0.238277         0.620631   \n",
      "total_assets             0.00117          0.0  0.055388         0.188046   \n",
      "roa                     0.238277     0.055388       0.0         0.636522   \n",
      "consumer_staples        0.620631     0.188046  0.636522              0.0   \n",
      "industrials             0.019727     0.619392  0.841611         0.019954   \n",
      "financials              0.786886     0.001993  0.669449         0.037094   \n",
      "information_technology  0.080917     0.394485  0.378813         0.152136   \n",
      "publicly_traded         0.090694          0.0  0.195243         0.496947   \n",
      "\n",
      "                       industrials financials information_technology  \\\n",
      "ranking                   0.019727   0.786886               0.080917   \n",
      "total_assets              0.619392   0.001993               0.394485   \n",
      "roa                       0.841611   0.669449               0.378813   \n",
      "consumer_staples          0.019954   0.037094               0.152136   \n",
      "industrials                    0.0    0.16219               0.335957   \n",
      "financials                 0.16219        0.0               0.388017   \n",
      "information_technology    0.335957   0.388017                    0.0   \n",
      "publicly_traded           0.997158   0.539396               0.219017   \n",
      "\n",
      "                       publicly_traded  \n",
      "ranking                       0.090694  \n",
      "total_assets                       0.0  \n",
      "roa                           0.195243  \n",
      "consumer_staples              0.496947  \n",
      "industrials                   0.997158  \n",
      "financials                    0.539396  \n",
      "information_technology        0.219017  \n",
      "publicly_traded                    0.0  \n"
     ]
    },
    {
     "name": "stderr",
     "output_type": "stream",
     "text": [
      "/tmp/ipykernel_110/877197674.py:16: FutureWarning: ChainedAssignmentError: behaviour will change in pandas 3.0!\n",
      "You are setting values through chained assignment. Currently this works in certain cases, but when using Copy-on-Write (which will become the default behaviour in pandas 3.0) this will never work to update the original DataFrame or Series, because the intermediate object on which we are setting values will behave as a copy.\n",
      "A typical example is when you are setting values in a column of a DataFrame, like:\n",
      "\n",
      "df[\"col\"][row_indexer] = value\n",
      "\n",
      "Use `df.loc[row_indexer, \"col\"] = values` instead, to perform the assignment in a single step and ensure this keeps updating the original `df`.\n",
      "\n",
      "See the caveats in the documentation: https://pandas.pydata.org/pandas-docs/stable/user_guide/indexing.html#returning-a-view-versus-a-copy\n",
      "\n",
      "  p_values[row][col] = stats.pearsonr(data[row], data[col])[1]\n"
     ]
    }
   ],
   "source": [
    "# Load the data\n",
    "data = pd.read_csv('report_table_transformation.csv')\n",
    "\n",
    "# Select the columns of interest\n",
    "columns_of_interest = ['ranking', 'total_assets', 'roa', 'consumer_staples',\n",
    "                       'industrials', 'financials', 'information_technology', 'publicly_traded']\n",
    "data = data[columns_of_interest]\n",
    "\n",
    "# Calculate the Pearson Correlation Matrix\n",
    "correlation_matrix = data.corr(method='pearson')\n",
    "\n",
    "# Calculate the p-values\n",
    "p_values = pd.DataFrame(index=correlation_matrix.columns, columns=correlation_matrix.columns)\n",
    "for row in correlation_matrix.columns:\n",
    "    for col in correlation_matrix.columns:\n",
    "        p_values[row][col] = stats.pearsonr(data[row], data[col])[1]\n",
    "\n",
    "# Print the correlation matrix and the matrix of p-values\n",
    "print(\"Correlation Matrix:\\n\", correlation_matrix)\n",
    "print(\"\\nP-Values Matrix:\\n\", p_values)"
   ]
  },
  {
   "cell_type": "markdown",
   "id": "aa96decf-7bee-4326-8988-289669471a16",
   "metadata": {
    "id": "aa96decf-7bee-4326-8988-289669471a16"
   },
   "source": [
    "# 13 Regression"
   ]
  },
  {
   "cell_type": "code",
   "execution_count": 2,
   "id": "8a7e560e-17eb-4f9d-a237-13f3cf73f1e0",
   "metadata": {
    "id": "8a7e560e-17eb-4f9d-a237-13f3cf73f1e0",
    "tags": []
   },
   "outputs": [],
   "source": [
    "# Load the CSV file\n",
    "df = pd.read_csv('report_table_transformation.csv')\n",
    "\n",
    "# Calculate 'tone'\n",
    "df['tone'] = (df['total_positive_word_count'] - df['total_negative_word_count']) / (df['total_positive_word_count'] + df['total_negative_word_count'])"
   ]
  },
  {
   "cell_type": "code",
   "execution_count": 3,
   "id": "46350c33-694d-4c0e-ab94-47d68ca770cf",
   "metadata": {
    "id": "46350c33-694d-4c0e-ab94-47d68ca770cf",
    "outputId": "c0857885-bac8-42c3-aca9-1a5d33ae188e",
    "tags": []
   },
   "outputs": [
    {
     "name": "stdout",
     "output_type": "stream",
     "text": [
      "Control Model Summary:\n",
      "                            OLS Regression Results                            \n",
      "==============================================================================\n",
      "Dep. Variable:                   tone   R-squared:                       0.067\n",
      "Model:                            OLS   Adj. R-squared:                  0.021\n",
      "Method:                 Least Squares   F-statistic:                     1.459\n",
      "Date:                Sat, 27 Apr 2024   Prob (F-statistic):              0.187\n",
      "Time:                        19:42:08   Log-Likelihood:                 23.159\n",
      "No. Observations:                 150   AIC:                            -30.32\n",
      "Df Residuals:                     142   BIC:                            -6.233\n",
      "Df Model:                           7                                         \n",
      "Covariance Type:            nonrobust                                         \n",
      "==========================================================================================\n",
      "                             coef    std err          t      P>|t|      [0.025      0.975]\n",
      "------------------------------------------------------------------------------------------\n",
      "const                      0.2157      0.017     12.394      0.000       0.181       0.250\n",
      "total_assets               0.0324      0.022      1.504      0.135      -0.010       0.075\n",
      "roa                        0.0134      0.018      0.753      0.453      -0.022       0.048\n",
      "consumer_staples           0.0267      0.018      1.455      0.148      -0.010       0.063\n",
      "industrials               -0.0052      0.018     -0.285      0.776      -0.041       0.031\n",
      "financials                -0.0101      0.019     -0.539      0.591      -0.047       0.027\n",
      "information_technology     0.0073      0.018      0.409      0.683      -0.028       0.043\n",
      "publicly_traded            0.0188      0.021      0.911      0.364      -0.022       0.060\n",
      "==============================================================================\n",
      "Omnibus:                        1.781   Durbin-Watson:                   2.085\n",
      "Prob(Omnibus):                  0.411   Jarque-Bera (JB):                1.333\n",
      "Skew:                           0.168   Prob(JB):                        0.514\n",
      "Kurtosis:                       3.316   Cond. No.                         2.02\n",
      "==============================================================================\n",
      "\n",
      "Notes:\n",
      "[1] Standard Errors assume that the covariance matrix of the errors is correctly specified.\n",
      "\n",
      "Residual Sum of Squares (RSS) of the control model: 6.4493088363939926\n"
     ]
    }
   ],
   "source": [
    "# Define independent variables for the control model (including the industry dummies but excluding 'Consumer Discretionary')\n",
    "control_vars = ['total_assets', 'roa',\n",
    "                'consumer_staples', 'industrials', 'financials', 'information_technology', 'publicly_traded']\n",
    "X_control = df[control_vars]\n",
    "y = df['tone']\n",
    "\n",
    "# Add a constant to the control model (intercept)\n",
    "X_control = sm.add_constant(X_control)\n",
    "\n",
    "# Fit the OLS model for the control variables\n",
    "model_control = sm.OLS(y, X_control).fit()\n",
    "\n",
    "# Get the residuals from the control model\n",
    "residuals_control = model_control.resid\n",
    "\n",
    "# Calculate the residual sum of squares (RSS)\n",
    "rss = np.sum(residuals_control ** 2)\n",
    "\n",
    "# Print out the summary of the control model\n",
    "print(\"Control Model Summary:\")\n",
    "print(model_control.summary())\n",
    "\n",
    "# Print out the RSS\n",
    "print(\"\\nResidual Sum of Squares (RSS) of the control model:\", rss)"
   ]
  },
  {
   "cell_type": "code",
   "execution_count": 4,
   "id": "328e8bde-2b6b-4e01-bd91-028387575088",
   "metadata": {
    "id": "328e8bde-2b6b-4e01-bd91-028387575088",
    "outputId": "4fa057fc-48af-4caa-c76a-7a57d2f2c1c7",
    "tags": []
   },
   "outputs": [
    {
     "name": "stdout",
     "output_type": "stream",
     "text": [
      "\n",
      "Full Model Summary:\n",
      "                            OLS Regression Results                            \n",
      "==============================================================================\n",
      "Dep. Variable:                   tone   R-squared:                       0.075\n",
      "Model:                            OLS   Adj. R-squared:                  0.023\n",
      "Method:                 Least Squares   F-statistic:                     1.432\n",
      "Date:                Sat, 27 Apr 2024   Prob (F-statistic):              0.188\n",
      "Time:                        19:42:10   Log-Likelihood:                 23.810\n",
      "No. Observations:                 150   AIC:                            -29.62\n",
      "Df Residuals:                     141   BIC:                            -2.524\n",
      "Df Model:                           8                                         \n",
      "Covariance Type:            nonrobust                                         \n",
      "==========================================================================================\n",
      "                             coef    std err          t      P>|t|      [0.025      0.975]\n",
      "------------------------------------------------------------------------------------------\n",
      "const                      0.2157      0.017     12.404      0.000       0.181       0.250\n",
      "ranking                   -0.0207      0.019     -1.109      0.269      -0.057       0.016\n",
      "total_assets               0.0378      0.022      1.710      0.089      -0.006       0.081\n",
      "roa                        0.0148      0.018      0.831      0.407      -0.020       0.050\n",
      "consumer_staples           0.0265      0.018      1.446      0.150      -0.010       0.063\n",
      "industrials               -0.0018      0.018     -0.098      0.922      -0.038       0.034\n",
      "financials                -0.0108      0.019     -0.577      0.565      -0.048       0.026\n",
      "information_technology     0.0041      0.018      0.224      0.823      -0.032       0.040\n",
      "publicly_traded            0.0191      0.021      0.924      0.357      -0.022       0.060\n",
      "==============================================================================\n",
      "Omnibus:                        1.959   Durbin-Watson:                   2.099\n",
      "Prob(Omnibus):                  0.376   Jarque-Bera (JB):                1.503\n",
      "Skew:                           0.199   Prob(JB):                        0.472\n",
      "Kurtosis:                       3.285   Cond. No.                         2.11\n",
      "==============================================================================\n",
      "\n",
      "Notes:\n",
      "[1] Standard Errors assume that the covariance matrix of the errors is correctly specified.\n",
      "\n",
      "Residual Sum of Squares (RSS) of the full model: 6.393560636953961\n",
      "\n",
      "Mean Squared Error (MSE) of the residuals: 0.045344401680524546\n"
     ]
    }
   ],
   "source": [
    "# Define independent variables for the full model by adding 'ranking'\n",
    "full_vars = ['ranking']  + control_vars  # Adding 'ranking' to the control variables\n",
    "X_full = df[full_vars]\n",
    "\n",
    "# Add a constant to the full model (intercept)\n",
    "X_full = sm.add_constant(X_full)\n",
    "\n",
    "# Fit the OLS model for the full model\n",
    "model_full = sm.OLS(y, X_full).fit()\n",
    "\n",
    "# Get the residuals from the full model\n",
    "residuals_full = model_full.resid\n",
    "\n",
    "# Calculate the residual sum of squares (RSS)\n",
    "rss = np.sum(residuals_full ** 2)\n",
    "\n",
    "# Get the MSE from the model results\n",
    "mse = model_full.mse_resid\n",
    "\n",
    "# Print out the summary of the full model\n",
    "print(\"\\nFull Model Summary:\")\n",
    "print(model_full.summary())\n",
    "\n",
    "# Print out the RSS\n",
    "print(\"\\nResidual Sum of Squares (RSS) of the full model:\", rss)\n",
    "\n",
    "# Print out the MSE\n",
    "print(\"\\nMean Squared Error (MSE) of the residuals:\", mse)"
   ]
  },
  {
   "cell_type": "code",
   "execution_count": 5,
   "id": "b0bd0da1-0f80-4e47-869f-71cec5cd410f",
   "metadata": {
    "id": "b0bd0da1-0f80-4e47-869f-71cec5cd410f",
    "outputId": "8f33fd77-2d39-424d-ff10-578f539989f4",
    "tags": []
   },
   "outputs": [
    {
     "name": "stdout",
     "output_type": "stream",
     "text": [
      "Calculated F-statistic: 1.2294395200714678, p-value: 0.2694037300392218\n",
      "Adding 'ranking' does not significantly improve the model's explanatory power.\n"
     ]
    }
   ],
   "source": [
    "# Calculate the F-statistic without using built-in functions\n",
    "rss_full = model_full.ssr  # Residual sum of squares for the full model\n",
    "rss_control = model_control.ssr  # Residual sum of squares for the control model\n",
    "df_full = model_full.df_resid  # Degrees of freedom for the full model residuals\n",
    "df_control = model_control.df_resid  # Degrees of freedom for the control model residuals\n",
    "\n",
    "# Number of parameters added\n",
    "num_params_added = df_control - df_full\n",
    "\n",
    "# Calculate F-statistic\n",
    "f_stat_custom = ((rss_control - rss_full) / num_params_added) / (rss_full / df_full)\n",
    "\n",
    "# Calculate p-value using the F-distribution\n",
    "p_value_custom = 1 - f.cdf(f_stat_custom, num_params_added, df_full)\n",
    "\n",
    "# Print F-statistic and p-value\n",
    "print(f\"Calculated F-statistic: {f_stat_custom}, p-value: {p_value_custom}\")\n",
    "\n",
    "# Interpret the F-test results\n",
    "if p_value_custom < 0.05:\n",
    "    print(\"Adding 'ranking' significantly improves the model, indicating it's a significant predictor of 'tone'.\")\n",
    "else:\n",
    "    print(\"Adding 'ranking' does not significantly improve the model's explanatory power.\")"
   ]
  },
  {
   "cell_type": "code",
   "execution_count": 6,
   "id": "5f607dd8-45a5-4489-84f8-4a8d590fb71a",
   "metadata": {
    "id": "5f607dd8-45a5-4489-84f8-4a8d590fb71a",
    "outputId": "194df715-905d-454c-a3e5-3796e901fe3c",
    "tags": []
   },
   "outputs": [
    {
     "name": "stdout",
     "output_type": "stream",
     "text": [
      "Critical F-value: 3.908258110753643\n"
     ]
    }
   ],
   "source": [
    "# Significance level (alpha)\n",
    "alpha = 0.05\n",
    "\n",
    "# Degrees of freedom for the numerator (the number of additional predictors)\n",
    "dfn = 1\n",
    "\n",
    "# Degrees of freedom for the denominator (total observations minus the number of parameters in the full model)\n",
    "dfd = 150 - 8 - 1\n",
    "\n",
    "# Calculate the critical F-value\n",
    "critical_f_value = f.ppf(1 - alpha, dfn, dfd)\n",
    "\n",
    "print(\"Critical F-value:\", critical_f_value)"
   ]
  },
  {
   "cell_type": "code",
   "execution_count": null,
   "id": "1e6adad6-ba77-4739-91c6-927fadd463b5",
   "metadata": {
    "id": "1e6adad6-ba77-4739-91c6-927fadd463b5",
    "outputId": "a18580ef-dc7e-4e8d-e581-566dbf85a5b6",
    "tags": []
   },
   "outputs": [
    {
     "name": "stdout",
     "output_type": "stream",
     "text": [
      "Critical t-value: 1.9769314886210219\n"
     ]
    }
   ],
   "source": [
    "# Significance level (alpha) for a two-tailed test\n",
    "alpha = 0.05\n",
    "\n",
    "# Degrees of freedom for the t-distribution\n",
    "dfd = 150-8-1\n",
    "\n",
    "# Calculate the critical t-value for a two-tailed test\n",
    "critical_t_value = t.ppf(1 - alpha/2, dfd)\n",
    "\n",
    "print(\"Critical t-value:\", critical_t_value)"
   ]
  },
  {
   "cell_type": "code",
   "execution_count": null,
   "id": "5f5cda57-a615-42be-90a7-37a60860ec86",
   "metadata": {
    "id": "5f5cda57-a615-42be-90a7-37a60860ec86",
    "outputId": "04232e97-502f-49f3-ea07-fc0c556e04f9",
    "tags": []
   },
   "outputs": [
    {
     "data": {
      "image/png": "[encoded data removed]",
      "text/plain": [
       "<Figure size 1000x600 with 1 Axes>"
      ]
     },
     "metadata": {},
     "output_type": "display_data"
    }
   ],
   "source": [
    "# Predict 'tone' using the full model\n",
    "predicted_vals_full = model_full.predict(X_full)\n",
    "\n",
    "# Plot actual vs predicted values for the full model\n",
    "plt.figure(figsize=(10, 6))\n",
    "sns.scatterplot(x=y, y=predicted_vals_full, alpha=0.5)  # Actual vs. Predicted 'tone'\n",
    "plt.plot([y.min(), y.max()], [y.min(), y.max()], 'k--', lw=2)  # Reference line for perfect predictions\n",
    "plt.xlabel('Actual Tone')\n",
    "plt.ylabel('Predicted Tone')\n",
    "plt.grid(True)\n",
    "plt.show()"
   ]
  },
  {
   "cell_type": "markdown",
   "id": "bf389a17-4a42-414a-a2ed-1a4e9b8f9e76",
   "metadata": {
    "id": "bf389a17-4a42-414a-a2ed-1a4e9b8f9e76"
   },
   "source": [
    "# 14 Diagnostics"
   ]
  },
  {
   "cell_type": "code",
   "execution_count": null,
   "id": "8acd801e-8cbc-4675-b970-7b838c2c566e",
   "metadata": {
    "id": "8acd801e-8cbc-4675-b970-7b838c2c566e",
    "outputId": "dc108c17-7942-4441-c467-fa1aaab2629e",
    "tags": []
   },
   "outputs": [
    {
     "data": {
      "image/png": "[encoded data removed]",
      "text/plain": [
       "<Figure size 1000x600 with 1 Axes>"
      ]
     },
     "metadata": {},
     "output_type": "display_data"
    }
   ],
   "source": [
    "# Get the residuals and fitted values from the full model\n",
    "residuals_full = model_full.resid\n",
    "fitted_vals_full = model_full.fittedvalues\n",
    "\n",
    "# Plot residuals vs fitted values for the full model\n",
    "plt.figure(figsize=(10, 6))\n",
    "sns.residplot(x=fitted_vals_full, y=residuals_full, lowess=True,\n",
    "              line_kws={'color': 'red', 'lw': 2, 'alpha': 0.8})\n",
    "plt.xlabel('Fitted Values')\n",
    "plt.ylabel('Residuals')\n",
    "plt.show()"
   ]
  },
  {
   "cell_type": "code",
   "execution_count": null,
   "id": "a4caef88-c8fa-4b65-a5fa-e1e89427ad74",
   "metadata": {
    "id": "a4caef88-c8fa-4b65-a5fa-e1e89427ad74",
    "outputId": "cab61ac7-8df5-4ded-d3bf-bd84969a013a",
    "tags": []
   },
   "outputs": [
    {
     "name": "stdout",
     "output_type": "stream",
     "text": [
      "<F test: F=0.745786588609246, p=0.4762494231220029, df_denom=139, df_num=2>\n"
     ]
    }
   ],
   "source": [
    "# Perform the Ramsey RESET test\n",
    "reset_test = linear_reset(model_full, power=3, use_f=True)\n",
    "\n",
    "print(reset_test)"
   ]
  },
  {
   "cell_type": "code",
   "execution_count": null,
   "id": "c33bea68-29b3-400c-aed8-c563c580b2c4",
   "metadata": {
    "id": "c33bea68-29b3-400c-aed8-c563c580b2c4",
    "outputId": "b118e8bd-95f5-43fa-c0ec-ffc8692839d0",
    "tags": []
   },
   "outputs": [
    {
     "name": "stdout",
     "output_type": "stream",
     "text": [
      "Breusch-Pagan test results:\n",
      "{'BP Statistic': 9.604868289914336, 'BP Test p-value': 0.29386084786674077}\n"
     ]
    }
   ],
   "source": [
    "# Perform the Breusch-Pagan test\n",
    "bp_test_full = het_breuschpagan(residuals_full, X_full)\n",
    "\n",
    "# Print the results for the full model\n",
    "labels = ['BP Statistic', 'BP Test p-value']\n",
    "print(\"Breusch-Pagan test results:\")\n",
    "print(dict(zip(labels, bp_test_full[:2])))"
   ]
  },
  {
   "cell_type": "code",
   "execution_count": null,
   "id": "097765dc-8401-48d6-92e5-5fc24fafab9b",
   "metadata": {
    "id": "097765dc-8401-48d6-92e5-5fc24fafab9b",
    "outputId": "81f4786c-6557-4068-c5b3-a064fb9c715c",
    "tags": []
   },
   "outputs": [
    {
     "data": {
      "image/png": "[encoded data removed]",
      "text/plain": [
       "<Figure size 640x480 with 1 Axes>"
      ]
     },
     "metadata": {},
     "output_type": "display_data"
    }
   ],
   "source": [
    "# Create a Q-Q plot for the full model residuals\n",
    "fig = sm.qqplot(residuals_full, line='45', fit=True)\n",
    "plt.show()"
   ]
  },
  {
   "cell_type": "code",
   "execution_count": null,
   "id": "9f2abe25-9118-4c36-9ab3-2741dc293c7c",
   "metadata": {
    "id": "9f2abe25-9118-4c36-9ab3-2741dc293c7c",
    "outputId": "012d7180-335d-438d-cd38-e9cc3db0b702",
    "tags": []
   },
   "outputs": [
    {
     "name": "stdout",
     "output_type": "stream",
     "text": [
      "Kolmogorov-Smirnov statistic: 0.04095851444859999\n",
      "P-value: 0.9539731785755263\n"
     ]
    }
   ],
   "source": [
    "# Standardize the residuals\n",
    "residuals_standardized_full = (residuals_full - residuals_full.mean()) / residuals_full.std()\n",
    "\n",
    "# Perform the Kolmogorov-Smirnov test for normality on the standardized residuals\n",
    "ks_statistic_full, ks_pvalue_full = stats.kstest(residuals_standardized_full, 'norm')\n",
    "\n",
    "print(f'Kolmogorov-Smirnov statistic: {ks_statistic_full}')\n",
    "print(f'P-value: {ks_pvalue_full}')"
   ]
  },
  {
   "cell_type": "code",
   "execution_count": 5,
   "id": "30da3f92-cb40-4b42-8cd2-9ab606db45f1",
   "metadata": {
    "id": "30da3f92-cb40-4b42-8cd2-9ab606db45f1",
    "tags": []
   },
   "outputs": [
    {
     "name": "stdout",
     "output_type": "stream",
     "text": [
      "                  Feature       VIF\n",
      "0                   const  1.000000\n",
      "1                 ranking  1.148134\n",
      "2            total_assets  1.612929\n",
      "3                     roa  1.043553\n",
      "4        consumer_staples  1.110473\n",
      "5             industrials  1.114828\n",
      "6              financials  1.156533\n",
      "7  information_technology  1.082457\n",
      "8         publicly_traded  1.412091\n",
      "Mean VIF: 1.186777554776754\n"
     ]
    }
   ],
   "source": [
    "# Calculate VIF for each independent variable\n",
    "vif_data_full = pd.DataFrame()\n",
    "vif_data_full['Feature'] = X_full.columns\n",
    "vif_data_full['VIF'] = [variance_inflation_factor(X_full.values, i) for i in range(X_full.shape[1])]\n",
    "\n",
    "# Display the VIF results\n",
    "print(vif_data_full)\n",
    "\n",
    "# Calculate and display the mean VIF\n",
    "mean_vif = vif_data_full['VIF'].mean()\n",
    "print(\"Mean VIF:\", mean_vif)"
   ]
  },
  {
   "cell_type": "code",
   "execution_count": null,
   "id": "16f8c6a6-8c07-4ab4-80de-41c2599fd3f1",
   "metadata": {},
   "outputs": [],
   "source": [
    "sns.set(style=\"whitegrid\")\n",
    "\n",
    "# Scatter plot with Lowess Curve\n",
    "sns.lmplot(x='ranking', y='tone', data=df, lowess=True, aspect=2, line_kws={'color': 'red'})\n",
    "plt.title('Scatter Plot with Lowess Curve for Tone vs Ranking')\n",
    "plt.show()"
   ]
  },
  {
   "cell_type": "code",
   "execution_count": null,
   "id": "12edc83a-3013-4e0b-b36a-6144e6752a7b",
   "metadata": {},
   "outputs": [],
   "source": [
    "# Plot residuals\n",
    "plt.scatter(df['ranking'], residuals_full)\n",
    "plt.axhline(y=0, color='red', linestyle='--')\n",
    "plt.xlabel('SBI Ranking')\n",
    "plt.ylabel('Residuals')\n",
    "plt.title('Residuals vs. SBI Ranking')\n",
    "plt.show()"
   ]
  },
  {
   "cell_type": "code",
   "execution_count": null,
   "id": "0f253ba6-9ce7-4bdb-8163-fbc0f7c0a4bd",
   "metadata": {},
   "outputs": [],
   "source": [
    "# Bin the 'ranking' variable\n",
    "df['ranking_bins'] = pd.cut(df['ranking'], bins=10)\n",
    "bin_means = df.groupby('ranking_bins')['tone'].mean()\n",
    "\n",
    "# Plot the bin means\n",
    "bin_means.plot(kind='bar')\n",
    "plt.xlabel('Ranking Bins')\n",
    "plt.ylabel('Average Tone')\n",
    "plt.title('Average Tone by Ranking Bins')\n",
    "plt.show()"
   ]
  },
  {
   "cell_type": "code",
   "execution_count": null,
   "id": "8ed70cce-bc91-40e2-9242-9f4a20b166dc",
   "metadata": {},
   "outputs": [],
   "source": []
  }
 ],
 "metadata": {
  "colab": {
   "provenance": [],
   "toc_visible": true
  },
  "kernelspec": {
   "display_name": "default:Python",
   "language": "python",
   "name": "conda-env-default-py"
  },
  "language_info": {
   "codemirror_mode": {
    "name": "ipython",
    "version": 3
   },
   "file_extension": ".py",
   "mimetype": "text/x-python",
   "name": "python",
   "nbconvert_exporter": "python",
   "pygments_lexer": "ipython3",
   "version": "3.9.16"
  }
 },
 "nbformat": 4,
 "nbformat_minor": 5
}
